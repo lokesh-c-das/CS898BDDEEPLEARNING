{
 "cells": [
  {
   "cell_type": "code",
   "execution_count": 26,
   "metadata": {},
   "outputs": [
    {
     "name": "stdout",
     "output_type": "stream",
     "text": [
      "Requirement already satisfied: scikit-image in c:\\users\\yibor\\appdata\\local\\anaconda3\\envs\\myenv\\lib\\site-packages (0.24.0)\n",
      "Requirement already satisfied: numpy>=1.23 in c:\\users\\yibor\\appdata\\local\\anaconda3\\envs\\myenv\\lib\\site-packages (from scikit-image) (1.23.5)\n",
      "Requirement already satisfied: scipy>=1.9 in c:\\users\\yibor\\appdata\\local\\anaconda3\\envs\\myenv\\lib\\site-packages (from scikit-image) (1.13.1)\n",
      "Requirement already satisfied: networkx>=2.8 in c:\\users\\yibor\\appdata\\local\\anaconda3\\envs\\myenv\\lib\\site-packages (from scikit-image) (3.2.1)\n",
      "Requirement already satisfied: pillow>=9.1 in c:\\users\\yibor\\appdata\\local\\anaconda3\\envs\\myenv\\lib\\site-packages (from scikit-image) (10.4.0)\n",
      "Requirement already satisfied: imageio>=2.33 in c:\\users\\yibor\\appdata\\local\\anaconda3\\envs\\myenv\\lib\\site-packages (from scikit-image) (2.36.0)\n",
      "Requirement already satisfied: tifffile>=2022.8.12 in c:\\users\\yibor\\appdata\\local\\anaconda3\\envs\\myenv\\lib\\site-packages (from scikit-image) (2024.8.30)\n",
      "Requirement already satisfied: packaging>=21 in c:\\users\\yibor\\appdata\\local\\anaconda3\\envs\\myenv\\lib\\site-packages (from scikit-image) (24.1)\n",
      "Requirement already satisfied: lazy-loader>=0.4 in c:\\users\\yibor\\appdata\\local\\anaconda3\\envs\\myenv\\lib\\site-packages (from scikit-image) (0.4)\n",
      "Requirement already satisfied: torchmetrics in c:\\users\\yibor\\appdata\\local\\anaconda3\\envs\\myenv\\lib\\site-packages (1.4.3)\n",
      "Requirement already satisfied: numpy>1.20.0 in c:\\users\\yibor\\appdata\\local\\anaconda3\\envs\\myenv\\lib\\site-packages (from torchmetrics) (1.23.5)\n",
      "Requirement already satisfied: packaging>17.1 in c:\\users\\yibor\\appdata\\local\\anaconda3\\envs\\myenv\\lib\\site-packages (from torchmetrics) (24.1)\n",
      "Requirement already satisfied: torch>=1.10.0 in c:\\users\\yibor\\appdata\\local\\anaconda3\\envs\\myenv\\lib\\site-packages (from torchmetrics) (2.4.1+cu124)\n",
      "Requirement already satisfied: lightning-utilities>=0.8.0 in c:\\users\\yibor\\appdata\\local\\anaconda3\\envs\\myenv\\lib\\site-packages (from torchmetrics) (0.11.8)\n",
      "Requirement already satisfied: setuptools in c:\\users\\yibor\\appdata\\local\\anaconda3\\envs\\myenv\\lib\\site-packages (from lightning-utilities>=0.8.0->torchmetrics) (72.1.0)\n",
      "Requirement already satisfied: typing-extensions in c:\\users\\yibor\\appdata\\local\\anaconda3\\envs\\myenv\\lib\\site-packages (from lightning-utilities>=0.8.0->torchmetrics) (4.11.0)\n",
      "Requirement already satisfied: filelock in c:\\users\\yibor\\appdata\\local\\anaconda3\\envs\\myenv\\lib\\site-packages (from torch>=1.10.0->torchmetrics) (3.13.1)\n",
      "Requirement already satisfied: sympy in c:\\users\\yibor\\appdata\\local\\anaconda3\\envs\\myenv\\lib\\site-packages (from torch>=1.10.0->torchmetrics) (1.12)\n",
      "Requirement already satisfied: networkx in c:\\users\\yibor\\appdata\\local\\anaconda3\\envs\\myenv\\lib\\site-packages (from torch>=1.10.0->torchmetrics) (3.2.1)\n",
      "Requirement already satisfied: jinja2 in c:\\users\\yibor\\appdata\\local\\anaconda3\\envs\\myenv\\lib\\site-packages (from torch>=1.10.0->torchmetrics) (3.1.3)\n",
      "Requirement already satisfied: fsspec in c:\\users\\yibor\\appdata\\local\\anaconda3\\envs\\myenv\\lib\\site-packages (from torch>=1.10.0->torchmetrics) (2024.2.0)\n",
      "Requirement already satisfied: MarkupSafe>=2.0 in c:\\users\\yibor\\appdata\\local\\anaconda3\\envs\\myenv\\lib\\site-packages (from jinja2->torch>=1.10.0->torchmetrics) (2.1.5)\n",
      "Requirement already satisfied: mpmath>=0.19 in c:\\users\\yibor\\appdata\\local\\anaconda3\\envs\\myenv\\lib\\site-packages (from sympy->torch>=1.10.0->torchmetrics) (1.3.0)\n"
     ]
    }
   ],
   "source": [
    "!pip install scikit-image\n",
    "!pip install torchmetrics\n"
   ]
  },
  {
   "cell_type": "code",
   "execution_count": 1,
   "metadata": {},
   "outputs": [],
   "source": [
    "import torch\n",
    "import torch.nn as nn\n",
    "import torch.optim as optim\n",
    "from torchvision import datasets, transforms\n",
    "import torch.utils.data as data\n"
   ]
  },
  {
   "cell_type": "code",
   "execution_count": 28,
   "metadata": {},
   "outputs": [],
   "source": [
    "from torch.utils.data import Dataset\n",
    "from PIL import Image\n",
    "import os\n",
    "\n",
    "class DenoisingDataset(Dataset):\n",
    "    def __init__(self, noisy_dir, clean_dir, transform=None):\n",
    "        self.noisy_dir = noisy_dir\n",
    "        self.clean_dir = clean_dir\n",
    "        self.noisy_images = os.listdir(noisy_dir)\n",
    "        self.clean_images = os.listdir(clean_dir)\n",
    "        self.transform = transform\n",
    "\n",
    "        # Ensure the length of noisy and clean images matches\n",
    "        assert len(self.noisy_images) == len(self.clean_images), \"Mismatch between noisy and clean images\"\n",
    "\n",
    "    def __len__(self):\n",
    "        return len(self.noisy_images)\n",
    "\n",
    "    def __getitem__(self, idx):\n",
    "        # Get the file names\n",
    "        noisy_image_name = self.noisy_images[idx]\n",
    "        clean_image_name = self.clean_images[idx]\n",
    "\n",
    "        # Load noisy and clean images\n",
    "        noisy_image_path = os.path.join(self.noisy_dir, noisy_image_name)\n",
    "        clean_image_path = os.path.join(self.clean_dir, clean_image_name)\n",
    "\n",
    "        noisy_image = Image.open(noisy_image_path).convert(\"RGB\")\n",
    "        clean_image = Image.open(clean_image_path).convert(\"RGB\")\n",
    "\n",
    "        if self.transform:\n",
    "            noisy_image = self.transform(noisy_image)\n",
    "            clean_image = self.transform(clean_image)\n",
    "\n",
    "        return noisy_image, clean_image\n"
   ]
  },
  {
   "cell_type": "code",
   "execution_count": 29,
   "metadata": {},
   "outputs": [
    {
     "name": "stdout",
     "output_type": "stream",
     "text": [
      "Number of test samples: 72\n",
      "Number of validation samples: 22\n",
      "Number of training samples: 122\n"
     ]
    }
   ],
   "source": [
    "# Define transformations\n",
    "transform = transforms.Compose([\n",
    "    transforms.ToTensor(),  # Convert images to PyTorch tensors\n",
    "    transforms.Normalize((0.5,), (0.5,)) , # Normalize pixel values\n",
    "    transforms.Resize((256, 256)),  # Resize images to 256x256\n",
    "    transforms.RandomHorizontalFlip()  \n",
    "])\n",
    "test_transform = transforms.Compose([\n",
    "    transforms.Resize((256, 256)),  \n",
    "    transforms.ToTensor(),  \n",
    "    transforms.Normalize((0.5,), (0.5,))  \n",
    "])\n",
    "\n",
    "\n",
    "# Paths to noisy and clean datasets\n",
    "noisy_train_dir = 'denoising-dirty-documents/train/train'\n",
    "clean_train_dir = 'denoising-dirty-documents/train_cleaned/train_cleaned'\n",
    "test_dir = 'denoising-dirty-documents/test'\n",
    "\n",
    "# Create the dataset\n",
    "train_data = DenoisingDataset(noisy_dir=noisy_train_dir, clean_dir=clean_train_dir, transform=transform)\n",
    "train_size = int(0.85 * len(train_data))\n",
    "val_size = len(train_data) - train_size\n",
    "\n",
    "train_dataset, val_dataset = data.random_split(train_data, [train_size, val_size])\n",
    "\n",
    "# Create the DataLoader\n",
    "train_loader = data.DataLoader(train_dataset, batch_size=32, shuffle=True)\n",
    "val_loader = data.DataLoader(val_dataset, batch_size=32, shuffle=False)  \n",
    "test_data = datasets.ImageFolder(test_dir, transform=test_transform)\n",
    "test_loader = data.DataLoader(test_data, batch_size=32, shuffle=True)\n",
    "print(\"Number of test samples:\", len(test_data))\n",
    "print(\"Number of validation samples:\", len(val_dataset))\n",
    "\n",
    "print(\"Number of training samples:\", len(train_dataset))"
   ]
  },
  {
   "cell_type": "code",
   "execution_count": 2,
   "metadata": {},
   "outputs": [],
   "source": [
    "class DenoisingAutoencoder(nn.Module):\n",
    "    def __init__(self):\n",
    "        super(DenoisingAutoencoder, self).__init__()\n",
    "        # Encoder\n",
    "        self.encoder1 = nn.Sequential(\n",
    "            nn.Conv2d(3, 64, kernel_size=3, stride=2, padding=1),  \n",
    "            nn.BatchNorm2d(64),\n",
    "            nn.ReLU()\n",
    "        )\n",
    "        self.encoder2 = nn.Sequential(\n",
    "            nn.Conv2d(64, 128, kernel_size=3, stride=2, padding=1),  # [batch, 128, 64, 64]\n",
    "            nn.BatchNorm2d(128),\n",
    "            nn.ReLU()\n",
    "        )\n",
    "        self.encoder3 = nn.Sequential(\n",
    "            nn.Conv2d(128, 256, kernel_size=3, stride=2, padding=1),  # [batch, 256, 32, 32]\n",
    "            nn.BatchNorm2d(256),\n",
    "            nn.ReLU()\n",
    "        )\n",
    "        \n",
    "        # Decoder with skip connections\n",
    "        self.decoder1 = nn.Sequential(\n",
    "            nn.ConvTranspose2d(256, 128, kernel_size=3, stride=2, padding=1, output_padding=1),  # [batch, 128, 64, 64]\n",
    "            nn.BatchNorm2d(128),\n",
    "            nn.ReLU()\n",
    "        )\n",
    "        self.decoder2 = nn.Sequential(\n",
    "            nn.ConvTranspose2d(256, 64, kernel_size=3, stride=2, padding=1, output_padding=1),  # [batch, 64, 128, 128]\n",
    "            nn.BatchNorm2d(64),\n",
    "            nn.ReLU()\n",
    "        )\n",
    "        self.decoder3 = nn.Sequential(\n",
    "            nn.ConvTranspose2d(128, 3, kernel_size=3, stride=2, padding=1, output_padding=1),  # [batch, 3, 256, 256]\n",
    "            nn.Sigmoid()  # We use Sigmoid to ensure the output is between 0 and 1\n",
    "        )\n",
    "    \n",
    "    def forward(self, x):\n",
    "        # Encode\n",
    "        enc1 = self.encoder1(x)\n",
    "        enc2 = self.encoder2(enc1)\n",
    "        enc3 = self.encoder3(enc2)\n",
    "        \n",
    "        # Decode with skip connections\n",
    "        dec1 = self.decoder1(enc3)\n",
    "        dec1 = torch.cat([dec1, enc2], dim=1)  # Skip connection from encoder2\n",
    "        dec2 = self.decoder2(dec1)\n",
    "        dec2 = torch.cat([dec2, enc1], dim=1)  # Skip connection from encoder1\n",
    "        dec3 = self.decoder3(dec2)\n",
    "        \n",
    "        return dec3\n",
    "\n",
    "\n"
   ]
  },
  {
   "cell_type": "code",
   "execution_count": null,
   "metadata": {},
   "outputs": [
    {
     "name": "stdout",
     "output_type": "stream",
     "text": [
      "----------------------------------------------------------------\n",
      "        Layer (type)               Output Shape         Param #\n",
      "================================================================\n",
      "            Conv2d-1         [-1, 64, 128, 128]           1,792\n",
      "       BatchNorm2d-2         [-1, 64, 128, 128]             128\n",
      "              ReLU-3         [-1, 64, 128, 128]               0\n",
      "            Conv2d-4          [-1, 128, 64, 64]          73,856\n",
      "       BatchNorm2d-5          [-1, 128, 64, 64]             256\n",
      "              ReLU-6          [-1, 128, 64, 64]               0\n",
      "            Conv2d-7          [-1, 256, 32, 32]         295,168\n",
      "       BatchNorm2d-8          [-1, 256, 32, 32]             512\n",
      "              ReLU-9          [-1, 256, 32, 32]               0\n",
      "  ConvTranspose2d-10          [-1, 128, 64, 64]         295,040\n",
      "      BatchNorm2d-11          [-1, 128, 64, 64]             256\n",
      "             ReLU-12          [-1, 128, 64, 64]               0\n",
      "  ConvTranspose2d-13         [-1, 64, 128, 128]         147,520\n",
      "      BatchNorm2d-14         [-1, 64, 128, 128]             128\n",
      "             ReLU-15         [-1, 64, 128, 128]               0\n",
      "  ConvTranspose2d-16          [-1, 3, 256, 256]           3,459\n",
      "          Sigmoid-17          [-1, 3, 256, 256]               0\n",
      "================================================================\n",
      "Total params: 818,115\n",
      "Trainable params: 818,115\n",
      "Non-trainable params: 0\n",
      "----------------------------------------------------------------\n",
      "Input size (MB): 0.75\n",
      "Forward/backward pass size (MB): 81.00\n",
      "Params size (MB): 3.12\n",
      "Estimated Total Size (MB): 84.87\n",
      "----------------------------------------------------------------\n"
     ]
    }
   ],
   "source": [
    "from torchvision import models\n",
    "from torchsummary import summary\n",
    "model = DenoisingAutoencoder().cuda()  # Move the model to GPU\n",
    "summary(model, (3, 256, 256))\n"
   ]
  },
  {
   "cell_type": "code",
   "execution_count": 31,
   "metadata": {},
   "outputs": [],
   "source": [
    "device = torch.device('cuda' if torch.cuda.is_available() else 'cpu')"
   ]
  },
  {
   "cell_type": "code",
   "execution_count": 32,
   "metadata": {},
   "outputs": [],
   "source": [
    "import time\n",
    "import torch\n",
    "from tqdm import tqdm\n",
    "import torch.nn.functional as F\n",
    "import numpy as np\n",
    "\n",
    "from torchmetrics import StructuralSimilarityIndexMeasure\n",
    "\n",
    "def calculate_ssim_batch(clean_images: torch.Tensor, outputs: torch.Tensor) -> torch.Tensor:\n",
    "    \"\"\"\n",
    "    Calculate SSIM for a batch of images.\n",
    "\n",
    "    Args:\n",
    "        clean_images (torch.Tensor): A tensor of shape (N, C, H, W) for ground truth images.\n",
    "        outputs (torch.Tensor): A tensor of shape (N, C, H, W) for generated or predicted images.\n",
    "        device (torch.device): The device (CPU or GPU) to run the calculation on.\n",
    "\n",
    "    Returns:\n",
    "        torch.Tensor: A tensor containing SSIM values for each image in the batch.\n",
    "    \"\"\"\n",
    "    # Initialize the SSIM metric on the specified device\n",
    "    ssim = StructuralSimilarityIndexMeasure(data_range=1.0).to(device)\n",
    "\n",
    "    # Ensure both input tensors are of the same shape\n",
    "    if clean_images.shape != outputs.shape:\n",
    "        raise ValueError(\"The shape of clean_images and outputs must match.\")\n",
    "\n",
    "    # Move input tensors to the same device\n",
    "    clean_images = clean_images.to(device)\n",
    "    outputs = outputs.to(device)\n",
    "\n",
    "    # Calculate SSIM for the entire batch\n",
    "    ssim_values = ssim(clean_images, outputs)\n",
    "\n",
    "    return ssim_values"
   ]
  },
  {
   "cell_type": "code",
   "execution_count": 33,
   "metadata": {},
   "outputs": [],
   "source": [
    "def train_and_evaluate_autoencoder(model, train_loader, val_loader, optimizer, scheduler, num_epochs):\n",
    "    training_data = {\n",
    "        'train_loss': [],\n",
    "        'val_loss': [],\n",
    "        'mse': [],\n",
    "        'ssim': []\n",
    "    }\n",
    "\n",
    "    start_time = time.time()\n",
    "\n",
    "    for epoch in range(num_epochs):\n",
    "        # Training phase\n",
    "        model.train()\n",
    "        total_train_loss = 0\n",
    "        \n",
    "        train_loader_iter = tqdm(train_loader, desc=f\"Training Epoch {epoch+1}/{num_epochs}\")\n",
    "\n",
    "        for noisy_images, clean_images in train_loader_iter:\n",
    "            noisy_images, clean_images = noisy_images.to(device), clean_images.to(device)\n",
    "\n",
    "            optimizer.zero_grad()\n",
    "            outputs = model(noisy_images)\n",
    "            loss = F.mse_loss(outputs, clean_images)\n",
    "            loss.backward()\n",
    "            optimizer.step()\n",
    "\n",
    "            total_train_loss += loss.item() * noisy_images.size(0)\n",
    "\n",
    "        scheduler.step()\n",
    "        avg_train_loss = total_train_loss / len(train_loader.dataset)\n",
    "        \n",
    "        # Store training loss\n",
    "        training_data['train_loss'].append(avg_train_loss)\n",
    "\n",
    "        # Validation phase\n",
    "        model.eval()\n",
    "        total_val_loss = 0\n",
    "        mse_list = []\n",
    "        ssim_list = []\n",
    "\n",
    "        val_loader_iter = tqdm(val_loader, desc=f\"Validating Epoch {epoch+1}/{num_epochs}\")\n",
    "\n",
    "        with torch.no_grad():\n",
    "            for noisy_images, clean_images in val_loader_iter:\n",
    "                noisy_images, clean_images = noisy_images.to(device), clean_images.to(device)\n",
    "\n",
    "                outputs = model(noisy_images)\n",
    "                loss = F.mse_loss(outputs, clean_images)\n",
    "                total_val_loss += loss.item() * noisy_images.size(0)\n",
    "\n",
    "                # Calculate MSE for the batch\n",
    "                mse_values = F.mse_loss(outputs, clean_images, reduction='none')\n",
    "                mse_list.extend(mse_values.view(-1).cpu().numpy())\n",
    "\n",
    "                # Calculate SSIM for the batch\n",
    "                ssim_values = calculate_ssim_batch(clean_images, outputs)\n",
    "                ssim_list.extend(ssim_values.view(-1).cpu().numpy().tolist())\n",
    "\n",
    "                # ssim_list.extend()\n",
    "\n",
    "        avg_val_loss = total_val_loss / len(val_loader.dataset)\n",
    "        \n",
    "        # Calculate average MSE and SSIM\n",
    "        avg_mse = sum(mse_list) / len(mse_list) if mse_list else 0\n",
    "        avg_ssim = np.nanmean(ssim_list)  # Use nanmean to ignore None values\n",
    "\n",
    "        # Store validation metrics\n",
    "        training_data['val_loss'].append(avg_val_loss)\n",
    "        training_data['mse'].append(avg_mse)\n",
    "        training_data['ssim'].append(avg_ssim)\n",
    "\n",
    "        print(f'Epoch [{epoch+1}/{num_epochs}], '\n",
    "              f'Train Loss: {avg_train_loss:.4f}, Val Loss: {avg_val_loss:.4f}, '\n",
    "              f'MSE: {avg_mse:.4f}, SSIM: {avg_ssim:.4f}')\n",
    "\n",
    "    end_time = time.time()\n",
    "    training_time = end_time - start_time\n",
    "    training_data['training_time'] = training_time\n",
    "\n",
    "    return training_data\n"
   ]
  },
  {
   "cell_type": "code",
   "execution_count": 34,
   "metadata": {},
   "outputs": [],
   "source": [
    "import json\n",
    "def save_model_and_results(model, model_name, training_data):\n",
    "    torch.save(model.state_dict(), f'{model_name}_model.pth')\n",
    "    \n",
    "    # Convert training data to a JSON-serializable format\n",
    "    serializable_data = {}\n",
    "    for key, value in training_data.items():\n",
    "        serializable_data[key] = value\n",
    "\n",
    "    # Save the training data as JSON\n",
    "    with open(f'{model_name}_training_data.json', 'w') as json_file:\n",
    "        json.dump(serializable_data, json_file)\n"
   ]
  },
  {
   "cell_type": "code",
   "execution_count": 35,
   "metadata": {},
   "outputs": [
    {
     "name": "stderr",
     "output_type": "stream",
     "text": [
      "Training Epoch 1/600: 100%|██████████| 4/4 [00:02<00:00,  1.52it/s]\n",
      "Validating Epoch 1/600: 100%|██████████| 1/1 [00:00<00:00,  1.62it/s]\n"
     ]
    },
    {
     "name": "stdout",
     "output_type": "stream",
     "text": [
      "Epoch [1/600], Train Loss: 0.2181, Val Loss: 0.1873, MSE: 0.1873, SSIM: 0.0932\n"
     ]
    },
    {
     "name": "stderr",
     "output_type": "stream",
     "text": [
      "Training Epoch 2/600: 100%|██████████| 4/4 [00:02<00:00,  1.55it/s]\n",
      "Validating Epoch 2/600: 100%|██████████| 1/1 [00:00<00:00,  1.86it/s]\n"
     ]
    },
    {
     "name": "stdout",
     "output_type": "stream",
     "text": [
      "Epoch [2/600], Train Loss: 0.1504, Val Loss: 0.1559, MSE: 0.1559, SSIM: 0.1394\n"
     ]
    },
    {
     "name": "stderr",
     "output_type": "stream",
     "text": [
      "Training Epoch 3/600: 100%|██████████| 4/4 [00:02<00:00,  1.59it/s]\n",
      "Validating Epoch 3/600: 100%|██████████| 1/1 [00:00<00:00,  1.83it/s]\n"
     ]
    },
    {
     "name": "stdout",
     "output_type": "stream",
     "text": [
      "Epoch [3/600], Train Loss: 0.1268, Val Loss: 0.1374, MSE: 0.1374, SSIM: 0.1595\n"
     ]
    },
    {
     "name": "stderr",
     "output_type": "stream",
     "text": [
      "Training Epoch 4/600: 100%|██████████| 4/4 [00:02<00:00,  1.66it/s]\n",
      "Validating Epoch 4/600: 100%|██████████| 1/1 [00:00<00:00,  1.92it/s]\n"
     ]
    },
    {
     "name": "stdout",
     "output_type": "stream",
     "text": [
      "Epoch [4/600], Train Loss: 0.1095, Val Loss: 0.1216, MSE: 0.1216, SSIM: 0.2067\n"
     ]
    },
    {
     "name": "stderr",
     "output_type": "stream",
     "text": [
      "Training Epoch 5/600: 100%|██████████| 4/4 [00:02<00:00,  1.67it/s]\n",
      "Validating Epoch 5/600: 100%|██████████| 1/1 [00:00<00:00,  1.80it/s]\n"
     ]
    },
    {
     "name": "stdout",
     "output_type": "stream",
     "text": [
      "Epoch [5/600], Train Loss: 0.1060, Val Loss: 0.1055, MSE: 0.1055, SSIM: 0.2793\n"
     ]
    },
    {
     "name": "stderr",
     "output_type": "stream",
     "text": [
      "Training Epoch 6/600: 100%|██████████| 4/4 [00:02<00:00,  1.67it/s]\n",
      "Validating Epoch 6/600: 100%|██████████| 1/1 [00:00<00:00,  1.91it/s]\n"
     ]
    },
    {
     "name": "stdout",
     "output_type": "stream",
     "text": [
      "Epoch [6/600], Train Loss: 0.1030, Val Loss: 0.1071, MSE: 0.1071, SSIM: 0.2779\n"
     ]
    },
    {
     "name": "stderr",
     "output_type": "stream",
     "text": [
      "Training Epoch 7/600: 100%|██████████| 4/4 [00:02<00:00,  1.67it/s]\n",
      "Validating Epoch 7/600: 100%|██████████| 1/1 [00:00<00:00,  2.00it/s]\n"
     ]
    },
    {
     "name": "stdout",
     "output_type": "stream",
     "text": [
      "Epoch [7/600], Train Loss: 0.0929, Val Loss: 0.0927, MSE: 0.0927, SSIM: 0.3643\n"
     ]
    },
    {
     "name": "stderr",
     "output_type": "stream",
     "text": [
      "Training Epoch 8/600: 100%|██████████| 4/4 [00:02<00:00,  1.60it/s]\n",
      "Validating Epoch 8/600: 100%|██████████| 1/1 [00:00<00:00,  1.94it/s]\n"
     ]
    },
    {
     "name": "stdout",
     "output_type": "stream",
     "text": [
      "Epoch [8/600], Train Loss: 0.0925, Val Loss: 0.0936, MSE: 0.0936, SSIM: 0.3609\n"
     ]
    },
    {
     "name": "stderr",
     "output_type": "stream",
     "text": [
      "Training Epoch 9/600: 100%|██████████| 4/4 [00:02<00:00,  1.64it/s]\n",
      "Validating Epoch 9/600: 100%|██████████| 1/1 [00:00<00:00,  2.07it/s]\n"
     ]
    },
    {
     "name": "stdout",
     "output_type": "stream",
     "text": [
      "Epoch [9/600], Train Loss: 0.0894, Val Loss: 0.0913, MSE: 0.0913, SSIM: 0.3834\n"
     ]
    },
    {
     "name": "stderr",
     "output_type": "stream",
     "text": [
      "Training Epoch 10/600: 100%|██████████| 4/4 [00:02<00:00,  1.66it/s]\n",
      "Validating Epoch 10/600: 100%|██████████| 1/1 [00:00<00:00,  2.08it/s]\n"
     ]
    },
    {
     "name": "stdout",
     "output_type": "stream",
     "text": [
      "Epoch [10/600], Train Loss: 0.0895, Val Loss: 0.0914, MSE: 0.0914, SSIM: 0.3902\n"
     ]
    },
    {
     "name": "stderr",
     "output_type": "stream",
     "text": [
      "Training Epoch 11/600: 100%|██████████| 4/4 [00:02<00:00,  1.66it/s]\n",
      "Validating Epoch 11/600: 100%|██████████| 1/1 [00:00<00:00,  2.09it/s]\n"
     ]
    },
    {
     "name": "stdout",
     "output_type": "stream",
     "text": [
      "Epoch [11/600], Train Loss: 0.0879, Val Loss: 0.0782, MSE: 0.0782, SSIM: 0.4658\n"
     ]
    },
    {
     "name": "stderr",
     "output_type": "stream",
     "text": [
      "Training Epoch 12/600: 100%|██████████| 4/4 [00:02<00:00,  1.61it/s]\n",
      "Validating Epoch 12/600: 100%|██████████| 1/1 [00:00<00:00,  1.97it/s]\n"
     ]
    },
    {
     "name": "stdout",
     "output_type": "stream",
     "text": [
      "Epoch [12/600], Train Loss: 0.0855, Val Loss: 0.0767, MSE: 0.0767, SSIM: 0.4785\n"
     ]
    },
    {
     "name": "stderr",
     "output_type": "stream",
     "text": [
      "Training Epoch 13/600: 100%|██████████| 4/4 [00:02<00:00,  1.62it/s]\n",
      "Validating Epoch 13/600: 100%|██████████| 1/1 [00:00<00:00,  2.08it/s]\n"
     ]
    },
    {
     "name": "stdout",
     "output_type": "stream",
     "text": [
      "Epoch [13/600], Train Loss: 0.0882, Val Loss: 0.0854, MSE: 0.0854, SSIM: 0.4422\n"
     ]
    },
    {
     "name": "stderr",
     "output_type": "stream",
     "text": [
      "Training Epoch 14/600: 100%|██████████| 4/4 [00:02<00:00,  1.63it/s]\n",
      "Validating Epoch 14/600: 100%|██████████| 1/1 [00:00<00:00,  1.98it/s]\n"
     ]
    },
    {
     "name": "stdout",
     "output_type": "stream",
     "text": [
      "Epoch [14/600], Train Loss: 0.0915, Val Loss: 0.0833, MSE: 0.0833, SSIM: 0.4558\n"
     ]
    },
    {
     "name": "stderr",
     "output_type": "stream",
     "text": [
      "Training Epoch 15/600: 100%|██████████| 4/4 [00:02<00:00,  1.65it/s]\n",
      "Validating Epoch 15/600: 100%|██████████| 1/1 [00:00<00:00,  2.12it/s]\n"
     ]
    },
    {
     "name": "stdout",
     "output_type": "stream",
     "text": [
      "Epoch [15/600], Train Loss: 0.0888, Val Loss: 0.0773, MSE: 0.0773, SSIM: 0.5043\n"
     ]
    },
    {
     "name": "stderr",
     "output_type": "stream",
     "text": [
      "Training Epoch 16/600: 100%|██████████| 4/4 [00:02<00:00,  1.70it/s]\n",
      "Validating Epoch 16/600: 100%|██████████| 1/1 [00:00<00:00,  2.03it/s]\n"
     ]
    },
    {
     "name": "stdout",
     "output_type": "stream",
     "text": [
      "Epoch [16/600], Train Loss: 0.0800, Val Loss: 0.0788, MSE: 0.0788, SSIM: 0.5167\n"
     ]
    },
    {
     "name": "stderr",
     "output_type": "stream",
     "text": [
      "Training Epoch 17/600: 100%|██████████| 4/4 [00:02<00:00,  1.54it/s]\n",
      "Validating Epoch 17/600: 100%|██████████| 1/1 [00:00<00:00,  1.93it/s]\n"
     ]
    },
    {
     "name": "stdout",
     "output_type": "stream",
     "text": [
      "Epoch [17/600], Train Loss: 0.0865, Val Loss: 0.0699, MSE: 0.0699, SSIM: 0.5465\n"
     ]
    },
    {
     "name": "stderr",
     "output_type": "stream",
     "text": [
      "Training Epoch 18/600: 100%|██████████| 4/4 [00:02<00:00,  1.61it/s]\n",
      "Validating Epoch 18/600: 100%|██████████| 1/1 [00:00<00:00,  2.14it/s]\n"
     ]
    },
    {
     "name": "stdout",
     "output_type": "stream",
     "text": [
      "Epoch [18/600], Train Loss: 0.0892, Val Loss: 0.0749, MSE: 0.0749, SSIM: 0.5365\n"
     ]
    },
    {
     "name": "stderr",
     "output_type": "stream",
     "text": [
      "Training Epoch 19/600: 100%|██████████| 4/4 [00:02<00:00,  1.74it/s]\n",
      "Validating Epoch 19/600: 100%|██████████| 1/1 [00:00<00:00,  1.95it/s]\n"
     ]
    },
    {
     "name": "stdout",
     "output_type": "stream",
     "text": [
      "Epoch [19/600], Train Loss: 0.0835, Val Loss: 0.0787, MSE: 0.0787, SSIM: 0.5338\n"
     ]
    },
    {
     "name": "stderr",
     "output_type": "stream",
     "text": [
      "Training Epoch 20/600: 100%|██████████| 4/4 [00:02<00:00,  1.56it/s]\n",
      "Validating Epoch 20/600: 100%|██████████| 1/1 [00:00<00:00,  2.08it/s]\n"
     ]
    },
    {
     "name": "stdout",
     "output_type": "stream",
     "text": [
      "Epoch [20/600], Train Loss: 0.0788, Val Loss: 0.0621, MSE: 0.0621, SSIM: 0.6239\n"
     ]
    },
    {
     "name": "stderr",
     "output_type": "stream",
     "text": [
      "Training Epoch 21/600: 100%|██████████| 4/4 [00:02<00:00,  1.66it/s]\n",
      "Validating Epoch 21/600: 100%|██████████| 1/1 [00:00<00:00,  1.92it/s]\n"
     ]
    },
    {
     "name": "stdout",
     "output_type": "stream",
     "text": [
      "Epoch [21/600], Train Loss: 0.0862, Val Loss: 0.0893, MSE: 0.0893, SSIM: 0.4954\n"
     ]
    },
    {
     "name": "stderr",
     "output_type": "stream",
     "text": [
      "Training Epoch 22/600: 100%|██████████| 4/4 [00:02<00:00,  1.64it/s]\n",
      "Validating Epoch 22/600: 100%|██████████| 1/1 [00:00<00:00,  1.69it/s]\n"
     ]
    },
    {
     "name": "stdout",
     "output_type": "stream",
     "text": [
      "Epoch [22/600], Train Loss: 0.0837, Val Loss: 0.0564, MSE: 0.0564, SSIM: 0.6664\n"
     ]
    },
    {
     "name": "stderr",
     "output_type": "stream",
     "text": [
      "Training Epoch 23/600: 100%|██████████| 4/4 [00:02<00:00,  1.64it/s]\n",
      "Validating Epoch 23/600: 100%|██████████| 1/1 [00:00<00:00,  2.03it/s]\n"
     ]
    },
    {
     "name": "stdout",
     "output_type": "stream",
     "text": [
      "Epoch [23/600], Train Loss: 0.0756, Val Loss: 0.0705, MSE: 0.0705, SSIM: 0.5951\n"
     ]
    },
    {
     "name": "stderr",
     "output_type": "stream",
     "text": [
      "Training Epoch 24/600: 100%|██████████| 4/4 [00:02<00:00,  1.62it/s]\n",
      "Validating Epoch 24/600: 100%|██████████| 1/1 [00:00<00:00,  2.09it/s]\n"
     ]
    },
    {
     "name": "stdout",
     "output_type": "stream",
     "text": [
      "Epoch [24/600], Train Loss: 0.0821, Val Loss: 0.0841, MSE: 0.0841, SSIM: 0.5364\n"
     ]
    },
    {
     "name": "stderr",
     "output_type": "stream",
     "text": [
      "Training Epoch 25/600: 100%|██████████| 4/4 [00:02<00:00,  1.67it/s]\n",
      "Validating Epoch 25/600: 100%|██████████| 1/1 [00:00<00:00,  1.77it/s]\n"
     ]
    },
    {
     "name": "stdout",
     "output_type": "stream",
     "text": [
      "Epoch [25/600], Train Loss: 0.0833, Val Loss: 0.0749, MSE: 0.0749, SSIM: 0.5780\n"
     ]
    },
    {
     "name": "stderr",
     "output_type": "stream",
     "text": [
      "Training Epoch 26/600: 100%|██████████| 4/4 [00:02<00:00,  1.73it/s]\n",
      "Validating Epoch 26/600: 100%|██████████| 1/1 [00:00<00:00,  1.90it/s]\n"
     ]
    },
    {
     "name": "stdout",
     "output_type": "stream",
     "text": [
      "Epoch [26/600], Train Loss: 0.0821, Val Loss: 0.0883, MSE: 0.0883, SSIM: 0.5149\n"
     ]
    },
    {
     "name": "stderr",
     "output_type": "stream",
     "text": [
      "Training Epoch 27/600: 100%|██████████| 4/4 [00:02<00:00,  1.56it/s]\n",
      "Validating Epoch 27/600: 100%|██████████| 1/1 [00:00<00:00,  2.06it/s]\n"
     ]
    },
    {
     "name": "stdout",
     "output_type": "stream",
     "text": [
      "Epoch [27/600], Train Loss: 0.0773, Val Loss: 0.0716, MSE: 0.0716, SSIM: 0.6005\n"
     ]
    },
    {
     "name": "stderr",
     "output_type": "stream",
     "text": [
      "Training Epoch 28/600: 100%|██████████| 4/4 [00:02<00:00,  1.66it/s]\n",
      "Validating Epoch 28/600: 100%|██████████| 1/1 [00:00<00:00,  1.95it/s]\n"
     ]
    },
    {
     "name": "stdout",
     "output_type": "stream",
     "text": [
      "Epoch [28/600], Train Loss: 0.0839, Val Loss: 0.0742, MSE: 0.0742, SSIM: 0.5708\n"
     ]
    },
    {
     "name": "stderr",
     "output_type": "stream",
     "text": [
      "Training Epoch 29/600: 100%|██████████| 4/4 [00:02<00:00,  1.61it/s]\n",
      "Validating Epoch 29/600: 100%|██████████| 1/1 [00:00<00:00,  1.90it/s]\n"
     ]
    },
    {
     "name": "stdout",
     "output_type": "stream",
     "text": [
      "Epoch [29/600], Train Loss: 0.0922, Val Loss: 0.0684, MSE: 0.0684, SSIM: 0.5991\n"
     ]
    },
    {
     "name": "stderr",
     "output_type": "stream",
     "text": [
      "Training Epoch 30/600: 100%|██████████| 4/4 [00:02<00:00,  1.59it/s]\n",
      "Validating Epoch 30/600: 100%|██████████| 1/1 [00:00<00:00,  1.96it/s]\n"
     ]
    },
    {
     "name": "stdout",
     "output_type": "stream",
     "text": [
      "Epoch [30/600], Train Loss: 0.0835, Val Loss: 0.0555, MSE: 0.0555, SSIM: 0.6545\n"
     ]
    },
    {
     "name": "stderr",
     "output_type": "stream",
     "text": [
      "Training Epoch 31/600: 100%|██████████| 4/4 [00:02<00:00,  1.56it/s]\n",
      "Validating Epoch 31/600: 100%|██████████| 1/1 [00:00<00:00,  1.82it/s]\n"
     ]
    },
    {
     "name": "stdout",
     "output_type": "stream",
     "text": [
      "Epoch [31/600], Train Loss: 0.0886, Val Loss: 0.0743, MSE: 0.0743, SSIM: 0.5797\n"
     ]
    },
    {
     "name": "stderr",
     "output_type": "stream",
     "text": [
      "Training Epoch 32/600: 100%|██████████| 4/4 [00:02<00:00,  1.57it/s]\n",
      "Validating Epoch 32/600: 100%|██████████| 1/1 [00:00<00:00,  1.71it/s]\n"
     ]
    },
    {
     "name": "stdout",
     "output_type": "stream",
     "text": [
      "Epoch [32/600], Train Loss: 0.0792, Val Loss: 0.0842, MSE: 0.0842, SSIM: 0.5184\n"
     ]
    },
    {
     "name": "stderr",
     "output_type": "stream",
     "text": [
      "Training Epoch 33/600: 100%|██████████| 4/4 [00:03<00:00,  1.24it/s]\n",
      "Validating Epoch 33/600: 100%|██████████| 1/1 [00:00<00:00,  1.38it/s]\n"
     ]
    },
    {
     "name": "stdout",
     "output_type": "stream",
     "text": [
      "Epoch [33/600], Train Loss: 0.0768, Val Loss: 0.0570, MSE: 0.0570, SSIM: 0.6543\n"
     ]
    },
    {
     "name": "stderr",
     "output_type": "stream",
     "text": [
      "Training Epoch 34/600: 100%|██████████| 4/4 [00:03<00:00,  1.27it/s]\n",
      "Validating Epoch 34/600: 100%|██████████| 1/1 [00:00<00:00,  1.12it/s]\n"
     ]
    },
    {
     "name": "stdout",
     "output_type": "stream",
     "text": [
      "Epoch [34/600], Train Loss: 0.0818, Val Loss: 0.0775, MSE: 0.0775, SSIM: 0.5594\n"
     ]
    },
    {
     "name": "stderr",
     "output_type": "stream",
     "text": [
      "Training Epoch 35/600: 100%|██████████| 4/4 [00:02<00:00,  1.34it/s]\n",
      "Validating Epoch 35/600: 100%|██████████| 1/1 [00:00<00:00,  1.22it/s]\n"
     ]
    },
    {
     "name": "stdout",
     "output_type": "stream",
     "text": [
      "Epoch [35/600], Train Loss: 0.0791, Val Loss: 0.0888, MSE: 0.0888, SSIM: 0.4983\n"
     ]
    },
    {
     "name": "stderr",
     "output_type": "stream",
     "text": [
      "Training Epoch 36/600: 100%|██████████| 4/4 [00:02<00:00,  1.41it/s]\n",
      "Validating Epoch 36/600: 100%|██████████| 1/1 [00:00<00:00,  1.19it/s]\n"
     ]
    },
    {
     "name": "stdout",
     "output_type": "stream",
     "text": [
      "Epoch [36/600], Train Loss: 0.0781, Val Loss: 0.0636, MSE: 0.0636, SSIM: 0.6457\n"
     ]
    },
    {
     "name": "stderr",
     "output_type": "stream",
     "text": [
      "Training Epoch 37/600: 100%|██████████| 4/4 [00:03<00:00,  1.32it/s]\n",
      "Validating Epoch 37/600: 100%|██████████| 1/1 [00:00<00:00,  1.54it/s]\n"
     ]
    },
    {
     "name": "stdout",
     "output_type": "stream",
     "text": [
      "Epoch [37/600], Train Loss: 0.0785, Val Loss: 0.0636, MSE: 0.0636, SSIM: 0.6212\n"
     ]
    },
    {
     "name": "stderr",
     "output_type": "stream",
     "text": [
      "Training Epoch 38/600: 100%|██████████| 4/4 [00:03<00:00,  1.33it/s]\n",
      "Validating Epoch 38/600: 100%|██████████| 1/1 [00:00<00:00,  1.27it/s]\n"
     ]
    },
    {
     "name": "stdout",
     "output_type": "stream",
     "text": [
      "Epoch [38/600], Train Loss: 0.0737, Val Loss: 0.0763, MSE: 0.0763, SSIM: 0.5622\n"
     ]
    },
    {
     "name": "stderr",
     "output_type": "stream",
     "text": [
      "Training Epoch 39/600: 100%|██████████| 4/4 [00:02<00:00,  1.36it/s]\n",
      "Validating Epoch 39/600: 100%|██████████| 1/1 [00:00<00:00,  1.47it/s]\n"
     ]
    },
    {
     "name": "stdout",
     "output_type": "stream",
     "text": [
      "Epoch [39/600], Train Loss: 0.0846, Val Loss: 0.0758, MSE: 0.0758, SSIM: 0.5700\n"
     ]
    },
    {
     "name": "stderr",
     "output_type": "stream",
     "text": [
      "Training Epoch 40/600: 100%|██████████| 4/4 [00:03<00:00,  1.26it/s]\n",
      "Validating Epoch 40/600: 100%|██████████| 1/1 [00:00<00:00,  1.37it/s]\n"
     ]
    },
    {
     "name": "stdout",
     "output_type": "stream",
     "text": [
      "Epoch [40/600], Train Loss: 0.0841, Val Loss: 0.0510, MSE: 0.0510, SSIM: 0.7025\n"
     ]
    },
    {
     "name": "stderr",
     "output_type": "stream",
     "text": [
      "Training Epoch 41/600: 100%|██████████| 4/4 [00:03<00:00,  1.32it/s]\n",
      "Validating Epoch 41/600: 100%|██████████| 1/1 [00:00<00:00,  1.39it/s]\n"
     ]
    },
    {
     "name": "stdout",
     "output_type": "stream",
     "text": [
      "Epoch [41/600], Train Loss: 0.0786, Val Loss: 0.0631, MSE: 0.0631, SSIM: 0.6230\n"
     ]
    },
    {
     "name": "stderr",
     "output_type": "stream",
     "text": [
      "Training Epoch 42/600: 100%|██████████| 4/4 [00:03<00:00,  1.24it/s]\n",
      "Validating Epoch 42/600: 100%|██████████| 1/1 [00:00<00:00,  1.37it/s]\n"
     ]
    },
    {
     "name": "stdout",
     "output_type": "stream",
     "text": [
      "Epoch [42/600], Train Loss: 0.0758, Val Loss: 0.0916, MSE: 0.0916, SSIM: 0.4895\n"
     ]
    },
    {
     "name": "stderr",
     "output_type": "stream",
     "text": [
      "Training Epoch 43/600: 100%|██████████| 4/4 [00:03<00:00,  1.30it/s]\n",
      "Validating Epoch 43/600: 100%|██████████| 1/1 [00:00<00:00,  1.37it/s]\n"
     ]
    },
    {
     "name": "stdout",
     "output_type": "stream",
     "text": [
      "Epoch [43/600], Train Loss: 0.0795, Val Loss: 0.0501, MSE: 0.0501, SSIM: 0.7159\n"
     ]
    },
    {
     "name": "stderr",
     "output_type": "stream",
     "text": [
      "Training Epoch 44/600: 100%|██████████| 4/4 [00:02<00:00,  1.35it/s]\n",
      "Validating Epoch 44/600: 100%|██████████| 1/1 [00:00<00:00,  1.26it/s]\n"
     ]
    },
    {
     "name": "stdout",
     "output_type": "stream",
     "text": [
      "Epoch [44/600], Train Loss: 0.0793, Val Loss: 0.0595, MSE: 0.0595, SSIM: 0.6727\n"
     ]
    },
    {
     "name": "stderr",
     "output_type": "stream",
     "text": [
      "Training Epoch 45/600: 100%|██████████| 4/4 [00:02<00:00,  1.36it/s]\n",
      "Validating Epoch 45/600: 100%|██████████| 1/1 [00:00<00:00,  1.63it/s]\n"
     ]
    },
    {
     "name": "stdout",
     "output_type": "stream",
     "text": [
      "Epoch [45/600], Train Loss: 0.0737, Val Loss: 0.0794, MSE: 0.0794, SSIM: 0.5684\n"
     ]
    },
    {
     "name": "stderr",
     "output_type": "stream",
     "text": [
      "Training Epoch 46/600: 100%|██████████| 4/4 [00:02<00:00,  1.39it/s]\n",
      "Validating Epoch 46/600: 100%|██████████| 1/1 [00:00<00:00,  1.34it/s]\n"
     ]
    },
    {
     "name": "stdout",
     "output_type": "stream",
     "text": [
      "Epoch [46/600], Train Loss: 0.0784, Val Loss: 0.0805, MSE: 0.0805, SSIM: 0.5728\n"
     ]
    },
    {
     "name": "stderr",
     "output_type": "stream",
     "text": [
      "Training Epoch 47/600: 100%|██████████| 4/4 [00:02<00:00,  1.37it/s]\n",
      "Validating Epoch 47/600: 100%|██████████| 1/1 [00:00<00:00,  1.36it/s]\n"
     ]
    },
    {
     "name": "stdout",
     "output_type": "stream",
     "text": [
      "Epoch [47/600], Train Loss: 0.0891, Val Loss: 0.0643, MSE: 0.0643, SSIM: 0.6377\n"
     ]
    },
    {
     "name": "stderr",
     "output_type": "stream",
     "text": [
      "Training Epoch 48/600: 100%|██████████| 4/4 [00:02<00:00,  1.43it/s]\n",
      "Validating Epoch 48/600: 100%|██████████| 1/1 [00:00<00:00,  1.66it/s]\n"
     ]
    },
    {
     "name": "stdout",
     "output_type": "stream",
     "text": [
      "Epoch [48/600], Train Loss: 0.0712, Val Loss: 0.0799, MSE: 0.0799, SSIM: 0.5572\n"
     ]
    },
    {
     "name": "stderr",
     "output_type": "stream",
     "text": [
      "Training Epoch 49/600: 100%|██████████| 4/4 [00:02<00:00,  1.60it/s]\n",
      "Validating Epoch 49/600: 100%|██████████| 1/1 [00:00<00:00,  1.66it/s]\n"
     ]
    },
    {
     "name": "stdout",
     "output_type": "stream",
     "text": [
      "Epoch [49/600], Train Loss: 0.0792, Val Loss: 0.0758, MSE: 0.0758, SSIM: 0.6002\n"
     ]
    },
    {
     "name": "stderr",
     "output_type": "stream",
     "text": [
      "Training Epoch 50/600: 100%|██████████| 4/4 [00:03<00:00,  1.28it/s]\n",
      "Validating Epoch 50/600: 100%|██████████| 1/1 [00:00<00:00,  1.18it/s]\n"
     ]
    },
    {
     "name": "stdout",
     "output_type": "stream",
     "text": [
      "Epoch [50/600], Train Loss: 0.0846, Val Loss: 0.0594, MSE: 0.0594, SSIM: 0.6542\n"
     ]
    },
    {
     "name": "stderr",
     "output_type": "stream",
     "text": [
      "Training Epoch 51/600: 100%|██████████| 4/4 [00:03<00:00,  1.15it/s]\n",
      "Validating Epoch 51/600: 100%|██████████| 1/1 [00:00<00:00,  1.02it/s]\n"
     ]
    },
    {
     "name": "stdout",
     "output_type": "stream",
     "text": [
      "Epoch [51/600], Train Loss: 0.0795, Val Loss: 0.0678, MSE: 0.0678, SSIM: 0.6157\n"
     ]
    },
    {
     "name": "stderr",
     "output_type": "stream",
     "text": [
      "Training Epoch 52/600: 100%|██████████| 4/4 [00:03<00:00,  1.16it/s]\n",
      "Validating Epoch 52/600: 100%|██████████| 1/1 [00:00<00:00,  1.27it/s]\n"
     ]
    },
    {
     "name": "stdout",
     "output_type": "stream",
     "text": [
      "Epoch [52/600], Train Loss: 0.0827, Val Loss: 0.0770, MSE: 0.0770, SSIM: 0.5910\n"
     ]
    },
    {
     "name": "stderr",
     "output_type": "stream",
     "text": [
      "Training Epoch 53/600: 100%|██████████| 4/4 [00:03<00:00,  1.20it/s]\n",
      "Validating Epoch 53/600: 100%|██████████| 1/1 [00:00<00:00,  1.22it/s]\n"
     ]
    },
    {
     "name": "stdout",
     "output_type": "stream",
     "text": [
      "Epoch [53/600], Train Loss: 0.0714, Val Loss: 0.0751, MSE: 0.0751, SSIM: 0.5880\n"
     ]
    },
    {
     "name": "stderr",
     "output_type": "stream",
     "text": [
      "Training Epoch 54/600: 100%|██████████| 4/4 [00:03<00:00,  1.21it/s]\n",
      "Validating Epoch 54/600: 100%|██████████| 1/1 [00:00<00:00,  1.17it/s]\n"
     ]
    },
    {
     "name": "stdout",
     "output_type": "stream",
     "text": [
      "Epoch [54/600], Train Loss: 0.0759, Val Loss: 0.0765, MSE: 0.0765, SSIM: 0.5500\n"
     ]
    },
    {
     "name": "stderr",
     "output_type": "stream",
     "text": [
      "Training Epoch 55/600: 100%|██████████| 4/4 [00:03<00:00,  1.16it/s]\n",
      "Validating Epoch 55/600: 100%|██████████| 1/1 [00:00<00:00,  1.17it/s]\n"
     ]
    },
    {
     "name": "stdout",
     "output_type": "stream",
     "text": [
      "Epoch [55/600], Train Loss: 0.0864, Val Loss: 0.0634, MSE: 0.0634, SSIM: 0.6335\n"
     ]
    },
    {
     "name": "stderr",
     "output_type": "stream",
     "text": [
      "Training Epoch 56/600: 100%|██████████| 4/4 [00:03<00:00,  1.22it/s]\n",
      "Validating Epoch 56/600: 100%|██████████| 1/1 [00:00<00:00,  1.23it/s]\n"
     ]
    },
    {
     "name": "stdout",
     "output_type": "stream",
     "text": [
      "Epoch [56/600], Train Loss: 0.0816, Val Loss: 0.0747, MSE: 0.0747, SSIM: 0.5748\n"
     ]
    },
    {
     "name": "stderr",
     "output_type": "stream",
     "text": [
      "Training Epoch 57/600: 100%|██████████| 4/4 [00:03<00:00,  1.16it/s]\n",
      "Validating Epoch 57/600: 100%|██████████| 1/1 [00:00<00:00,  1.23it/s]\n"
     ]
    },
    {
     "name": "stdout",
     "output_type": "stream",
     "text": [
      "Epoch [57/600], Train Loss: 0.0738, Val Loss: 0.0672, MSE: 0.0672, SSIM: 0.5924\n"
     ]
    },
    {
     "name": "stderr",
     "output_type": "stream",
     "text": [
      "Training Epoch 58/600: 100%|██████████| 4/4 [00:03<00:00,  1.24it/s]\n",
      "Validating Epoch 58/600: 100%|██████████| 1/1 [00:00<00:00,  1.23it/s]\n"
     ]
    },
    {
     "name": "stdout",
     "output_type": "stream",
     "text": [
      "Epoch [58/600], Train Loss: 0.0843, Val Loss: 0.0807, MSE: 0.0807, SSIM: 0.5468\n"
     ]
    },
    {
     "name": "stderr",
     "output_type": "stream",
     "text": [
      "Training Epoch 59/600: 100%|██████████| 4/4 [00:03<00:00,  1.18it/s]\n",
      "Validating Epoch 59/600: 100%|██████████| 1/1 [00:00<00:00,  1.11it/s]\n"
     ]
    },
    {
     "name": "stdout",
     "output_type": "stream",
     "text": [
      "Epoch [59/600], Train Loss: 0.0762, Val Loss: 0.0667, MSE: 0.0667, SSIM: 0.6291\n"
     ]
    },
    {
     "name": "stderr",
     "output_type": "stream",
     "text": [
      "Training Epoch 60/600: 100%|██████████| 4/4 [00:03<00:00,  1.18it/s]\n",
      "Validating Epoch 60/600: 100%|██████████| 1/1 [00:00<00:00,  1.17it/s]\n"
     ]
    },
    {
     "name": "stdout",
     "output_type": "stream",
     "text": [
      "Epoch [60/600], Train Loss: 0.0725, Val Loss: 0.0809, MSE: 0.0809, SSIM: 0.5606\n"
     ]
    },
    {
     "name": "stderr",
     "output_type": "stream",
     "text": [
      "Training Epoch 61/600: 100%|██████████| 4/4 [00:03<00:00,  1.20it/s]\n",
      "Validating Epoch 61/600: 100%|██████████| 1/1 [00:00<00:00,  1.16it/s]\n"
     ]
    },
    {
     "name": "stdout",
     "output_type": "stream",
     "text": [
      "Epoch [61/600], Train Loss: 0.0834, Val Loss: 0.0874, MSE: 0.0874, SSIM: 0.5230\n"
     ]
    },
    {
     "name": "stderr",
     "output_type": "stream",
     "text": [
      "Training Epoch 62/600: 100%|██████████| 4/4 [00:03<00:00,  1.26it/s]\n",
      "Validating Epoch 62/600: 100%|██████████| 1/1 [00:00<00:00,  1.54it/s]\n"
     ]
    },
    {
     "name": "stdout",
     "output_type": "stream",
     "text": [
      "Epoch [62/600], Train Loss: 0.0744, Val Loss: 0.0679, MSE: 0.0679, SSIM: 0.6188\n"
     ]
    },
    {
     "name": "stderr",
     "output_type": "stream",
     "text": [
      "Training Epoch 63/600: 100%|██████████| 4/4 [00:02<00:00,  1.43it/s]\n",
      "Validating Epoch 63/600: 100%|██████████| 1/1 [00:00<00:00,  1.38it/s]\n"
     ]
    },
    {
     "name": "stdout",
     "output_type": "stream",
     "text": [
      "Epoch [63/600], Train Loss: 0.0801, Val Loss: 0.0757, MSE: 0.0757, SSIM: 0.5789\n"
     ]
    },
    {
     "name": "stderr",
     "output_type": "stream",
     "text": [
      "Training Epoch 64/600: 100%|██████████| 4/4 [00:02<00:00,  1.33it/s]\n",
      "Validating Epoch 64/600: 100%|██████████| 1/1 [00:00<00:00,  1.56it/s]\n"
     ]
    },
    {
     "name": "stdout",
     "output_type": "stream",
     "text": [
      "Epoch [64/600], Train Loss: 0.0838, Val Loss: 0.0762, MSE: 0.0762, SSIM: 0.5822\n"
     ]
    },
    {
     "name": "stderr",
     "output_type": "stream",
     "text": [
      "Training Epoch 65/600: 100%|██████████| 4/4 [00:03<00:00,  1.29it/s]\n",
      "Validating Epoch 65/600: 100%|██████████| 1/1 [00:00<00:00,  1.28it/s]\n"
     ]
    },
    {
     "name": "stdout",
     "output_type": "stream",
     "text": [
      "Epoch [65/600], Train Loss: 0.0787, Val Loss: 0.0789, MSE: 0.0789, SSIM: 0.5594\n"
     ]
    },
    {
     "name": "stderr",
     "output_type": "stream",
     "text": [
      "Training Epoch 66/600: 100%|██████████| 4/4 [00:03<00:00,  1.25it/s]\n",
      "Validating Epoch 66/600: 100%|██████████| 1/1 [00:00<00:00,  1.32it/s]\n"
     ]
    },
    {
     "name": "stdout",
     "output_type": "stream",
     "text": [
      "Epoch [66/600], Train Loss: 0.0799, Val Loss: 0.0746, MSE: 0.0746, SSIM: 0.5939\n"
     ]
    },
    {
     "name": "stderr",
     "output_type": "stream",
     "text": [
      "Training Epoch 67/600: 100%|██████████| 4/4 [00:03<00:00,  1.19it/s]\n",
      "Validating Epoch 67/600: 100%|██████████| 1/1 [00:00<00:00,  1.14it/s]\n"
     ]
    },
    {
     "name": "stdout",
     "output_type": "stream",
     "text": [
      "Epoch [67/600], Train Loss: 0.0744, Val Loss: 0.0813, MSE: 0.0813, SSIM: 0.5370\n"
     ]
    },
    {
     "name": "stderr",
     "output_type": "stream",
     "text": [
      "Training Epoch 68/600: 100%|██████████| 4/4 [00:03<00:00,  1.26it/s]\n",
      "Validating Epoch 68/600: 100%|██████████| 1/1 [00:00<00:00,  1.39it/s]\n"
     ]
    },
    {
     "name": "stdout",
     "output_type": "stream",
     "text": [
      "Epoch [68/600], Train Loss: 0.0848, Val Loss: 0.0651, MSE: 0.0651, SSIM: 0.6124\n"
     ]
    },
    {
     "name": "stderr",
     "output_type": "stream",
     "text": [
      "Training Epoch 69/600: 100%|██████████| 4/4 [00:03<00:00,  1.19it/s]\n",
      "Validating Epoch 69/600: 100%|██████████| 1/1 [00:00<00:00,  1.14it/s]\n"
     ]
    },
    {
     "name": "stdout",
     "output_type": "stream",
     "text": [
      "Epoch [69/600], Train Loss: 0.0804, Val Loss: 0.0607, MSE: 0.0607, SSIM: 0.6557\n"
     ]
    },
    {
     "name": "stderr",
     "output_type": "stream",
     "text": [
      "Training Epoch 70/600: 100%|██████████| 4/4 [00:03<00:00,  1.17it/s]\n",
      "Validating Epoch 70/600: 100%|██████████| 1/1 [00:00<00:00,  1.10it/s]\n"
     ]
    },
    {
     "name": "stdout",
     "output_type": "stream",
     "text": [
      "Epoch [70/600], Train Loss: 0.0802, Val Loss: 0.0760, MSE: 0.0760, SSIM: 0.5745\n"
     ]
    },
    {
     "name": "stderr",
     "output_type": "stream",
     "text": [
      "Training Epoch 71/600: 100%|██████████| 4/4 [00:03<00:00,  1.20it/s]\n",
      "Validating Epoch 71/600: 100%|██████████| 1/1 [00:00<00:00,  1.18it/s]\n"
     ]
    },
    {
     "name": "stdout",
     "output_type": "stream",
     "text": [
      "Epoch [71/600], Train Loss: 0.0718, Val Loss: 0.0667, MSE: 0.0667, SSIM: 0.6337\n"
     ]
    },
    {
     "name": "stderr",
     "output_type": "stream",
     "text": [
      "Training Epoch 72/600: 100%|██████████| 4/4 [00:03<00:00,  1.11it/s]\n",
      "Validating Epoch 72/600: 100%|██████████| 1/1 [00:00<00:00,  1.12it/s]\n"
     ]
    },
    {
     "name": "stdout",
     "output_type": "stream",
     "text": [
      "Epoch [72/600], Train Loss: 0.0808, Val Loss: 0.0616, MSE: 0.0616, SSIM: 0.6557\n"
     ]
    },
    {
     "name": "stderr",
     "output_type": "stream",
     "text": [
      "Training Epoch 73/600: 100%|██████████| 4/4 [00:03<00:00,  1.19it/s]\n",
      "Validating Epoch 73/600: 100%|██████████| 1/1 [00:00<00:00,  1.17it/s]\n"
     ]
    },
    {
     "name": "stdout",
     "output_type": "stream",
     "text": [
      "Epoch [73/600], Train Loss: 0.0827, Val Loss: 0.0748, MSE: 0.0748, SSIM: 0.5778\n"
     ]
    },
    {
     "name": "stderr",
     "output_type": "stream",
     "text": [
      "Training Epoch 74/600: 100%|██████████| 4/4 [00:03<00:00,  1.16it/s]\n",
      "Validating Epoch 74/600: 100%|██████████| 1/1 [00:00<00:00,  1.14it/s]\n"
     ]
    },
    {
     "name": "stdout",
     "output_type": "stream",
     "text": [
      "Epoch [74/600], Train Loss: 0.0718, Val Loss: 0.0752, MSE: 0.0752, SSIM: 0.5787\n"
     ]
    },
    {
     "name": "stderr",
     "output_type": "stream",
     "text": [
      "Training Epoch 75/600: 100%|██████████| 4/4 [00:03<00:00,  1.18it/s]\n",
      "Validating Epoch 75/600: 100%|██████████| 1/1 [00:00<00:00,  1.19it/s]\n"
     ]
    },
    {
     "name": "stdout",
     "output_type": "stream",
     "text": [
      "Epoch [75/600], Train Loss: 0.0766, Val Loss: 0.0657, MSE: 0.0657, SSIM: 0.6316\n"
     ]
    },
    {
     "name": "stderr",
     "output_type": "stream",
     "text": [
      "Training Epoch 76/600: 100%|██████████| 4/4 [00:03<00:00,  1.14it/s]\n",
      "Validating Epoch 76/600: 100%|██████████| 1/1 [00:00<00:00,  1.26it/s]\n"
     ]
    },
    {
     "name": "stdout",
     "output_type": "stream",
     "text": [
      "Epoch [76/600], Train Loss: 0.0813, Val Loss: 0.0685, MSE: 0.0685, SSIM: 0.6225\n"
     ]
    },
    {
     "name": "stderr",
     "output_type": "stream",
     "text": [
      "Training Epoch 77/600: 100%|██████████| 4/4 [00:03<00:00,  1.15it/s]\n",
      "Validating Epoch 77/600: 100%|██████████| 1/1 [00:00<00:00,  1.21it/s]\n"
     ]
    },
    {
     "name": "stdout",
     "output_type": "stream",
     "text": [
      "Epoch [77/600], Train Loss: 0.0732, Val Loss: 0.0650, MSE: 0.0650, SSIM: 0.6321\n"
     ]
    },
    {
     "name": "stderr",
     "output_type": "stream",
     "text": [
      "Training Epoch 78/600: 100%|██████████| 4/4 [00:03<00:00,  1.18it/s]\n",
      "Validating Epoch 78/600: 100%|██████████| 1/1 [00:00<00:00,  1.17it/s]\n"
     ]
    },
    {
     "name": "stdout",
     "output_type": "stream",
     "text": [
      "Epoch [78/600], Train Loss: 0.0752, Val Loss: 0.0534, MSE: 0.0534, SSIM: 0.6753\n"
     ]
    },
    {
     "name": "stderr",
     "output_type": "stream",
     "text": [
      "Training Epoch 79/600: 100%|██████████| 4/4 [00:03<00:00,  1.09it/s]\n",
      "Validating Epoch 79/600: 100%|██████████| 1/1 [00:00<00:00,  1.11it/s]\n"
     ]
    },
    {
     "name": "stdout",
     "output_type": "stream",
     "text": [
      "Epoch [79/600], Train Loss: 0.0761, Val Loss: 0.0725, MSE: 0.0725, SSIM: 0.6067\n"
     ]
    },
    {
     "name": "stderr",
     "output_type": "stream",
     "text": [
      "Training Epoch 80/600: 100%|██████████| 4/4 [00:03<00:00,  1.07it/s]\n",
      "Validating Epoch 80/600: 100%|██████████| 1/1 [00:00<00:00,  1.10it/s]\n"
     ]
    },
    {
     "name": "stdout",
     "output_type": "stream",
     "text": [
      "Epoch [80/600], Train Loss: 0.0749, Val Loss: 0.0827, MSE: 0.0827, SSIM: 0.5454\n"
     ]
    },
    {
     "name": "stderr",
     "output_type": "stream",
     "text": [
      "Training Epoch 81/600: 100%|██████████| 4/4 [00:03<00:00,  1.10it/s]\n",
      "Validating Epoch 81/600: 100%|██████████| 1/1 [00:00<00:00,  1.11it/s]\n"
     ]
    },
    {
     "name": "stdout",
     "output_type": "stream",
     "text": [
      "Epoch [81/600], Train Loss: 0.0802, Val Loss: 0.0802, MSE: 0.0802, SSIM: 0.5614\n"
     ]
    },
    {
     "name": "stderr",
     "output_type": "stream",
     "text": [
      "Training Epoch 82/600: 100%|██████████| 4/4 [00:03<00:00,  1.14it/s]\n",
      "Validating Epoch 82/600: 100%|██████████| 1/1 [00:01<00:00,  1.02s/it]\n"
     ]
    },
    {
     "name": "stdout",
     "output_type": "stream",
     "text": [
      "Epoch [82/600], Train Loss: 0.0734, Val Loss: 0.0700, MSE: 0.0700, SSIM: 0.6199\n"
     ]
    },
    {
     "name": "stderr",
     "output_type": "stream",
     "text": [
      "Training Epoch 83/600: 100%|██████████| 4/4 [00:03<00:00,  1.08it/s]\n",
      "Validating Epoch 83/600: 100%|██████████| 1/1 [00:00<00:00,  1.04it/s]\n"
     ]
    },
    {
     "name": "stdout",
     "output_type": "stream",
     "text": [
      "Epoch [83/600], Train Loss: 0.0682, Val Loss: 0.0727, MSE: 0.0727, SSIM: 0.6085\n"
     ]
    },
    {
     "name": "stderr",
     "output_type": "stream",
     "text": [
      "Training Epoch 84/600: 100%|██████████| 4/4 [00:03<00:00,  1.11it/s]\n",
      "Validating Epoch 84/600: 100%|██████████| 1/1 [00:00<00:00,  1.08it/s]\n"
     ]
    },
    {
     "name": "stdout",
     "output_type": "stream",
     "text": [
      "Epoch [84/600], Train Loss: 0.0825, Val Loss: 0.0676, MSE: 0.0676, SSIM: 0.6315\n"
     ]
    },
    {
     "name": "stderr",
     "output_type": "stream",
     "text": [
      "Training Epoch 85/600: 100%|██████████| 4/4 [00:03<00:00,  1.10it/s]\n",
      "Validating Epoch 85/600: 100%|██████████| 1/1 [00:00<00:00,  1.10it/s]\n"
     ]
    },
    {
     "name": "stdout",
     "output_type": "stream",
     "text": [
      "Epoch [85/600], Train Loss: 0.0774, Val Loss: 0.0687, MSE: 0.0687, SSIM: 0.6173\n"
     ]
    },
    {
     "name": "stderr",
     "output_type": "stream",
     "text": [
      "Training Epoch 86/600: 100%|██████████| 4/4 [00:03<00:00,  1.04it/s]\n",
      "Validating Epoch 86/600: 100%|██████████| 1/1 [00:00<00:00,  1.06it/s]\n"
     ]
    },
    {
     "name": "stdout",
     "output_type": "stream",
     "text": [
      "Epoch [86/600], Train Loss: 0.0735, Val Loss: 0.0785, MSE: 0.0785, SSIM: 0.5871\n"
     ]
    },
    {
     "name": "stderr",
     "output_type": "stream",
     "text": [
      "Training Epoch 87/600: 100%|██████████| 4/4 [00:03<00:00,  1.03it/s]\n",
      "Validating Epoch 87/600: 100%|██████████| 1/1 [00:00<00:00,  1.09it/s]\n"
     ]
    },
    {
     "name": "stdout",
     "output_type": "stream",
     "text": [
      "Epoch [87/600], Train Loss: 0.0798, Val Loss: 0.0895, MSE: 0.0895, SSIM: 0.5440\n"
     ]
    },
    {
     "name": "stderr",
     "output_type": "stream",
     "text": [
      "Training Epoch 88/600: 100%|██████████| 4/4 [00:03<00:00,  1.13it/s]\n",
      "Validating Epoch 88/600: 100%|██████████| 1/1 [00:00<00:00,  1.12it/s]\n"
     ]
    },
    {
     "name": "stdout",
     "output_type": "stream",
     "text": [
      "Epoch [88/600], Train Loss: 0.0780, Val Loss: 0.0588, MSE: 0.0588, SSIM: 0.6567\n"
     ]
    },
    {
     "name": "stderr",
     "output_type": "stream",
     "text": [
      "Training Epoch 89/600: 100%|██████████| 4/4 [00:03<00:00,  1.09it/s]\n",
      "Validating Epoch 89/600: 100%|██████████| 1/1 [00:00<00:00,  1.09it/s]\n"
     ]
    },
    {
     "name": "stdout",
     "output_type": "stream",
     "text": [
      "Epoch [89/600], Train Loss: 0.0790, Val Loss: 0.0687, MSE: 0.0687, SSIM: 0.6208\n"
     ]
    },
    {
     "name": "stderr",
     "output_type": "stream",
     "text": [
      "Training Epoch 90/600: 100%|██████████| 4/4 [00:03<00:00,  1.10it/s]\n",
      "Validating Epoch 90/600: 100%|██████████| 1/1 [00:00<00:00,  1.10it/s]\n"
     ]
    },
    {
     "name": "stdout",
     "output_type": "stream",
     "text": [
      "Epoch [90/600], Train Loss: 0.0807, Val Loss: 0.0621, MSE: 0.0621, SSIM: 0.6619\n"
     ]
    },
    {
     "name": "stderr",
     "output_type": "stream",
     "text": [
      "Training Epoch 91/600: 100%|██████████| 4/4 [00:03<00:00,  1.10it/s]\n",
      "Validating Epoch 91/600: 100%|██████████| 1/1 [00:00<00:00,  1.15it/s]\n"
     ]
    },
    {
     "name": "stdout",
     "output_type": "stream",
     "text": [
      "Epoch [91/600], Train Loss: 0.0794, Val Loss: 0.0710, MSE: 0.0710, SSIM: 0.6042\n"
     ]
    },
    {
     "name": "stderr",
     "output_type": "stream",
     "text": [
      "Training Epoch 92/600: 100%|██████████| 4/4 [00:03<00:00,  1.10it/s]\n",
      "Validating Epoch 92/600: 100%|██████████| 1/1 [00:00<00:00,  1.07it/s]\n"
     ]
    },
    {
     "name": "stdout",
     "output_type": "stream",
     "text": [
      "Epoch [92/600], Train Loss: 0.0807, Val Loss: 0.0715, MSE: 0.0715, SSIM: 0.6062\n"
     ]
    },
    {
     "name": "stderr",
     "output_type": "stream",
     "text": [
      "Training Epoch 93/600: 100%|██████████| 4/4 [00:03<00:00,  1.12it/s]\n",
      "Validating Epoch 93/600: 100%|██████████| 1/1 [00:00<00:00,  1.09it/s]\n"
     ]
    },
    {
     "name": "stdout",
     "output_type": "stream",
     "text": [
      "Epoch [93/600], Train Loss: 0.0704, Val Loss: 0.0628, MSE: 0.0628, SSIM: 0.6406\n"
     ]
    },
    {
     "name": "stderr",
     "output_type": "stream",
     "text": [
      "Training Epoch 94/600: 100%|██████████| 4/4 [00:03<00:00,  1.09it/s]\n",
      "Validating Epoch 94/600: 100%|██████████| 1/1 [00:00<00:00,  1.04it/s]\n"
     ]
    },
    {
     "name": "stdout",
     "output_type": "stream",
     "text": [
      "Epoch [94/600], Train Loss: 0.0701, Val Loss: 0.0753, MSE: 0.0753, SSIM: 0.5872\n"
     ]
    },
    {
     "name": "stderr",
     "output_type": "stream",
     "text": [
      "Training Epoch 95/600: 100%|██████████| 4/4 [00:03<00:00,  1.08it/s]\n",
      "Validating Epoch 95/600: 100%|██████████| 1/1 [00:00<00:00,  1.09it/s]\n"
     ]
    },
    {
     "name": "stdout",
     "output_type": "stream",
     "text": [
      "Epoch [95/600], Train Loss: 0.0884, Val Loss: 0.0877, MSE: 0.0877, SSIM: 0.5349\n"
     ]
    },
    {
     "name": "stderr",
     "output_type": "stream",
     "text": [
      "Training Epoch 96/600: 100%|██████████| 4/4 [00:03<00:00,  1.09it/s]\n",
      "Validating Epoch 96/600: 100%|██████████| 1/1 [00:00<00:00,  1.14it/s]\n"
     ]
    },
    {
     "name": "stdout",
     "output_type": "stream",
     "text": [
      "Epoch [96/600], Train Loss: 0.0730, Val Loss: 0.0832, MSE: 0.0832, SSIM: 0.5412\n"
     ]
    },
    {
     "name": "stderr",
     "output_type": "stream",
     "text": [
      "Training Epoch 97/600: 100%|██████████| 4/4 [00:03<00:00,  1.12it/s]\n",
      "Validating Epoch 97/600: 100%|██████████| 1/1 [00:00<00:00,  1.23it/s]\n"
     ]
    },
    {
     "name": "stdout",
     "output_type": "stream",
     "text": [
      "Epoch [97/600], Train Loss: 0.0694, Val Loss: 0.0755, MSE: 0.0755, SSIM: 0.5835\n"
     ]
    },
    {
     "name": "stderr",
     "output_type": "stream",
     "text": [
      "Training Epoch 98/600: 100%|██████████| 4/4 [00:03<00:00,  1.12it/s]\n",
      "Validating Epoch 98/600: 100%|██████████| 1/1 [00:00<00:00,  1.06it/s]\n"
     ]
    },
    {
     "name": "stdout",
     "output_type": "stream",
     "text": [
      "Epoch [98/600], Train Loss: 0.0802, Val Loss: 0.0852, MSE: 0.0852, SSIM: 0.5493\n"
     ]
    },
    {
     "name": "stderr",
     "output_type": "stream",
     "text": [
      "Training Epoch 99/600: 100%|██████████| 4/4 [00:03<00:00,  1.09it/s]\n",
      "Validating Epoch 99/600: 100%|██████████| 1/1 [00:00<00:00,  1.12it/s]\n"
     ]
    },
    {
     "name": "stdout",
     "output_type": "stream",
     "text": [
      "Epoch [99/600], Train Loss: 0.0822, Val Loss: 0.0822, MSE: 0.0822, SSIM: 0.5381\n"
     ]
    },
    {
     "name": "stderr",
     "output_type": "stream",
     "text": [
      "Training Epoch 100/600: 100%|██████████| 4/4 [00:03<00:00,  1.13it/s]\n",
      "Validating Epoch 100/600: 100%|██████████| 1/1 [00:00<00:00,  1.15it/s]\n"
     ]
    },
    {
     "name": "stdout",
     "output_type": "stream",
     "text": [
      "Epoch [100/600], Train Loss: 0.0786, Val Loss: 0.0687, MSE: 0.0687, SSIM: 0.6113\n"
     ]
    },
    {
     "name": "stderr",
     "output_type": "stream",
     "text": [
      "Training Epoch 101/600: 100%|██████████| 4/4 [00:03<00:00,  1.07it/s]\n",
      "Validating Epoch 101/600: 100%|██████████| 1/1 [00:00<00:00,  1.02it/s]\n"
     ]
    },
    {
     "name": "stdout",
     "output_type": "stream",
     "text": [
      "Epoch [101/600], Train Loss: 0.0799, Val Loss: 0.0834, MSE: 0.0834, SSIM: 0.5417\n"
     ]
    },
    {
     "name": "stderr",
     "output_type": "stream",
     "text": [
      "Training Epoch 102/600: 100%|██████████| 4/4 [00:03<00:00,  1.02it/s]\n",
      "Validating Epoch 102/600: 100%|██████████| 1/1 [00:00<00:00,  1.10it/s]\n"
     ]
    },
    {
     "name": "stdout",
     "output_type": "stream",
     "text": [
      "Epoch [102/600], Train Loss: 0.0712, Val Loss: 0.0759, MSE: 0.0759, SSIM: 0.5784\n"
     ]
    },
    {
     "name": "stderr",
     "output_type": "stream",
     "text": [
      "Training Epoch 103/600: 100%|██████████| 4/4 [00:03<00:00,  1.09it/s]\n",
      "Validating Epoch 103/600: 100%|██████████| 1/1 [00:00<00:00,  1.03it/s]\n"
     ]
    },
    {
     "name": "stdout",
     "output_type": "stream",
     "text": [
      "Epoch [103/600], Train Loss: 0.0796, Val Loss: 0.0805, MSE: 0.0805, SSIM: 0.5773\n"
     ]
    },
    {
     "name": "stderr",
     "output_type": "stream",
     "text": [
      "Training Epoch 104/600: 100%|██████████| 4/4 [00:03<00:00,  1.12it/s]\n",
      "Validating Epoch 104/600: 100%|██████████| 1/1 [00:00<00:00,  1.12it/s]\n"
     ]
    },
    {
     "name": "stdout",
     "output_type": "stream",
     "text": [
      "Epoch [104/600], Train Loss: 0.0802, Val Loss: 0.0787, MSE: 0.0787, SSIM: 0.5427\n"
     ]
    },
    {
     "name": "stderr",
     "output_type": "stream",
     "text": [
      "Training Epoch 105/600: 100%|██████████| 4/4 [00:03<00:00,  1.10it/s]\n",
      "Validating Epoch 105/600: 100%|██████████| 1/1 [00:01<00:00,  1.02s/it]\n"
     ]
    },
    {
     "name": "stdout",
     "output_type": "stream",
     "text": [
      "Epoch [105/600], Train Loss: 0.0766, Val Loss: 0.0625, MSE: 0.0625, SSIM: 0.6432\n"
     ]
    },
    {
     "name": "stderr",
     "output_type": "stream",
     "text": [
      "Training Epoch 106/600: 100%|██████████| 4/4 [00:03<00:00,  1.10it/s]\n",
      "Validating Epoch 106/600: 100%|██████████| 1/1 [00:00<00:00,  1.16it/s]\n"
     ]
    },
    {
     "name": "stdout",
     "output_type": "stream",
     "text": [
      "Epoch [106/600], Train Loss: 0.0793, Val Loss: 0.0668, MSE: 0.0668, SSIM: 0.6171\n"
     ]
    },
    {
     "name": "stderr",
     "output_type": "stream",
     "text": [
      "Training Epoch 107/600: 100%|██████████| 4/4 [00:03<00:00,  1.05it/s]\n",
      "Validating Epoch 107/600: 100%|██████████| 1/1 [00:00<00:00,  1.08it/s]\n"
     ]
    },
    {
     "name": "stdout",
     "output_type": "stream",
     "text": [
      "Epoch [107/600], Train Loss: 0.0790, Val Loss: 0.0633, MSE: 0.0633, SSIM: 0.6374\n"
     ]
    },
    {
     "name": "stderr",
     "output_type": "stream",
     "text": [
      "Training Epoch 108/600: 100%|██████████| 4/4 [00:03<00:00,  1.10it/s]\n",
      "Validating Epoch 108/600: 100%|██████████| 1/1 [00:01<00:00,  1.10s/it]\n"
     ]
    },
    {
     "name": "stdout",
     "output_type": "stream",
     "text": [
      "Epoch [108/600], Train Loss: 0.0693, Val Loss: 0.0647, MSE: 0.0647, SSIM: 0.6114\n"
     ]
    },
    {
     "name": "stderr",
     "output_type": "stream",
     "text": [
      "Training Epoch 109/600: 100%|██████████| 4/4 [00:03<00:00,  1.05it/s]\n",
      "Validating Epoch 109/600: 100%|██████████| 1/1 [00:00<00:00,  1.09it/s]\n"
     ]
    },
    {
     "name": "stdout",
     "output_type": "stream",
     "text": [
      "Epoch [109/600], Train Loss: 0.0792, Val Loss: 0.0736, MSE: 0.0736, SSIM: 0.5894\n"
     ]
    },
    {
     "name": "stderr",
     "output_type": "stream",
     "text": [
      "Training Epoch 110/600: 100%|██████████| 4/4 [00:03<00:00,  1.07it/s]\n",
      "Validating Epoch 110/600: 100%|██████████| 1/1 [00:00<00:00,  1.06it/s]\n"
     ]
    },
    {
     "name": "stdout",
     "output_type": "stream",
     "text": [
      "Epoch [110/600], Train Loss: 0.0800, Val Loss: 0.0514, MSE: 0.0514, SSIM: 0.6996\n"
     ]
    },
    {
     "name": "stderr",
     "output_type": "stream",
     "text": [
      "Training Epoch 111/600: 100%|██████████| 4/4 [00:03<00:00,  1.07it/s]\n",
      "Validating Epoch 111/600: 100%|██████████| 1/1 [00:00<00:00,  1.16it/s]\n"
     ]
    },
    {
     "name": "stdout",
     "output_type": "stream",
     "text": [
      "Epoch [111/600], Train Loss: 0.0718, Val Loss: 0.0694, MSE: 0.0694, SSIM: 0.6259\n"
     ]
    },
    {
     "name": "stderr",
     "output_type": "stream",
     "text": [
      "Training Epoch 112/600: 100%|██████████| 4/4 [00:03<00:00,  1.08it/s]\n",
      "Validating Epoch 112/600: 100%|██████████| 1/1 [00:00<00:00,  1.12it/s]\n"
     ]
    },
    {
     "name": "stdout",
     "output_type": "stream",
     "text": [
      "Epoch [112/600], Train Loss: 0.0737, Val Loss: 0.0583, MSE: 0.0583, SSIM: 0.6684\n"
     ]
    },
    {
     "name": "stderr",
     "output_type": "stream",
     "text": [
      "Training Epoch 113/600: 100%|██████████| 4/4 [00:03<00:00,  1.07it/s]\n",
      "Validating Epoch 113/600: 100%|██████████| 1/1 [00:00<00:00,  1.05it/s]\n"
     ]
    },
    {
     "name": "stdout",
     "output_type": "stream",
     "text": [
      "Epoch [113/600], Train Loss: 0.0806, Val Loss: 0.0544, MSE: 0.0544, SSIM: 0.6747\n"
     ]
    },
    {
     "name": "stderr",
     "output_type": "stream",
     "text": [
      "Training Epoch 114/600: 100%|██████████| 4/4 [00:03<00:00,  1.10it/s]\n",
      "Validating Epoch 114/600: 100%|██████████| 1/1 [00:00<00:00,  1.08it/s]\n"
     ]
    },
    {
     "name": "stdout",
     "output_type": "stream",
     "text": [
      "Epoch [114/600], Train Loss: 0.0701, Val Loss: 0.0591, MSE: 0.0591, SSIM: 0.6672\n"
     ]
    },
    {
     "name": "stderr",
     "output_type": "stream",
     "text": [
      "Training Epoch 115/600: 100%|██████████| 4/4 [00:03<00:00,  1.10it/s]\n",
      "Validating Epoch 115/600: 100%|██████████| 1/1 [00:00<00:00,  1.01it/s]\n"
     ]
    },
    {
     "name": "stdout",
     "output_type": "stream",
     "text": [
      "Epoch [115/600], Train Loss: 0.0747, Val Loss: 0.0752, MSE: 0.0752, SSIM: 0.5889\n"
     ]
    },
    {
     "name": "stderr",
     "output_type": "stream",
     "text": [
      "Training Epoch 116/600: 100%|██████████| 4/4 [00:03<00:00,  1.11it/s]\n",
      "Validating Epoch 116/600: 100%|██████████| 1/1 [00:00<00:00,  1.16it/s]\n"
     ]
    },
    {
     "name": "stdout",
     "output_type": "stream",
     "text": [
      "Epoch [116/600], Train Loss: 0.0787, Val Loss: 0.0697, MSE: 0.0697, SSIM: 0.6032\n"
     ]
    },
    {
     "name": "stderr",
     "output_type": "stream",
     "text": [
      "Training Epoch 117/600: 100%|██████████| 4/4 [00:03<00:00,  1.05it/s]\n",
      "Validating Epoch 117/600: 100%|██████████| 1/1 [00:00<00:00,  1.09it/s]\n"
     ]
    },
    {
     "name": "stdout",
     "output_type": "stream",
     "text": [
      "Epoch [117/600], Train Loss: 0.0820, Val Loss: 0.0688, MSE: 0.0688, SSIM: 0.6112\n"
     ]
    },
    {
     "name": "stderr",
     "output_type": "stream",
     "text": [
      "Training Epoch 118/600: 100%|██████████| 4/4 [00:03<00:00,  1.06it/s]\n",
      "Validating Epoch 118/600: 100%|██████████| 1/1 [00:00<00:00,  1.09it/s]\n"
     ]
    },
    {
     "name": "stdout",
     "output_type": "stream",
     "text": [
      "Epoch [118/600], Train Loss: 0.0843, Val Loss: 0.0859, MSE: 0.0859, SSIM: 0.5280\n"
     ]
    },
    {
     "name": "stderr",
     "output_type": "stream",
     "text": [
      "Training Epoch 119/600: 100%|██████████| 4/4 [00:03<00:00,  1.07it/s]\n",
      "Validating Epoch 119/600: 100%|██████████| 1/1 [00:00<00:00,  1.13it/s]\n"
     ]
    },
    {
     "name": "stdout",
     "output_type": "stream",
     "text": [
      "Epoch [119/600], Train Loss: 0.0819, Val Loss: 0.0646, MSE: 0.0646, SSIM: 0.6297\n"
     ]
    },
    {
     "name": "stderr",
     "output_type": "stream",
     "text": [
      "Training Epoch 120/600: 100%|██████████| 4/4 [00:03<00:00,  1.12it/s]\n",
      "Validating Epoch 120/600: 100%|██████████| 1/1 [00:00<00:00,  1.09it/s]\n"
     ]
    },
    {
     "name": "stdout",
     "output_type": "stream",
     "text": [
      "Epoch [120/600], Train Loss: 0.0771, Val Loss: 0.0730, MSE: 0.0730, SSIM: 0.5902\n"
     ]
    },
    {
     "name": "stderr",
     "output_type": "stream",
     "text": [
      "Training Epoch 121/600: 100%|██████████| 4/4 [00:03<00:00,  1.11it/s]\n",
      "Validating Epoch 121/600: 100%|██████████| 1/1 [00:00<00:00,  1.12it/s]\n"
     ]
    },
    {
     "name": "stdout",
     "output_type": "stream",
     "text": [
      "Epoch [121/600], Train Loss: 0.0677, Val Loss: 0.0607, MSE: 0.0607, SSIM: 0.6495\n"
     ]
    },
    {
     "name": "stderr",
     "output_type": "stream",
     "text": [
      "Training Epoch 122/600: 100%|██████████| 4/4 [00:03<00:00,  1.23it/s]\n",
      "Validating Epoch 122/600: 100%|██████████| 1/1 [00:00<00:00,  1.34it/s]\n"
     ]
    },
    {
     "name": "stdout",
     "output_type": "stream",
     "text": [
      "Epoch [122/600], Train Loss: 0.0845, Val Loss: 0.0855, MSE: 0.0855, SSIM: 0.5313\n"
     ]
    },
    {
     "name": "stderr",
     "output_type": "stream",
     "text": [
      "Training Epoch 123/600: 100%|██████████| 4/4 [00:02<00:00,  1.38it/s]\n",
      "Validating Epoch 123/600: 100%|██████████| 1/1 [00:00<00:00,  1.37it/s]\n"
     ]
    },
    {
     "name": "stdout",
     "output_type": "stream",
     "text": [
      "Epoch [123/600], Train Loss: 0.0781, Val Loss: 0.0678, MSE: 0.0678, SSIM: 0.6222\n"
     ]
    },
    {
     "name": "stderr",
     "output_type": "stream",
     "text": [
      "Training Epoch 124/600: 100%|██████████| 4/4 [00:02<00:00,  1.41it/s]\n",
      "Validating Epoch 124/600: 100%|██████████| 1/1 [00:00<00:00,  1.38it/s]\n"
     ]
    },
    {
     "name": "stdout",
     "output_type": "stream",
     "text": [
      "Epoch [124/600], Train Loss: 0.0828, Val Loss: 0.0647, MSE: 0.0647, SSIM: 0.6472\n"
     ]
    },
    {
     "name": "stderr",
     "output_type": "stream",
     "text": [
      "Training Epoch 125/600: 100%|██████████| 4/4 [00:02<00:00,  1.35it/s]\n",
      "Validating Epoch 125/600: 100%|██████████| 1/1 [00:00<00:00,  1.42it/s]\n"
     ]
    },
    {
     "name": "stdout",
     "output_type": "stream",
     "text": [
      "Epoch [125/600], Train Loss: 0.0763, Val Loss: 0.0786, MSE: 0.0786, SSIM: 0.5643\n"
     ]
    },
    {
     "name": "stderr",
     "output_type": "stream",
     "text": [
      "Training Epoch 126/600: 100%|██████████| 4/4 [00:03<00:00,  1.31it/s]\n",
      "Validating Epoch 126/600: 100%|██████████| 1/1 [00:00<00:00,  1.18it/s]\n"
     ]
    },
    {
     "name": "stdout",
     "output_type": "stream",
     "text": [
      "Epoch [126/600], Train Loss: 0.0712, Val Loss: 0.0603, MSE: 0.0603, SSIM: 0.6707\n"
     ]
    },
    {
     "name": "stderr",
     "output_type": "stream",
     "text": [
      "Training Epoch 127/600: 100%|██████████| 4/4 [00:02<00:00,  1.42it/s]\n",
      "Validating Epoch 127/600: 100%|██████████| 1/1 [00:00<00:00,  1.44it/s]\n"
     ]
    },
    {
     "name": "stdout",
     "output_type": "stream",
     "text": [
      "Epoch [127/600], Train Loss: 0.0809, Val Loss: 0.0828, MSE: 0.0828, SSIM: 0.5501\n"
     ]
    },
    {
     "name": "stderr",
     "output_type": "stream",
     "text": [
      "Training Epoch 128/600: 100%|██████████| 4/4 [00:02<00:00,  1.40it/s]\n",
      "Validating Epoch 128/600: 100%|██████████| 1/1 [00:00<00:00,  1.40it/s]\n"
     ]
    },
    {
     "name": "stdout",
     "output_type": "stream",
     "text": [
      "Epoch [128/600], Train Loss: 0.0754, Val Loss: 0.0985, MSE: 0.0985, SSIM: 0.4618\n"
     ]
    },
    {
     "name": "stderr",
     "output_type": "stream",
     "text": [
      "Training Epoch 129/600: 100%|██████████| 4/4 [00:02<00:00,  1.40it/s]\n",
      "Validating Epoch 129/600: 100%|██████████| 1/1 [00:00<00:00,  1.41it/s]\n"
     ]
    },
    {
     "name": "stdout",
     "output_type": "stream",
     "text": [
      "Epoch [129/600], Train Loss: 0.0728, Val Loss: 0.0756, MSE: 0.0756, SSIM: 0.5824\n"
     ]
    },
    {
     "name": "stderr",
     "output_type": "stream",
     "text": [
      "Training Epoch 130/600: 100%|██████████| 4/4 [00:02<00:00,  1.34it/s]\n",
      "Validating Epoch 130/600: 100%|██████████| 1/1 [00:00<00:00,  1.37it/s]\n"
     ]
    },
    {
     "name": "stdout",
     "output_type": "stream",
     "text": [
      "Epoch [130/600], Train Loss: 0.0858, Val Loss: 0.0723, MSE: 0.0723, SSIM: 0.5833\n"
     ]
    },
    {
     "name": "stderr",
     "output_type": "stream",
     "text": [
      "Training Epoch 131/600: 100%|██████████| 4/4 [00:02<00:00,  1.35it/s]\n",
      "Validating Epoch 131/600: 100%|██████████| 1/1 [00:00<00:00,  1.36it/s]\n"
     ]
    },
    {
     "name": "stdout",
     "output_type": "stream",
     "text": [
      "Epoch [131/600], Train Loss: 0.0703, Val Loss: 0.0802, MSE: 0.0802, SSIM: 0.5455\n"
     ]
    },
    {
     "name": "stderr",
     "output_type": "stream",
     "text": [
      "Training Epoch 132/600: 100%|██████████| 4/4 [00:03<00:00,  1.27it/s]\n",
      "Validating Epoch 132/600: 100%|██████████| 1/1 [00:00<00:00,  1.43it/s]\n"
     ]
    },
    {
     "name": "stdout",
     "output_type": "stream",
     "text": [
      "Epoch [132/600], Train Loss: 0.0833, Val Loss: 0.0781, MSE: 0.0781, SSIM: 0.5630\n"
     ]
    },
    {
     "name": "stderr",
     "output_type": "stream",
     "text": [
      "Training Epoch 133/600: 100%|██████████| 4/4 [00:02<00:00,  1.44it/s]\n",
      "Validating Epoch 133/600: 100%|██████████| 1/1 [00:00<00:00,  1.45it/s]\n"
     ]
    },
    {
     "name": "stdout",
     "output_type": "stream",
     "text": [
      "Epoch [133/600], Train Loss: 0.0692, Val Loss: 0.0824, MSE: 0.0824, SSIM: 0.5324\n"
     ]
    },
    {
     "name": "stderr",
     "output_type": "stream",
     "text": [
      "Training Epoch 134/600: 100%|██████████| 4/4 [00:02<00:00,  1.35it/s]\n",
      "Validating Epoch 134/600: 100%|██████████| 1/1 [00:00<00:00,  1.34it/s]\n"
     ]
    },
    {
     "name": "stdout",
     "output_type": "stream",
     "text": [
      "Epoch [134/600], Train Loss: 0.0763, Val Loss: 0.0640, MSE: 0.0640, SSIM: 0.6406\n"
     ]
    },
    {
     "name": "stderr",
     "output_type": "stream",
     "text": [
      "Training Epoch 135/600: 100%|██████████| 4/4 [00:03<00:00,  1.29it/s]\n",
      "Validating Epoch 135/600: 100%|██████████| 1/1 [00:00<00:00,  1.35it/s]\n"
     ]
    },
    {
     "name": "stdout",
     "output_type": "stream",
     "text": [
      "Epoch [135/600], Train Loss: 0.0723, Val Loss: 0.0673, MSE: 0.0673, SSIM: 0.6102\n"
     ]
    },
    {
     "name": "stderr",
     "output_type": "stream",
     "text": [
      "Training Epoch 136/600: 100%|██████████| 4/4 [00:02<00:00,  1.35it/s]\n",
      "Validating Epoch 136/600: 100%|██████████| 1/1 [00:00<00:00,  1.39it/s]\n"
     ]
    },
    {
     "name": "stdout",
     "output_type": "stream",
     "text": [
      "Epoch [136/600], Train Loss: 0.0805, Val Loss: 0.0663, MSE: 0.0663, SSIM: 0.6162\n"
     ]
    },
    {
     "name": "stderr",
     "output_type": "stream",
     "text": [
      "Training Epoch 137/600: 100%|██████████| 4/4 [00:02<00:00,  1.35it/s]\n",
      "Validating Epoch 137/600: 100%|██████████| 1/1 [00:00<00:00,  1.37it/s]\n"
     ]
    },
    {
     "name": "stdout",
     "output_type": "stream",
     "text": [
      "Epoch [137/600], Train Loss: 0.0725, Val Loss: 0.0653, MSE: 0.0653, SSIM: 0.6501\n"
     ]
    },
    {
     "name": "stderr",
     "output_type": "stream",
     "text": [
      "Training Epoch 138/600: 100%|██████████| 4/4 [00:02<00:00,  1.35it/s]\n",
      "Validating Epoch 138/600: 100%|██████████| 1/1 [00:00<00:00,  1.30it/s]\n"
     ]
    },
    {
     "name": "stdout",
     "output_type": "stream",
     "text": [
      "Epoch [138/600], Train Loss: 0.0803, Val Loss: 0.0663, MSE: 0.0663, SSIM: 0.6140\n"
     ]
    },
    {
     "name": "stderr",
     "output_type": "stream",
     "text": [
      "Training Epoch 139/600: 100%|██████████| 4/4 [00:02<00:00,  1.35it/s]\n",
      "Validating Epoch 139/600: 100%|██████████| 1/1 [00:00<00:00,  1.37it/s]\n"
     ]
    },
    {
     "name": "stdout",
     "output_type": "stream",
     "text": [
      "Epoch [139/600], Train Loss: 0.0777, Val Loss: 0.0723, MSE: 0.0723, SSIM: 0.6054\n"
     ]
    },
    {
     "name": "stderr",
     "output_type": "stream",
     "text": [
      "Training Epoch 140/600: 100%|██████████| 4/4 [00:03<00:00,  1.30it/s]\n",
      "Validating Epoch 140/600: 100%|██████████| 1/1 [00:00<00:00,  1.21it/s]\n"
     ]
    },
    {
     "name": "stdout",
     "output_type": "stream",
     "text": [
      "Epoch [140/600], Train Loss: 0.0722, Val Loss: 0.0507, MSE: 0.0507, SSIM: 0.7115\n"
     ]
    },
    {
     "name": "stderr",
     "output_type": "stream",
     "text": [
      "Training Epoch 141/600: 100%|██████████| 4/4 [00:03<00:00,  1.26it/s]\n",
      "Validating Epoch 141/600: 100%|██████████| 1/1 [00:00<00:00,  1.31it/s]\n"
     ]
    },
    {
     "name": "stdout",
     "output_type": "stream",
     "text": [
      "Epoch [141/600], Train Loss: 0.0835, Val Loss: 0.0703, MSE: 0.0703, SSIM: 0.5933\n"
     ]
    },
    {
     "name": "stderr",
     "output_type": "stream",
     "text": [
      "Training Epoch 142/600: 100%|██████████| 4/4 [00:03<00:00,  1.26it/s]\n",
      "Validating Epoch 142/600: 100%|██████████| 1/1 [00:00<00:00,  1.32it/s]\n"
     ]
    },
    {
     "name": "stdout",
     "output_type": "stream",
     "text": [
      "Epoch [142/600], Train Loss: 0.0791, Val Loss: 0.0781, MSE: 0.0781, SSIM: 0.5629\n"
     ]
    },
    {
     "name": "stderr",
     "output_type": "stream",
     "text": [
      "Training Epoch 143/600: 100%|██████████| 4/4 [00:03<00:00,  1.28it/s]\n",
      "Validating Epoch 143/600: 100%|██████████| 1/1 [00:00<00:00,  1.35it/s]\n"
     ]
    },
    {
     "name": "stdout",
     "output_type": "stream",
     "text": [
      "Epoch [143/600], Train Loss: 0.0765, Val Loss: 0.0683, MSE: 0.0683, SSIM: 0.6018\n"
     ]
    },
    {
     "name": "stderr",
     "output_type": "stream",
     "text": [
      "Training Epoch 144/600: 100%|██████████| 4/4 [00:02<00:00,  1.34it/s]\n",
      "Validating Epoch 144/600: 100%|██████████| 1/1 [00:00<00:00,  1.41it/s]\n"
     ]
    },
    {
     "name": "stdout",
     "output_type": "stream",
     "text": [
      "Epoch [144/600], Train Loss: 0.0703, Val Loss: 0.0693, MSE: 0.0693, SSIM: 0.6356\n"
     ]
    },
    {
     "name": "stderr",
     "output_type": "stream",
     "text": [
      "Training Epoch 145/600: 100%|██████████| 4/4 [00:03<00:00,  1.32it/s]\n",
      "Validating Epoch 145/600: 100%|██████████| 1/1 [00:00<00:00,  1.31it/s]\n"
     ]
    },
    {
     "name": "stdout",
     "output_type": "stream",
     "text": [
      "Epoch [145/600], Train Loss: 0.0781, Val Loss: 0.0608, MSE: 0.0608, SSIM: 0.6412\n"
     ]
    },
    {
     "name": "stderr",
     "output_type": "stream",
     "text": [
      "Training Epoch 146/600: 100%|██████████| 4/4 [00:03<00:00,  1.33it/s]\n",
      "Validating Epoch 146/600: 100%|██████████| 1/1 [00:00<00:00,  1.20it/s]\n"
     ]
    },
    {
     "name": "stdout",
     "output_type": "stream",
     "text": [
      "Epoch [146/600], Train Loss: 0.0753, Val Loss: 0.0708, MSE: 0.0708, SSIM: 0.6069\n"
     ]
    },
    {
     "name": "stderr",
     "output_type": "stream",
     "text": [
      "Training Epoch 147/600: 100%|██████████| 4/4 [00:03<00:00,  1.29it/s]\n",
      "Validating Epoch 147/600: 100%|██████████| 1/1 [00:00<00:00,  1.41it/s]\n"
     ]
    },
    {
     "name": "stdout",
     "output_type": "stream",
     "text": [
      "Epoch [147/600], Train Loss: 0.0723, Val Loss: 0.0800, MSE: 0.0800, SSIM: 0.5493\n"
     ]
    },
    {
     "name": "stderr",
     "output_type": "stream",
     "text": [
      "Training Epoch 148/600: 100%|██████████| 4/4 [00:03<00:00,  1.32it/s]\n",
      "Validating Epoch 148/600: 100%|██████████| 1/1 [00:00<00:00,  1.31it/s]\n"
     ]
    },
    {
     "name": "stdout",
     "output_type": "stream",
     "text": [
      "Epoch [148/600], Train Loss: 0.0765, Val Loss: 0.0768, MSE: 0.0768, SSIM: 0.5752\n"
     ]
    },
    {
     "name": "stderr",
     "output_type": "stream",
     "text": [
      "Training Epoch 149/600: 100%|██████████| 4/4 [00:03<00:00,  1.33it/s]\n",
      "Validating Epoch 149/600: 100%|██████████| 1/1 [00:00<00:00,  1.37it/s]\n"
     ]
    },
    {
     "name": "stdout",
     "output_type": "stream",
     "text": [
      "Epoch [149/600], Train Loss: 0.0799, Val Loss: 0.0640, MSE: 0.0640, SSIM: 0.6356\n"
     ]
    },
    {
     "name": "stderr",
     "output_type": "stream",
     "text": [
      "Training Epoch 150/600: 100%|██████████| 4/4 [00:03<00:00,  1.31it/s]\n",
      "Validating Epoch 150/600: 100%|██████████| 1/1 [00:00<00:00,  1.36it/s]\n"
     ]
    },
    {
     "name": "stdout",
     "output_type": "stream",
     "text": [
      "Epoch [150/600], Train Loss: 0.0755, Val Loss: 0.0773, MSE: 0.0773, SSIM: 0.5732\n"
     ]
    },
    {
     "name": "stderr",
     "output_type": "stream",
     "text": [
      "Training Epoch 151/600: 100%|██████████| 4/4 [00:02<00:00,  1.35it/s]\n",
      "Validating Epoch 151/600: 100%|██████████| 1/1 [00:00<00:00,  1.41it/s]\n"
     ]
    },
    {
     "name": "stdout",
     "output_type": "stream",
     "text": [
      "Epoch [151/600], Train Loss: 0.0713, Val Loss: 0.0658, MSE: 0.0658, SSIM: 0.6181\n"
     ]
    },
    {
     "name": "stderr",
     "output_type": "stream",
     "text": [
      "Training Epoch 152/600: 100%|██████████| 4/4 [00:03<00:00,  1.33it/s]\n",
      "Validating Epoch 152/600: 100%|██████████| 1/1 [00:00<00:00,  1.41it/s]\n"
     ]
    },
    {
     "name": "stdout",
     "output_type": "stream",
     "text": [
      "Epoch [152/600], Train Loss: 0.0681, Val Loss: 0.0626, MSE: 0.0626, SSIM: 0.6457\n"
     ]
    },
    {
     "name": "stderr",
     "output_type": "stream",
     "text": [
      "Training Epoch 153/600: 100%|██████████| 4/4 [00:02<00:00,  1.38it/s]\n",
      "Validating Epoch 153/600: 100%|██████████| 1/1 [00:00<00:00,  1.27it/s]\n"
     ]
    },
    {
     "name": "stdout",
     "output_type": "stream",
     "text": [
      "Epoch [153/600], Train Loss: 0.0753, Val Loss: 0.0749, MSE: 0.0749, SSIM: 0.5945\n"
     ]
    },
    {
     "name": "stderr",
     "output_type": "stream",
     "text": [
      "Training Epoch 154/600: 100%|██████████| 4/4 [00:02<00:00,  1.33it/s]\n",
      "Validating Epoch 154/600: 100%|██████████| 1/1 [00:00<00:00,  1.43it/s]\n"
     ]
    },
    {
     "name": "stdout",
     "output_type": "stream",
     "text": [
      "Epoch [154/600], Train Loss: 0.0716, Val Loss: 0.0613, MSE: 0.0613, SSIM: 0.6560\n"
     ]
    },
    {
     "name": "stderr",
     "output_type": "stream",
     "text": [
      "Training Epoch 155/600: 100%|██████████| 4/4 [00:02<00:00,  1.35it/s]\n",
      "Validating Epoch 155/600: 100%|██████████| 1/1 [00:00<00:00,  1.32it/s]\n"
     ]
    },
    {
     "name": "stdout",
     "output_type": "stream",
     "text": [
      "Epoch [155/600], Train Loss: 0.0782, Val Loss: 0.0839, MSE: 0.0839, SSIM: 0.5320\n"
     ]
    },
    {
     "name": "stderr",
     "output_type": "stream",
     "text": [
      "Training Epoch 156/600: 100%|██████████| 4/4 [00:03<00:00,  1.32it/s]\n",
      "Validating Epoch 156/600: 100%|██████████| 1/1 [00:00<00:00,  1.36it/s]\n"
     ]
    },
    {
     "name": "stdout",
     "output_type": "stream",
     "text": [
      "Epoch [156/600], Train Loss: 0.0666, Val Loss: 0.0798, MSE: 0.0798, SSIM: 0.5472\n"
     ]
    },
    {
     "name": "stderr",
     "output_type": "stream",
     "text": [
      "Training Epoch 157/600: 100%|██████████| 4/4 [00:03<00:00,  1.30it/s]\n",
      "Validating Epoch 157/600: 100%|██████████| 1/1 [00:00<00:00,  1.30it/s]\n"
     ]
    },
    {
     "name": "stdout",
     "output_type": "stream",
     "text": [
      "Epoch [157/600], Train Loss: 0.0796, Val Loss: 0.0709, MSE: 0.0709, SSIM: 0.6067\n"
     ]
    },
    {
     "name": "stderr",
     "output_type": "stream",
     "text": [
      "Training Epoch 158/600: 100%|██████████| 4/4 [00:02<00:00,  1.36it/s]\n",
      "Validating Epoch 158/600: 100%|██████████| 1/1 [00:00<00:00,  1.42it/s]\n"
     ]
    },
    {
     "name": "stdout",
     "output_type": "stream",
     "text": [
      "Epoch [158/600], Train Loss: 0.0742, Val Loss: 0.0708, MSE: 0.0708, SSIM: 0.5995\n"
     ]
    },
    {
     "name": "stderr",
     "output_type": "stream",
     "text": [
      "Training Epoch 159/600: 100%|██████████| 4/4 [00:03<00:00,  1.33it/s]\n",
      "Validating Epoch 159/600: 100%|██████████| 1/1 [00:00<00:00,  1.40it/s]\n"
     ]
    },
    {
     "name": "stdout",
     "output_type": "stream",
     "text": [
      "Epoch [159/600], Train Loss: 0.0819, Val Loss: 0.0665, MSE: 0.0665, SSIM: 0.6150\n"
     ]
    },
    {
     "name": "stderr",
     "output_type": "stream",
     "text": [
      "Training Epoch 160/600: 100%|██████████| 4/4 [00:03<00:00,  1.33it/s]\n",
      "Validating Epoch 160/600: 100%|██████████| 1/1 [00:00<00:00,  1.41it/s]\n"
     ]
    },
    {
     "name": "stdout",
     "output_type": "stream",
     "text": [
      "Epoch [160/600], Train Loss: 0.0799, Val Loss: 0.0601, MSE: 0.0601, SSIM: 0.6392\n"
     ]
    },
    {
     "name": "stderr",
     "output_type": "stream",
     "text": [
      "Training Epoch 161/600: 100%|██████████| 4/4 [00:02<00:00,  1.35it/s]\n",
      "Validating Epoch 161/600: 100%|██████████| 1/1 [00:00<00:00,  1.37it/s]\n"
     ]
    },
    {
     "name": "stdout",
     "output_type": "stream",
     "text": [
      "Epoch [161/600], Train Loss: 0.0689, Val Loss: 0.0596, MSE: 0.0596, SSIM: 0.6711\n"
     ]
    },
    {
     "name": "stderr",
     "output_type": "stream",
     "text": [
      "Training Epoch 162/600: 100%|██████████| 4/4 [00:03<00:00,  1.30it/s]\n",
      "Validating Epoch 162/600: 100%|██████████| 1/1 [00:00<00:00,  1.37it/s]\n"
     ]
    },
    {
     "name": "stdout",
     "output_type": "stream",
     "text": [
      "Epoch [162/600], Train Loss: 0.0757, Val Loss: 0.0719, MSE: 0.0719, SSIM: 0.6192\n"
     ]
    },
    {
     "name": "stderr",
     "output_type": "stream",
     "text": [
      "Training Epoch 163/600: 100%|██████████| 4/4 [00:02<00:00,  1.34it/s]\n",
      "Validating Epoch 163/600: 100%|██████████| 1/1 [00:00<00:00,  1.33it/s]\n"
     ]
    },
    {
     "name": "stdout",
     "output_type": "stream",
     "text": [
      "Epoch [163/600], Train Loss: 0.0784, Val Loss: 0.0627, MSE: 0.0627, SSIM: 0.6394\n"
     ]
    },
    {
     "name": "stderr",
     "output_type": "stream",
     "text": [
      "Training Epoch 164/600: 100%|██████████| 4/4 [00:02<00:00,  1.34it/s]\n",
      "Validating Epoch 164/600: 100%|██████████| 1/1 [00:00<00:00,  1.38it/s]\n"
     ]
    },
    {
     "name": "stdout",
     "output_type": "stream",
     "text": [
      "Epoch [164/600], Train Loss: 0.0726, Val Loss: 0.0646, MSE: 0.0646, SSIM: 0.6264\n"
     ]
    },
    {
     "name": "stderr",
     "output_type": "stream",
     "text": [
      "Training Epoch 165/600: 100%|██████████| 4/4 [00:03<00:00,  1.32it/s]\n",
      "Validating Epoch 165/600: 100%|██████████| 1/1 [00:00<00:00,  1.35it/s]\n"
     ]
    },
    {
     "name": "stdout",
     "output_type": "stream",
     "text": [
      "Epoch [165/600], Train Loss: 0.0768, Val Loss: 0.0705, MSE: 0.0705, SSIM: 0.6040\n"
     ]
    },
    {
     "name": "stderr",
     "output_type": "stream",
     "text": [
      "Training Epoch 166/600: 100%|██████████| 4/4 [00:02<00:00,  1.34it/s]\n",
      "Validating Epoch 166/600: 100%|██████████| 1/1 [00:00<00:00,  1.47it/s]\n"
     ]
    },
    {
     "name": "stdout",
     "output_type": "stream",
     "text": [
      "Epoch [166/600], Train Loss: 0.0739, Val Loss: 0.0695, MSE: 0.0695, SSIM: 0.5905\n"
     ]
    },
    {
     "name": "stderr",
     "output_type": "stream",
     "text": [
      "Training Epoch 167/600: 100%|██████████| 4/4 [00:03<00:00,  1.32it/s]\n",
      "Validating Epoch 167/600: 100%|██████████| 1/1 [00:00<00:00,  1.33it/s]\n"
     ]
    },
    {
     "name": "stdout",
     "output_type": "stream",
     "text": [
      "Epoch [167/600], Train Loss: 0.0736, Val Loss: 0.0806, MSE: 0.0806, SSIM: 0.5409\n"
     ]
    },
    {
     "name": "stderr",
     "output_type": "stream",
     "text": [
      "Training Epoch 168/600: 100%|██████████| 4/4 [00:03<00:00,  1.31it/s]\n",
      "Validating Epoch 168/600: 100%|██████████| 1/1 [00:00<00:00,  1.34it/s]\n"
     ]
    },
    {
     "name": "stdout",
     "output_type": "stream",
     "text": [
      "Epoch [168/600], Train Loss: 0.0739, Val Loss: 0.0727, MSE: 0.0727, SSIM: 0.5741\n"
     ]
    },
    {
     "name": "stderr",
     "output_type": "stream",
     "text": [
      "Training Epoch 169/600: 100%|██████████| 4/4 [00:03<00:00,  1.30it/s]\n",
      "Validating Epoch 169/600: 100%|██████████| 1/1 [00:00<00:00,  1.33it/s]\n"
     ]
    },
    {
     "name": "stdout",
     "output_type": "stream",
     "text": [
      "Epoch [169/600], Train Loss: 0.0768, Val Loss: 0.0707, MSE: 0.0707, SSIM: 0.5901\n"
     ]
    },
    {
     "name": "stderr",
     "output_type": "stream",
     "text": [
      "Training Epoch 170/600: 100%|██████████| 4/4 [00:03<00:00,  1.33it/s]\n",
      "Validating Epoch 170/600: 100%|██████████| 1/1 [00:00<00:00,  1.29it/s]\n"
     ]
    },
    {
     "name": "stdout",
     "output_type": "stream",
     "text": [
      "Epoch [170/600], Train Loss: 0.0733, Val Loss: 0.0643, MSE: 0.0643, SSIM: 0.6193\n"
     ]
    },
    {
     "name": "stderr",
     "output_type": "stream",
     "text": [
      "Training Epoch 171/600: 100%|██████████| 4/4 [00:03<00:00,  1.30it/s]\n",
      "Validating Epoch 171/600: 100%|██████████| 1/1 [00:00<00:00,  1.41it/s]\n"
     ]
    },
    {
     "name": "stdout",
     "output_type": "stream",
     "text": [
      "Epoch [171/600], Train Loss: 0.0729, Val Loss: 0.0562, MSE: 0.0562, SSIM: 0.6779\n"
     ]
    },
    {
     "name": "stderr",
     "output_type": "stream",
     "text": [
      "Training Epoch 172/600: 100%|██████████| 4/4 [00:02<00:00,  1.34it/s]\n",
      "Validating Epoch 172/600: 100%|██████████| 1/1 [00:00<00:00,  1.35it/s]\n"
     ]
    },
    {
     "name": "stdout",
     "output_type": "stream",
     "text": [
      "Epoch [172/600], Train Loss: 0.0710, Val Loss: 0.0653, MSE: 0.0653, SSIM: 0.6173\n"
     ]
    },
    {
     "name": "stderr",
     "output_type": "stream",
     "text": [
      "Training Epoch 173/600: 100%|██████████| 4/4 [00:03<00:00,  1.33it/s]\n",
      "Validating Epoch 173/600: 100%|██████████| 1/1 [00:00<00:00,  1.32it/s]\n"
     ]
    },
    {
     "name": "stdout",
     "output_type": "stream",
     "text": [
      "Epoch [173/600], Train Loss: 0.0740, Val Loss: 0.0824, MSE: 0.0824, SSIM: 0.5390\n"
     ]
    },
    {
     "name": "stderr",
     "output_type": "stream",
     "text": [
      "Training Epoch 174/600: 100%|██████████| 4/4 [00:03<00:00,  1.27it/s]\n",
      "Validating Epoch 174/600: 100%|██████████| 1/1 [00:00<00:00,  1.40it/s]\n"
     ]
    },
    {
     "name": "stdout",
     "output_type": "stream",
     "text": [
      "Epoch [174/600], Train Loss: 0.0715, Val Loss: 0.0673, MSE: 0.0673, SSIM: 0.6110\n"
     ]
    },
    {
     "name": "stderr",
     "output_type": "stream",
     "text": [
      "Training Epoch 175/600: 100%|██████████| 4/4 [00:03<00:00,  1.29it/s]\n",
      "Validating Epoch 175/600: 100%|██████████| 1/1 [00:00<00:00,  1.30it/s]\n"
     ]
    },
    {
     "name": "stdout",
     "output_type": "stream",
     "text": [
      "Epoch [175/600], Train Loss: 0.0742, Val Loss: 0.0582, MSE: 0.0582, SSIM: 0.6596\n"
     ]
    },
    {
     "name": "stderr",
     "output_type": "stream",
     "text": [
      "Training Epoch 176/600: 100%|██████████| 4/4 [00:03<00:00,  1.33it/s]\n",
      "Validating Epoch 176/600: 100%|██████████| 1/1 [00:00<00:00,  1.34it/s]\n"
     ]
    },
    {
     "name": "stdout",
     "output_type": "stream",
     "text": [
      "Epoch [176/600], Train Loss: 0.0763, Val Loss: 0.0719, MSE: 0.0719, SSIM: 0.5834\n"
     ]
    },
    {
     "name": "stderr",
     "output_type": "stream",
     "text": [
      "Training Epoch 177/600: 100%|██████████| 4/4 [00:03<00:00,  1.27it/s]\n",
      "Validating Epoch 177/600: 100%|██████████| 1/1 [00:00<00:00,  1.30it/s]\n"
     ]
    },
    {
     "name": "stdout",
     "output_type": "stream",
     "text": [
      "Epoch [177/600], Train Loss: 0.0760, Val Loss: 0.0761, MSE: 0.0761, SSIM: 0.5669\n"
     ]
    },
    {
     "name": "stderr",
     "output_type": "stream",
     "text": [
      "Training Epoch 178/600: 100%|██████████| 4/4 [00:03<00:00,  1.30it/s]\n",
      "Validating Epoch 178/600: 100%|██████████| 1/1 [00:00<00:00,  1.32it/s]\n"
     ]
    },
    {
     "name": "stdout",
     "output_type": "stream",
     "text": [
      "Epoch [178/600], Train Loss: 0.0740, Val Loss: 0.0643, MSE: 0.0643, SSIM: 0.6597\n"
     ]
    },
    {
     "name": "stderr",
     "output_type": "stream",
     "text": [
      "Training Epoch 179/600: 100%|██████████| 4/4 [00:03<00:00,  1.32it/s]\n",
      "Validating Epoch 179/600: 100%|██████████| 1/1 [00:00<00:00,  1.35it/s]\n"
     ]
    },
    {
     "name": "stdout",
     "output_type": "stream",
     "text": [
      "Epoch [179/600], Train Loss: 0.0744, Val Loss: 0.0747, MSE: 0.0747, SSIM: 0.6035\n"
     ]
    },
    {
     "name": "stderr",
     "output_type": "stream",
     "text": [
      "Training Epoch 180/600: 100%|██████████| 4/4 [00:03<00:00,  1.29it/s]\n",
      "Validating Epoch 180/600: 100%|██████████| 1/1 [00:00<00:00,  1.18it/s]\n"
     ]
    },
    {
     "name": "stdout",
     "output_type": "stream",
     "text": [
      "Epoch [180/600], Train Loss: 0.0784, Val Loss: 0.0625, MSE: 0.0625, SSIM: 0.6351\n"
     ]
    },
    {
     "name": "stderr",
     "output_type": "stream",
     "text": [
      "Training Epoch 181/600: 100%|██████████| 4/4 [00:03<00:00,  1.32it/s]\n",
      "Validating Epoch 181/600: 100%|██████████| 1/1 [00:00<00:00,  1.30it/s]\n"
     ]
    },
    {
     "name": "stdout",
     "output_type": "stream",
     "text": [
      "Epoch [181/600], Train Loss: 0.0750, Val Loss: 0.0714, MSE: 0.0714, SSIM: 0.5908\n"
     ]
    },
    {
     "name": "stderr",
     "output_type": "stream",
     "text": [
      "Training Epoch 182/600: 100%|██████████| 4/4 [00:02<00:00,  1.38it/s]\n",
      "Validating Epoch 182/600: 100%|██████████| 1/1 [00:00<00:00,  1.39it/s]\n"
     ]
    },
    {
     "name": "stdout",
     "output_type": "stream",
     "text": [
      "Epoch [182/600], Train Loss: 0.0717, Val Loss: 0.0582, MSE: 0.0582, SSIM: 0.6816\n"
     ]
    },
    {
     "name": "stderr",
     "output_type": "stream",
     "text": [
      "Training Epoch 183/600: 100%|██████████| 4/4 [00:02<00:00,  1.34it/s]\n",
      "Validating Epoch 183/600: 100%|██████████| 1/1 [00:00<00:00,  1.45it/s]\n"
     ]
    },
    {
     "name": "stdout",
     "output_type": "stream",
     "text": [
      "Epoch [183/600], Train Loss: 0.0680, Val Loss: 0.0706, MSE: 0.0706, SSIM: 0.6139\n"
     ]
    },
    {
     "name": "stderr",
     "output_type": "stream",
     "text": [
      "Training Epoch 184/600: 100%|██████████| 4/4 [00:02<00:00,  1.38it/s]\n",
      "Validating Epoch 184/600: 100%|██████████| 1/1 [00:00<00:00,  1.38it/s]\n"
     ]
    },
    {
     "name": "stdout",
     "output_type": "stream",
     "text": [
      "Epoch [184/600], Train Loss: 0.0768, Val Loss: 0.0626, MSE: 0.0626, SSIM: 0.6458\n"
     ]
    },
    {
     "name": "stderr",
     "output_type": "stream",
     "text": [
      "Training Epoch 185/600: 100%|██████████| 4/4 [00:02<00:00,  1.33it/s]\n",
      "Validating Epoch 185/600: 100%|██████████| 1/1 [00:00<00:00,  1.39it/s]\n"
     ]
    },
    {
     "name": "stdout",
     "output_type": "stream",
     "text": [
      "Epoch [185/600], Train Loss: 0.0795, Val Loss: 0.0601, MSE: 0.0601, SSIM: 0.6433\n"
     ]
    },
    {
     "name": "stderr",
     "output_type": "stream",
     "text": [
      "Training Epoch 186/600: 100%|██████████| 4/4 [00:03<00:00,  1.32it/s]\n",
      "Validating Epoch 186/600: 100%|██████████| 1/1 [00:00<00:00,  1.36it/s]\n"
     ]
    },
    {
     "name": "stdout",
     "output_type": "stream",
     "text": [
      "Epoch [186/600], Train Loss: 0.0714, Val Loss: 0.0703, MSE: 0.0703, SSIM: 0.5925\n"
     ]
    },
    {
     "name": "stderr",
     "output_type": "stream",
     "text": [
      "Training Epoch 187/600: 100%|██████████| 4/4 [00:03<00:00,  1.31it/s]\n",
      "Validating Epoch 187/600: 100%|██████████| 1/1 [00:00<00:00,  1.29it/s]\n"
     ]
    },
    {
     "name": "stdout",
     "output_type": "stream",
     "text": [
      "Epoch [187/600], Train Loss: 0.0739, Val Loss: 0.0799, MSE: 0.0799, SSIM: 0.5461\n"
     ]
    },
    {
     "name": "stderr",
     "output_type": "stream",
     "text": [
      "Training Epoch 188/600: 100%|██████████| 4/4 [00:03<00:00,  1.31it/s]\n",
      "Validating Epoch 188/600: 100%|██████████| 1/1 [00:00<00:00,  1.39it/s]\n"
     ]
    },
    {
     "name": "stdout",
     "output_type": "stream",
     "text": [
      "Epoch [188/600], Train Loss: 0.0684, Val Loss: 0.0720, MSE: 0.0720, SSIM: 0.5980\n"
     ]
    },
    {
     "name": "stderr",
     "output_type": "stream",
     "text": [
      "Training Epoch 189/600: 100%|██████████| 4/4 [00:03<00:00,  1.30it/s]\n",
      "Validating Epoch 189/600: 100%|██████████| 1/1 [00:00<00:00,  1.33it/s]\n"
     ]
    },
    {
     "name": "stdout",
     "output_type": "stream",
     "text": [
      "Epoch [189/600], Train Loss: 0.0714, Val Loss: 0.0652, MSE: 0.0652, SSIM: 0.6405\n"
     ]
    },
    {
     "name": "stderr",
     "output_type": "stream",
     "text": [
      "Training Epoch 190/600: 100%|██████████| 4/4 [00:03<00:00,  1.28it/s]\n",
      "Validating Epoch 190/600: 100%|██████████| 1/1 [00:00<00:00,  1.34it/s]\n"
     ]
    },
    {
     "name": "stdout",
     "output_type": "stream",
     "text": [
      "Epoch [190/600], Train Loss: 0.0730, Val Loss: 0.0657, MSE: 0.0657, SSIM: 0.6329\n"
     ]
    },
    {
     "name": "stderr",
     "output_type": "stream",
     "text": [
      "Training Epoch 191/600: 100%|██████████| 4/4 [00:03<00:00,  1.29it/s]\n",
      "Validating Epoch 191/600: 100%|██████████| 1/1 [00:00<00:00,  1.33it/s]\n"
     ]
    },
    {
     "name": "stdout",
     "output_type": "stream",
     "text": [
      "Epoch [191/600], Train Loss: 0.0743, Val Loss: 0.0480, MSE: 0.0480, SSIM: 0.7225\n"
     ]
    },
    {
     "name": "stderr",
     "output_type": "stream",
     "text": [
      "Training Epoch 192/600: 100%|██████████| 4/4 [00:03<00:00,  1.25it/s]\n",
      "Validating Epoch 192/600: 100%|██████████| 1/1 [00:00<00:00,  1.31it/s]\n"
     ]
    },
    {
     "name": "stdout",
     "output_type": "stream",
     "text": [
      "Epoch [192/600], Train Loss: 0.0756, Val Loss: 0.0641, MSE: 0.0641, SSIM: 0.6237\n"
     ]
    },
    {
     "name": "stderr",
     "output_type": "stream",
     "text": [
      "Training Epoch 193/600: 100%|██████████| 4/4 [00:03<00:00,  1.28it/s]\n",
      "Validating Epoch 193/600: 100%|██████████| 1/1 [00:00<00:00,  1.34it/s]\n"
     ]
    },
    {
     "name": "stdout",
     "output_type": "stream",
     "text": [
      "Epoch [193/600], Train Loss: 0.0711, Val Loss: 0.0616, MSE: 0.0616, SSIM: 0.6479\n"
     ]
    },
    {
     "name": "stderr",
     "output_type": "stream",
     "text": [
      "Training Epoch 194/600: 100%|██████████| 4/4 [00:03<00:00,  1.28it/s]\n",
      "Validating Epoch 194/600: 100%|██████████| 1/1 [00:00<00:00,  1.36it/s]\n"
     ]
    },
    {
     "name": "stdout",
     "output_type": "stream",
     "text": [
      "Epoch [194/600], Train Loss: 0.0718, Val Loss: 0.0727, MSE: 0.0727, SSIM: 0.5845\n"
     ]
    },
    {
     "name": "stderr",
     "output_type": "stream",
     "text": [
      "Training Epoch 195/600: 100%|██████████| 4/4 [00:03<00:00,  1.30it/s]\n",
      "Validating Epoch 195/600: 100%|██████████| 1/1 [00:00<00:00,  1.34it/s]\n"
     ]
    },
    {
     "name": "stdout",
     "output_type": "stream",
     "text": [
      "Epoch [195/600], Train Loss: 0.0708, Val Loss: 0.0579, MSE: 0.0579, SSIM: 0.6706\n"
     ]
    },
    {
     "name": "stderr",
     "output_type": "stream",
     "text": [
      "Training Epoch 196/600: 100%|██████████| 4/4 [00:03<00:00,  1.29it/s]\n",
      "Validating Epoch 196/600: 100%|██████████| 1/1 [00:00<00:00,  1.33it/s]\n"
     ]
    },
    {
     "name": "stdout",
     "output_type": "stream",
     "text": [
      "Epoch [196/600], Train Loss: 0.0765, Val Loss: 0.0708, MSE: 0.0708, SSIM: 0.5833\n"
     ]
    },
    {
     "name": "stderr",
     "output_type": "stream",
     "text": [
      "Training Epoch 197/600: 100%|██████████| 4/4 [00:03<00:00,  1.31it/s]\n",
      "Validating Epoch 197/600: 100%|██████████| 1/1 [00:00<00:00,  1.29it/s]\n"
     ]
    },
    {
     "name": "stdout",
     "output_type": "stream",
     "text": [
      "Epoch [197/600], Train Loss: 0.0686, Val Loss: 0.0558, MSE: 0.0558, SSIM: 0.6856\n"
     ]
    },
    {
     "name": "stderr",
     "output_type": "stream",
     "text": [
      "Training Epoch 198/600: 100%|██████████| 4/4 [00:03<00:00,  1.33it/s]\n",
      "Validating Epoch 198/600: 100%|██████████| 1/1 [00:00<00:00,  1.31it/s]\n"
     ]
    },
    {
     "name": "stdout",
     "output_type": "stream",
     "text": [
      "Epoch [198/600], Train Loss: 0.0711, Val Loss: 0.0600, MSE: 0.0600, SSIM: 0.6528\n"
     ]
    },
    {
     "name": "stderr",
     "output_type": "stream",
     "text": [
      "Training Epoch 199/600: 100%|██████████| 4/4 [00:03<00:00,  1.30it/s]\n",
      "Validating Epoch 199/600: 100%|██████████| 1/1 [00:00<00:00,  1.30it/s]\n"
     ]
    },
    {
     "name": "stdout",
     "output_type": "stream",
     "text": [
      "Epoch [199/600], Train Loss: 0.0730, Val Loss: 0.0743, MSE: 0.0743, SSIM: 0.5685\n"
     ]
    },
    {
     "name": "stderr",
     "output_type": "stream",
     "text": [
      "Training Epoch 200/600: 100%|██████████| 4/4 [00:03<00:00,  1.26it/s]\n",
      "Validating Epoch 200/600: 100%|██████████| 1/1 [00:00<00:00,  1.33it/s]\n"
     ]
    },
    {
     "name": "stdout",
     "output_type": "stream",
     "text": [
      "Epoch [200/600], Train Loss: 0.0750, Val Loss: 0.0678, MSE: 0.0678, SSIM: 0.6023\n"
     ]
    },
    {
     "name": "stderr",
     "output_type": "stream",
     "text": [
      "Training Epoch 201/600: 100%|██████████| 4/4 [00:03<00:00,  1.32it/s]\n",
      "Validating Epoch 201/600: 100%|██████████| 1/1 [00:00<00:00,  1.37it/s]\n"
     ]
    },
    {
     "name": "stdout",
     "output_type": "stream",
     "text": [
      "Epoch [201/600], Train Loss: 0.0726, Val Loss: 0.0589, MSE: 0.0589, SSIM: 0.6696\n"
     ]
    },
    {
     "name": "stderr",
     "output_type": "stream",
     "text": [
      "Training Epoch 202/600: 100%|██████████| 4/4 [00:03<00:00,  1.29it/s]\n",
      "Validating Epoch 202/600: 100%|██████████| 1/1 [00:00<00:00,  1.30it/s]\n"
     ]
    },
    {
     "name": "stdout",
     "output_type": "stream",
     "text": [
      "Epoch [202/600], Train Loss: 0.0697, Val Loss: 0.0718, MSE: 0.0718, SSIM: 0.6096\n"
     ]
    },
    {
     "name": "stderr",
     "output_type": "stream",
     "text": [
      "Training Epoch 203/600: 100%|██████████| 4/4 [00:02<00:00,  1.34it/s]\n",
      "Validating Epoch 203/600: 100%|██████████| 1/1 [00:00<00:00,  1.34it/s]\n"
     ]
    },
    {
     "name": "stdout",
     "output_type": "stream",
     "text": [
      "Epoch [203/600], Train Loss: 0.0713, Val Loss: 0.0664, MSE: 0.0664, SSIM: 0.6377\n"
     ]
    },
    {
     "name": "stderr",
     "output_type": "stream",
     "text": [
      "Training Epoch 204/600: 100%|██████████| 4/4 [00:03<00:00,  1.32it/s]\n",
      "Validating Epoch 204/600: 100%|██████████| 1/1 [00:00<00:00,  1.33it/s]\n"
     ]
    },
    {
     "name": "stdout",
     "output_type": "stream",
     "text": [
      "Epoch [204/600], Train Loss: 0.0750, Val Loss: 0.0643, MSE: 0.0643, SSIM: 0.6305\n"
     ]
    },
    {
     "name": "stderr",
     "output_type": "stream",
     "text": [
      "Training Epoch 205/600: 100%|██████████| 4/4 [00:02<00:00,  1.34it/s]\n",
      "Validating Epoch 205/600: 100%|██████████| 1/1 [00:00<00:00,  1.43it/s]\n"
     ]
    },
    {
     "name": "stdout",
     "output_type": "stream",
     "text": [
      "Epoch [205/600], Train Loss: 0.0671, Val Loss: 0.0663, MSE: 0.0663, SSIM: 0.6243\n"
     ]
    },
    {
     "name": "stderr",
     "output_type": "stream",
     "text": [
      "Training Epoch 206/600: 100%|██████████| 4/4 [00:02<00:00,  1.34it/s]\n",
      "Validating Epoch 206/600: 100%|██████████| 1/1 [00:00<00:00,  1.41it/s]\n"
     ]
    },
    {
     "name": "stdout",
     "output_type": "stream",
     "text": [
      "Epoch [206/600], Train Loss: 0.0765, Val Loss: 0.0683, MSE: 0.0683, SSIM: 0.6187\n"
     ]
    },
    {
     "name": "stderr",
     "output_type": "stream",
     "text": [
      "Training Epoch 207/600: 100%|██████████| 4/4 [00:03<00:00,  1.25it/s]\n",
      "Validating Epoch 207/600: 100%|██████████| 1/1 [00:00<00:00,  1.43it/s]\n"
     ]
    },
    {
     "name": "stdout",
     "output_type": "stream",
     "text": [
      "Epoch [207/600], Train Loss: 0.0831, Val Loss: 0.0641, MSE: 0.0641, SSIM: 0.6301\n"
     ]
    },
    {
     "name": "stderr",
     "output_type": "stream",
     "text": [
      "Training Epoch 208/600: 100%|██████████| 4/4 [00:02<00:00,  1.35it/s]\n",
      "Validating Epoch 208/600: 100%|██████████| 1/1 [00:00<00:00,  1.35it/s]\n"
     ]
    },
    {
     "name": "stdout",
     "output_type": "stream",
     "text": [
      "Epoch [208/600], Train Loss: 0.0690, Val Loss: 0.0501, MSE: 0.0501, SSIM: 0.7034\n"
     ]
    },
    {
     "name": "stderr",
     "output_type": "stream",
     "text": [
      "Training Epoch 209/600: 100%|██████████| 4/4 [00:03<00:00,  1.29it/s]\n",
      "Validating Epoch 209/600: 100%|██████████| 1/1 [00:00<00:00,  1.32it/s]\n"
     ]
    },
    {
     "name": "stdout",
     "output_type": "stream",
     "text": [
      "Epoch [209/600], Train Loss: 0.0711, Val Loss: 0.0626, MSE: 0.0626, SSIM: 0.6204\n"
     ]
    },
    {
     "name": "stderr",
     "output_type": "stream",
     "text": [
      "Training Epoch 210/600: 100%|██████████| 4/4 [00:03<00:00,  1.32it/s]\n",
      "Validating Epoch 210/600: 100%|██████████| 1/1 [00:00<00:00,  1.41it/s]\n"
     ]
    },
    {
     "name": "stdout",
     "output_type": "stream",
     "text": [
      "Epoch [210/600], Train Loss: 0.0717, Val Loss: 0.0645, MSE: 0.0645, SSIM: 0.6178\n"
     ]
    },
    {
     "name": "stderr",
     "output_type": "stream",
     "text": [
      "Training Epoch 211/600: 100%|██████████| 4/4 [00:02<00:00,  1.36it/s]\n",
      "Validating Epoch 211/600: 100%|██████████| 1/1 [00:00<00:00,  1.33it/s]\n"
     ]
    },
    {
     "name": "stdout",
     "output_type": "stream",
     "text": [
      "Epoch [211/600], Train Loss: 0.0748, Val Loss: 0.0642, MSE: 0.0642, SSIM: 0.6341\n"
     ]
    },
    {
     "name": "stderr",
     "output_type": "stream",
     "text": [
      "Training Epoch 212/600: 100%|██████████| 4/4 [00:03<00:00,  1.27it/s]\n",
      "Validating Epoch 212/600: 100%|██████████| 1/1 [00:00<00:00,  1.32it/s]\n"
     ]
    },
    {
     "name": "stdout",
     "output_type": "stream",
     "text": [
      "Epoch [212/600], Train Loss: 0.0730, Val Loss: 0.0543, MSE: 0.0543, SSIM: 0.6725\n"
     ]
    },
    {
     "name": "stderr",
     "output_type": "stream",
     "text": [
      "Training Epoch 213/600: 100%|██████████| 4/4 [00:03<00:00,  1.32it/s]\n",
      "Validating Epoch 213/600: 100%|██████████| 1/1 [00:00<00:00,  1.37it/s]\n"
     ]
    },
    {
     "name": "stdout",
     "output_type": "stream",
     "text": [
      "Epoch [213/600], Train Loss: 0.0713, Val Loss: 0.0671, MSE: 0.0671, SSIM: 0.6110\n"
     ]
    },
    {
     "name": "stderr",
     "output_type": "stream",
     "text": [
      "Training Epoch 214/600: 100%|██████████| 4/4 [00:02<00:00,  1.35it/s]\n",
      "Validating Epoch 214/600: 100%|██████████| 1/1 [00:00<00:00,  1.32it/s]\n"
     ]
    },
    {
     "name": "stdout",
     "output_type": "stream",
     "text": [
      "Epoch [214/600], Train Loss: 0.0697, Val Loss: 0.0747, MSE: 0.0747, SSIM: 0.5807\n"
     ]
    },
    {
     "name": "stderr",
     "output_type": "stream",
     "text": [
      "Training Epoch 215/600: 100%|██████████| 4/4 [00:03<00:00,  1.30it/s]\n",
      "Validating Epoch 215/600: 100%|██████████| 1/1 [00:00<00:00,  1.33it/s]\n"
     ]
    },
    {
     "name": "stdout",
     "output_type": "stream",
     "text": [
      "Epoch [215/600], Train Loss: 0.0634, Val Loss: 0.0673, MSE: 0.0673, SSIM: 0.6232\n"
     ]
    },
    {
     "name": "stderr",
     "output_type": "stream",
     "text": [
      "Training Epoch 216/600: 100%|██████████| 4/4 [00:03<00:00,  1.31it/s]\n",
      "Validating Epoch 216/600: 100%|██████████| 1/1 [00:00<00:00,  1.33it/s]\n"
     ]
    },
    {
     "name": "stdout",
     "output_type": "stream",
     "text": [
      "Epoch [216/600], Train Loss: 0.0703, Val Loss: 0.0879, MSE: 0.0879, SSIM: 0.5430\n"
     ]
    },
    {
     "name": "stderr",
     "output_type": "stream",
     "text": [
      "Training Epoch 217/600: 100%|██████████| 4/4 [00:02<00:00,  1.34it/s]\n",
      "Validating Epoch 217/600: 100%|██████████| 1/1 [00:00<00:00,  1.33it/s]\n"
     ]
    },
    {
     "name": "stdout",
     "output_type": "stream",
     "text": [
      "Epoch [217/600], Train Loss: 0.0695, Val Loss: 0.0839, MSE: 0.0839, SSIM: 0.5361\n"
     ]
    },
    {
     "name": "stderr",
     "output_type": "stream",
     "text": [
      "Training Epoch 218/600: 100%|██████████| 4/4 [00:03<00:00,  1.28it/s]\n",
      "Validating Epoch 218/600: 100%|██████████| 1/1 [00:00<00:00,  1.34it/s]\n"
     ]
    },
    {
     "name": "stdout",
     "output_type": "stream",
     "text": [
      "Epoch [218/600], Train Loss: 0.0749, Val Loss: 0.0650, MSE: 0.0650, SSIM: 0.6356\n"
     ]
    },
    {
     "name": "stderr",
     "output_type": "stream",
     "text": [
      "Training Epoch 219/600: 100%|██████████| 4/4 [00:03<00:00,  1.28it/s]\n",
      "Validating Epoch 219/600: 100%|██████████| 1/1 [00:00<00:00,  1.32it/s]\n"
     ]
    },
    {
     "name": "stdout",
     "output_type": "stream",
     "text": [
      "Epoch [219/600], Train Loss: 0.0720, Val Loss: 0.0625, MSE: 0.0625, SSIM: 0.6370\n"
     ]
    },
    {
     "name": "stderr",
     "output_type": "stream",
     "text": [
      "Training Epoch 220/600: 100%|██████████| 4/4 [00:03<00:00,  1.29it/s]\n",
      "Validating Epoch 220/600: 100%|██████████| 1/1 [00:00<00:00,  1.35it/s]\n"
     ]
    },
    {
     "name": "stdout",
     "output_type": "stream",
     "text": [
      "Epoch [220/600], Train Loss: 0.0704, Val Loss: 0.0645, MSE: 0.0645, SSIM: 0.6469\n"
     ]
    },
    {
     "name": "stderr",
     "output_type": "stream",
     "text": [
      "Training Epoch 221/600: 100%|██████████| 4/4 [00:02<00:00,  1.35it/s]\n",
      "Validating Epoch 221/600: 100%|██████████| 1/1 [00:00<00:00,  1.30it/s]\n"
     ]
    },
    {
     "name": "stdout",
     "output_type": "stream",
     "text": [
      "Epoch [221/600], Train Loss: 0.0786, Val Loss: 0.0725, MSE: 0.0725, SSIM: 0.5775\n"
     ]
    },
    {
     "name": "stderr",
     "output_type": "stream",
     "text": [
      "Training Epoch 222/600: 100%|██████████| 4/4 [00:03<00:00,  1.22it/s]\n",
      "Validating Epoch 222/600: 100%|██████████| 1/1 [00:00<00:00,  1.31it/s]\n"
     ]
    },
    {
     "name": "stdout",
     "output_type": "stream",
     "text": [
      "Epoch [222/600], Train Loss: 0.0686, Val Loss: 0.0625, MSE: 0.0625, SSIM: 0.6406\n"
     ]
    },
    {
     "name": "stderr",
     "output_type": "stream",
     "text": [
      "Training Epoch 223/600: 100%|██████████| 4/4 [00:03<00:00,  1.28it/s]\n",
      "Validating Epoch 223/600: 100%|██████████| 1/1 [00:00<00:00,  1.32it/s]\n"
     ]
    },
    {
     "name": "stdout",
     "output_type": "stream",
     "text": [
      "Epoch [223/600], Train Loss: 0.0716, Val Loss: 0.0625, MSE: 0.0625, SSIM: 0.6507\n"
     ]
    },
    {
     "name": "stderr",
     "output_type": "stream",
     "text": [
      "Training Epoch 224/600: 100%|██████████| 4/4 [00:03<00:00,  1.27it/s]\n",
      "Validating Epoch 224/600: 100%|██████████| 1/1 [00:00<00:00,  1.31it/s]\n"
     ]
    },
    {
     "name": "stdout",
     "output_type": "stream",
     "text": [
      "Epoch [224/600], Train Loss: 0.0701, Val Loss: 0.0623, MSE: 0.0623, SSIM: 0.6595\n"
     ]
    },
    {
     "name": "stderr",
     "output_type": "stream",
     "text": [
      "Training Epoch 225/600: 100%|██████████| 4/4 [00:03<00:00,  1.28it/s]\n",
      "Validating Epoch 225/600: 100%|██████████| 1/1 [00:00<00:00,  1.31it/s]\n"
     ]
    },
    {
     "name": "stdout",
     "output_type": "stream",
     "text": [
      "Epoch [225/600], Train Loss: 0.0761, Val Loss: 0.0767, MSE: 0.0767, SSIM: 0.5704\n"
     ]
    },
    {
     "name": "stderr",
     "output_type": "stream",
     "text": [
      "Training Epoch 226/600: 100%|██████████| 4/4 [00:03<00:00,  1.23it/s]\n",
      "Validating Epoch 226/600: 100%|██████████| 1/1 [00:00<00:00,  1.14it/s]\n"
     ]
    },
    {
     "name": "stdout",
     "output_type": "stream",
     "text": [
      "Epoch [226/600], Train Loss: 0.0712, Val Loss: 0.0562, MSE: 0.0562, SSIM: 0.6637\n"
     ]
    },
    {
     "name": "stderr",
     "output_type": "stream",
     "text": [
      "Training Epoch 227/600: 100%|██████████| 4/4 [00:03<00:00,  1.29it/s]\n",
      "Validating Epoch 227/600: 100%|██████████| 1/1 [00:00<00:00,  1.33it/s]\n"
     ]
    },
    {
     "name": "stdout",
     "output_type": "stream",
     "text": [
      "Epoch [227/600], Train Loss: 0.0704, Val Loss: 0.0730, MSE: 0.0730, SSIM: 0.5941\n"
     ]
    },
    {
     "name": "stderr",
     "output_type": "stream",
     "text": [
      "Training Epoch 228/600: 100%|██████████| 4/4 [00:03<00:00,  1.19it/s]\n",
      "Validating Epoch 228/600: 100%|██████████| 1/1 [00:00<00:00,  1.13it/s]\n"
     ]
    },
    {
     "name": "stdout",
     "output_type": "stream",
     "text": [
      "Epoch [228/600], Train Loss: 0.0685, Val Loss: 0.0703, MSE: 0.0703, SSIM: 0.6221\n"
     ]
    },
    {
     "name": "stderr",
     "output_type": "stream",
     "text": [
      "Training Epoch 229/600: 100%|██████████| 4/4 [00:03<00:00,  1.19it/s]\n",
      "Validating Epoch 229/600: 100%|██████████| 1/1 [00:00<00:00,  1.33it/s]\n"
     ]
    },
    {
     "name": "stdout",
     "output_type": "stream",
     "text": [
      "Epoch [229/600], Train Loss: 0.0697, Val Loss: 0.0680, MSE: 0.0680, SSIM: 0.6013\n"
     ]
    },
    {
     "name": "stderr",
     "output_type": "stream",
     "text": [
      "Training Epoch 230/600: 100%|██████████| 4/4 [00:03<00:00,  1.24it/s]\n",
      "Validating Epoch 230/600: 100%|██████████| 1/1 [00:00<00:00,  1.35it/s]\n"
     ]
    },
    {
     "name": "stdout",
     "output_type": "stream",
     "text": [
      "Epoch [230/600], Train Loss: 0.0702, Val Loss: 0.0542, MSE: 0.0542, SSIM: 0.6803\n"
     ]
    },
    {
     "name": "stderr",
     "output_type": "stream",
     "text": [
      "Training Epoch 231/600: 100%|██████████| 4/4 [00:03<00:00,  1.29it/s]\n",
      "Validating Epoch 231/600: 100%|██████████| 1/1 [00:00<00:00,  1.10it/s]\n"
     ]
    },
    {
     "name": "stdout",
     "output_type": "stream",
     "text": [
      "Epoch [231/600], Train Loss: 0.0748, Val Loss: 0.0490, MSE: 0.0490, SSIM: 0.7154\n"
     ]
    },
    {
     "name": "stderr",
     "output_type": "stream",
     "text": [
      "Training Epoch 232/600: 100%|██████████| 4/4 [00:03<00:00,  1.21it/s]\n",
      "Validating Epoch 232/600: 100%|██████████| 1/1 [00:00<00:00,  1.12it/s]\n"
     ]
    },
    {
     "name": "stdout",
     "output_type": "stream",
     "text": [
      "Epoch [232/600], Train Loss: 0.0749, Val Loss: 0.0708, MSE: 0.0708, SSIM: 0.6077\n"
     ]
    },
    {
     "name": "stderr",
     "output_type": "stream",
     "text": [
      "Training Epoch 233/600: 100%|██████████| 4/4 [00:03<00:00,  1.18it/s]\n",
      "Validating Epoch 233/600: 100%|██████████| 1/1 [00:00<00:00,  1.21it/s]\n"
     ]
    },
    {
     "name": "stdout",
     "output_type": "stream",
     "text": [
      "Epoch [233/600], Train Loss: 0.0711, Val Loss: 0.0571, MSE: 0.0571, SSIM: 0.6661\n"
     ]
    },
    {
     "name": "stderr",
     "output_type": "stream",
     "text": [
      "Training Epoch 234/600: 100%|██████████| 4/4 [00:03<00:00,  1.24it/s]\n",
      "Validating Epoch 234/600: 100%|██████████| 1/1 [00:00<00:00,  1.07it/s]\n"
     ]
    },
    {
     "name": "stdout",
     "output_type": "stream",
     "text": [
      "Epoch [234/600], Train Loss: 0.0742, Val Loss: 0.0763, MSE: 0.0763, SSIM: 0.5426\n"
     ]
    },
    {
     "name": "stderr",
     "output_type": "stream",
     "text": [
      "Training Epoch 235/600: 100%|██████████| 4/4 [00:03<00:00,  1.23it/s]\n",
      "Validating Epoch 235/600: 100%|██████████| 1/1 [00:00<00:00,  1.16it/s]\n"
     ]
    },
    {
     "name": "stdout",
     "output_type": "stream",
     "text": [
      "Epoch [235/600], Train Loss: 0.0675, Val Loss: 0.0751, MSE: 0.0751, SSIM: 0.5669\n"
     ]
    },
    {
     "name": "stderr",
     "output_type": "stream",
     "text": [
      "Training Epoch 236/600: 100%|██████████| 4/4 [00:03<00:00,  1.25it/s]\n",
      "Validating Epoch 236/600: 100%|██████████| 1/1 [00:00<00:00,  1.30it/s]\n"
     ]
    },
    {
     "name": "stdout",
     "output_type": "stream",
     "text": [
      "Epoch [236/600], Train Loss: 0.0757, Val Loss: 0.0782, MSE: 0.0782, SSIM: 0.5548\n"
     ]
    },
    {
     "name": "stderr",
     "output_type": "stream",
     "text": [
      "Training Epoch 237/600: 100%|██████████| 4/4 [00:03<00:00,  1.19it/s]\n",
      "Validating Epoch 237/600: 100%|██████████| 1/1 [00:00<00:00,  1.18it/s]\n"
     ]
    },
    {
     "name": "stdout",
     "output_type": "stream",
     "text": [
      "Epoch [237/600], Train Loss: 0.0752, Val Loss: 0.0729, MSE: 0.0729, SSIM: 0.5592\n"
     ]
    },
    {
     "name": "stderr",
     "output_type": "stream",
     "text": [
      "Training Epoch 238/600: 100%|██████████| 4/4 [00:03<00:00,  1.20it/s]\n",
      "Validating Epoch 238/600: 100%|██████████| 1/1 [00:00<00:00,  1.12it/s]\n"
     ]
    },
    {
     "name": "stdout",
     "output_type": "stream",
     "text": [
      "Epoch [238/600], Train Loss: 0.0727, Val Loss: 0.0786, MSE: 0.0786, SSIM: 0.5496\n"
     ]
    },
    {
     "name": "stderr",
     "output_type": "stream",
     "text": [
      "Training Epoch 239/600: 100%|██████████| 4/4 [00:03<00:00,  1.23it/s]\n",
      "Validating Epoch 239/600: 100%|██████████| 1/1 [00:00<00:00,  1.34it/s]\n"
     ]
    },
    {
     "name": "stdout",
     "output_type": "stream",
     "text": [
      "Epoch [239/600], Train Loss: 0.0697, Val Loss: 0.0674, MSE: 0.0674, SSIM: 0.6233\n"
     ]
    },
    {
     "name": "stderr",
     "output_type": "stream",
     "text": [
      "Training Epoch 240/600: 100%|██████████| 4/4 [00:03<00:00,  1.26it/s]\n",
      "Validating Epoch 240/600: 100%|██████████| 1/1 [00:00<00:00,  1.30it/s]\n"
     ]
    },
    {
     "name": "stdout",
     "output_type": "stream",
     "text": [
      "Epoch [240/600], Train Loss: 0.0710, Val Loss: 0.0791, MSE: 0.0791, SSIM: 0.5643\n"
     ]
    },
    {
     "name": "stderr",
     "output_type": "stream",
     "text": [
      "Training Epoch 241/600: 100%|██████████| 4/4 [00:03<00:00,  1.26it/s]\n",
      "Validating Epoch 241/600: 100%|██████████| 1/1 [00:00<00:00,  1.28it/s]\n"
     ]
    },
    {
     "name": "stdout",
     "output_type": "stream",
     "text": [
      "Epoch [241/600], Train Loss: 0.0706, Val Loss: 0.0703, MSE: 0.0703, SSIM: 0.6066\n"
     ]
    },
    {
     "name": "stderr",
     "output_type": "stream",
     "text": [
      "Training Epoch 242/600: 100%|██████████| 4/4 [00:03<00:00,  1.27it/s]\n",
      "Validating Epoch 242/600: 100%|██████████| 1/1 [00:00<00:00,  1.20it/s]\n"
     ]
    },
    {
     "name": "stdout",
     "output_type": "stream",
     "text": [
      "Epoch [242/600], Train Loss: 0.0677, Val Loss: 0.0648, MSE: 0.0648, SSIM: 0.6276\n"
     ]
    },
    {
     "name": "stderr",
     "output_type": "stream",
     "text": [
      "Training Epoch 243/600: 100%|██████████| 4/4 [00:03<00:00,  1.22it/s]\n",
      "Validating Epoch 243/600: 100%|██████████| 1/1 [00:00<00:00,  1.13it/s]\n"
     ]
    },
    {
     "name": "stdout",
     "output_type": "stream",
     "text": [
      "Epoch [243/600], Train Loss: 0.0770, Val Loss: 0.0771, MSE: 0.0771, SSIM: 0.5606\n"
     ]
    },
    {
     "name": "stderr",
     "output_type": "stream",
     "text": [
      "Training Epoch 244/600: 100%|██████████| 4/4 [00:03<00:00,  1.28it/s]\n",
      "Validating Epoch 244/600: 100%|██████████| 1/1 [00:00<00:00,  1.29it/s]\n"
     ]
    },
    {
     "name": "stdout",
     "output_type": "stream",
     "text": [
      "Epoch [244/600], Train Loss: 0.0746, Val Loss: 0.0767, MSE: 0.0767, SSIM: 0.5477\n"
     ]
    },
    {
     "name": "stderr",
     "output_type": "stream",
     "text": [
      "Training Epoch 245/600: 100%|██████████| 4/4 [00:03<00:00,  1.26it/s]\n",
      "Validating Epoch 245/600: 100%|██████████| 1/1 [00:00<00:00,  1.27it/s]\n"
     ]
    },
    {
     "name": "stdout",
     "output_type": "stream",
     "text": [
      "Epoch [245/600], Train Loss: 0.0708, Val Loss: 0.0614, MSE: 0.0614, SSIM: 0.6546\n"
     ]
    },
    {
     "name": "stderr",
     "output_type": "stream",
     "text": [
      "Training Epoch 246/600: 100%|██████████| 4/4 [00:03<00:00,  1.13it/s]\n",
      "Validating Epoch 246/600: 100%|██████████| 1/1 [00:00<00:00,  1.02it/s]\n"
     ]
    },
    {
     "name": "stdout",
     "output_type": "stream",
     "text": [
      "Epoch [246/600], Train Loss: 0.0717, Val Loss: 0.0714, MSE: 0.0714, SSIM: 0.6012\n"
     ]
    },
    {
     "name": "stderr",
     "output_type": "stream",
     "text": [
      "Training Epoch 247/600: 100%|██████████| 4/4 [00:03<00:00,  1.26it/s]\n",
      "Validating Epoch 247/600: 100%|██████████| 1/1 [00:00<00:00,  1.35it/s]\n"
     ]
    },
    {
     "name": "stdout",
     "output_type": "stream",
     "text": [
      "Epoch [247/600], Train Loss: 0.0733, Val Loss: 0.0643, MSE: 0.0643, SSIM: 0.6479\n"
     ]
    },
    {
     "name": "stderr",
     "output_type": "stream",
     "text": [
      "Training Epoch 248/600: 100%|██████████| 4/4 [00:03<00:00,  1.24it/s]\n",
      "Validating Epoch 248/600: 100%|██████████| 1/1 [00:00<00:00,  1.33it/s]\n"
     ]
    },
    {
     "name": "stdout",
     "output_type": "stream",
     "text": [
      "Epoch [248/600], Train Loss: 0.0737, Val Loss: 0.0700, MSE: 0.0700, SSIM: 0.5960\n"
     ]
    },
    {
     "name": "stderr",
     "output_type": "stream",
     "text": [
      "Training Epoch 249/600: 100%|██████████| 4/4 [00:02<00:00,  1.35it/s]\n",
      "Validating Epoch 249/600: 100%|██████████| 1/1 [00:00<00:00,  1.21it/s]\n"
     ]
    },
    {
     "name": "stdout",
     "output_type": "stream",
     "text": [
      "Epoch [249/600], Train Loss: 0.0684, Val Loss: 0.0659, MSE: 0.0659, SSIM: 0.6072\n"
     ]
    },
    {
     "name": "stderr",
     "output_type": "stream",
     "text": [
      "Training Epoch 250/600: 100%|██████████| 4/4 [00:03<00:00,  1.33it/s]\n",
      "Validating Epoch 250/600: 100%|██████████| 1/1 [00:00<00:00,  1.35it/s]\n"
     ]
    },
    {
     "name": "stdout",
     "output_type": "stream",
     "text": [
      "Epoch [250/600], Train Loss: 0.0684, Val Loss: 0.0684, MSE: 0.0684, SSIM: 0.5975\n"
     ]
    },
    {
     "name": "stderr",
     "output_type": "stream",
     "text": [
      "Training Epoch 251/600: 100%|██████████| 4/4 [00:02<00:00,  1.35it/s]\n",
      "Validating Epoch 251/600: 100%|██████████| 1/1 [00:00<00:00,  1.47it/s]\n"
     ]
    },
    {
     "name": "stdout",
     "output_type": "stream",
     "text": [
      "Epoch [251/600], Train Loss: 0.0667, Val Loss: 0.0552, MSE: 0.0552, SSIM: 0.6678\n"
     ]
    },
    {
     "name": "stderr",
     "output_type": "stream",
     "text": [
      "Training Epoch 252/600: 100%|██████████| 4/4 [00:03<00:00,  1.33it/s]\n",
      "Validating Epoch 252/600: 100%|██████████| 1/1 [00:00<00:00,  1.32it/s]\n"
     ]
    },
    {
     "name": "stdout",
     "output_type": "stream",
     "text": [
      "Epoch [252/600], Train Loss: 0.0685, Val Loss: 0.0667, MSE: 0.0667, SSIM: 0.6226\n"
     ]
    },
    {
     "name": "stderr",
     "output_type": "stream",
     "text": [
      "Training Epoch 253/600: 100%|██████████| 4/4 [00:03<00:00,  1.29it/s]\n",
      "Validating Epoch 253/600: 100%|██████████| 1/1 [00:00<00:00,  1.35it/s]\n"
     ]
    },
    {
     "name": "stdout",
     "output_type": "stream",
     "text": [
      "Epoch [253/600], Train Loss: 0.0734, Val Loss: 0.0631, MSE: 0.0631, SSIM: 0.6255\n"
     ]
    },
    {
     "name": "stderr",
     "output_type": "stream",
     "text": [
      "Training Epoch 254/600: 100%|██████████| 4/4 [00:02<00:00,  1.36it/s]\n",
      "Validating Epoch 254/600: 100%|██████████| 1/1 [00:00<00:00,  1.39it/s]\n"
     ]
    },
    {
     "name": "stdout",
     "output_type": "stream",
     "text": [
      "Epoch [254/600], Train Loss: 0.0680, Val Loss: 0.0673, MSE: 0.0673, SSIM: 0.6029\n"
     ]
    },
    {
     "name": "stderr",
     "output_type": "stream",
     "text": [
      "Training Epoch 255/600: 100%|██████████| 4/4 [00:03<00:00,  1.30it/s]\n",
      "Validating Epoch 255/600: 100%|██████████| 1/1 [00:00<00:00,  1.13it/s]\n"
     ]
    },
    {
     "name": "stdout",
     "output_type": "stream",
     "text": [
      "Epoch [255/600], Train Loss: 0.0705, Val Loss: 0.0756, MSE: 0.0756, SSIM: 0.5728\n"
     ]
    },
    {
     "name": "stderr",
     "output_type": "stream",
     "text": [
      "Training Epoch 256/600: 100%|██████████| 4/4 [00:03<00:00,  1.29it/s]\n",
      "Validating Epoch 256/600: 100%|██████████| 1/1 [00:00<00:00,  1.44it/s]\n"
     ]
    },
    {
     "name": "stdout",
     "output_type": "stream",
     "text": [
      "Epoch [256/600], Train Loss: 0.0681, Val Loss: 0.0577, MSE: 0.0577, SSIM: 0.6621\n"
     ]
    },
    {
     "name": "stderr",
     "output_type": "stream",
     "text": [
      "Training Epoch 257/600: 100%|██████████| 4/4 [00:03<00:00,  1.30it/s]\n",
      "Validating Epoch 257/600: 100%|██████████| 1/1 [00:00<00:00,  1.44it/s]\n"
     ]
    },
    {
     "name": "stdout",
     "output_type": "stream",
     "text": [
      "Epoch [257/600], Train Loss: 0.0734, Val Loss: 0.0696, MSE: 0.0696, SSIM: 0.5892\n"
     ]
    },
    {
     "name": "stderr",
     "output_type": "stream",
     "text": [
      "Training Epoch 258/600: 100%|██████████| 4/4 [00:03<00:00,  1.33it/s]\n",
      "Validating Epoch 258/600: 100%|██████████| 1/1 [00:00<00:00,  1.41it/s]\n"
     ]
    },
    {
     "name": "stdout",
     "output_type": "stream",
     "text": [
      "Epoch [258/600], Train Loss: 0.0717, Val Loss: 0.0726, MSE: 0.0726, SSIM: 0.5914\n"
     ]
    },
    {
     "name": "stderr",
     "output_type": "stream",
     "text": [
      "Training Epoch 259/600: 100%|██████████| 4/4 [00:02<00:00,  1.37it/s]\n",
      "Validating Epoch 259/600: 100%|██████████| 1/1 [00:00<00:00,  1.47it/s]\n"
     ]
    },
    {
     "name": "stdout",
     "output_type": "stream",
     "text": [
      "Epoch [259/600], Train Loss: 0.0689, Val Loss: 0.0685, MSE: 0.0685, SSIM: 0.6258\n"
     ]
    },
    {
     "name": "stderr",
     "output_type": "stream",
     "text": [
      "Training Epoch 260/600: 100%|██████████| 4/4 [00:02<00:00,  1.42it/s]\n",
      "Validating Epoch 260/600: 100%|██████████| 1/1 [00:00<00:00,  1.44it/s]\n"
     ]
    },
    {
     "name": "stdout",
     "output_type": "stream",
     "text": [
      "Epoch [260/600], Train Loss: 0.0715, Val Loss: 0.0673, MSE: 0.0673, SSIM: 0.6422\n"
     ]
    },
    {
     "name": "stderr",
     "output_type": "stream",
     "text": [
      "Training Epoch 261/600: 100%|██████████| 4/4 [00:03<00:00,  1.27it/s]\n",
      "Validating Epoch 261/600: 100%|██████████| 1/1 [00:00<00:00,  1.39it/s]\n"
     ]
    },
    {
     "name": "stdout",
     "output_type": "stream",
     "text": [
      "Epoch [261/600], Train Loss: 0.0716, Val Loss: 0.0678, MSE: 0.0678, SSIM: 0.6155\n"
     ]
    },
    {
     "name": "stderr",
     "output_type": "stream",
     "text": [
      "Training Epoch 262/600: 100%|██████████| 4/4 [00:03<00:00,  1.22it/s]\n",
      "Validating Epoch 262/600: 100%|██████████| 1/1 [00:00<00:00,  1.36it/s]\n"
     ]
    },
    {
     "name": "stdout",
     "output_type": "stream",
     "text": [
      "Epoch [262/600], Train Loss: 0.0760, Val Loss: 0.0682, MSE: 0.0682, SSIM: 0.6085\n"
     ]
    },
    {
     "name": "stderr",
     "output_type": "stream",
     "text": [
      "Training Epoch 263/600: 100%|██████████| 4/4 [00:03<00:00,  1.25it/s]\n",
      "Validating Epoch 263/600: 100%|██████████| 1/1 [00:00<00:00,  1.31it/s]\n"
     ]
    },
    {
     "name": "stdout",
     "output_type": "stream",
     "text": [
      "Epoch [263/600], Train Loss: 0.0713, Val Loss: 0.0614, MSE: 0.0614, SSIM: 0.6459\n"
     ]
    },
    {
     "name": "stderr",
     "output_type": "stream",
     "text": [
      "Training Epoch 264/600: 100%|██████████| 4/4 [00:03<00:00,  1.28it/s]\n",
      "Validating Epoch 264/600: 100%|██████████| 1/1 [00:00<00:00,  1.31it/s]\n"
     ]
    },
    {
     "name": "stdout",
     "output_type": "stream",
     "text": [
      "Epoch [264/600], Train Loss: 0.0681, Val Loss: 0.0741, MSE: 0.0741, SSIM: 0.5888\n"
     ]
    },
    {
     "name": "stderr",
     "output_type": "stream",
     "text": [
      "Training Epoch 265/600: 100%|██████████| 4/4 [00:03<00:00,  1.15it/s]\n",
      "Validating Epoch 265/600: 100%|██████████| 1/1 [00:00<00:00,  1.19it/s]\n"
     ]
    },
    {
     "name": "stdout",
     "output_type": "stream",
     "text": [
      "Epoch [265/600], Train Loss: 0.0653, Val Loss: 0.0828, MSE: 0.0828, SSIM: 0.5368\n"
     ]
    },
    {
     "name": "stderr",
     "output_type": "stream",
     "text": [
      "Training Epoch 266/600: 100%|██████████| 4/4 [00:03<00:00,  1.24it/s]\n",
      "Validating Epoch 266/600: 100%|██████████| 1/1 [00:00<00:00,  1.32it/s]\n"
     ]
    },
    {
     "name": "stdout",
     "output_type": "stream",
     "text": [
      "Epoch [266/600], Train Loss: 0.0706, Val Loss: 0.0747, MSE: 0.0747, SSIM: 0.6002\n"
     ]
    },
    {
     "name": "stderr",
     "output_type": "stream",
     "text": [
      "Training Epoch 267/600: 100%|██████████| 4/4 [00:03<00:00,  1.24it/s]\n",
      "Validating Epoch 267/600: 100%|██████████| 1/1 [00:00<00:00,  1.35it/s]\n"
     ]
    },
    {
     "name": "stdout",
     "output_type": "stream",
     "text": [
      "Epoch [267/600], Train Loss: 0.0732, Val Loss: 0.0693, MSE: 0.0693, SSIM: 0.6060\n"
     ]
    },
    {
     "name": "stderr",
     "output_type": "stream",
     "text": [
      "Training Epoch 268/600: 100%|██████████| 4/4 [00:03<00:00,  1.29it/s]\n",
      "Validating Epoch 268/600: 100%|██████████| 1/1 [00:00<00:00,  1.28it/s]\n"
     ]
    },
    {
     "name": "stdout",
     "output_type": "stream",
     "text": [
      "Epoch [268/600], Train Loss: 0.0706, Val Loss: 0.0767, MSE: 0.0767, SSIM: 0.5578\n"
     ]
    },
    {
     "name": "stderr",
     "output_type": "stream",
     "text": [
      "Training Epoch 269/600: 100%|██████████| 4/4 [00:02<00:00,  1.35it/s]\n",
      "Validating Epoch 269/600: 100%|██████████| 1/1 [00:00<00:00,  1.38it/s]\n"
     ]
    },
    {
     "name": "stdout",
     "output_type": "stream",
     "text": [
      "Epoch [269/600], Train Loss: 0.0668, Val Loss: 0.0627, MSE: 0.0627, SSIM: 0.6337\n"
     ]
    },
    {
     "name": "stderr",
     "output_type": "stream",
     "text": [
      "Training Epoch 270/600: 100%|██████████| 4/4 [00:03<00:00,  1.32it/s]\n",
      "Validating Epoch 270/600: 100%|██████████| 1/1 [00:00<00:00,  1.40it/s]\n"
     ]
    },
    {
     "name": "stdout",
     "output_type": "stream",
     "text": [
      "Epoch [270/600], Train Loss: 0.0700, Val Loss: 0.0709, MSE: 0.0709, SSIM: 0.5998\n"
     ]
    },
    {
     "name": "stderr",
     "output_type": "stream",
     "text": [
      "Training Epoch 271/600: 100%|██████████| 4/4 [00:03<00:00,  1.31it/s]\n",
      "Validating Epoch 271/600: 100%|██████████| 1/1 [00:00<00:00,  1.31it/s]\n"
     ]
    },
    {
     "name": "stdout",
     "output_type": "stream",
     "text": [
      "Epoch [271/600], Train Loss: 0.0653, Val Loss: 0.0624, MSE: 0.0624, SSIM: 0.6445\n"
     ]
    },
    {
     "name": "stderr",
     "output_type": "stream",
     "text": [
      "Training Epoch 272/600: 100%|██████████| 4/4 [00:03<00:00,  1.28it/s]\n",
      "Validating Epoch 272/600: 100%|██████████| 1/1 [00:00<00:00,  1.37it/s]\n"
     ]
    },
    {
     "name": "stdout",
     "output_type": "stream",
     "text": [
      "Epoch [272/600], Train Loss: 0.0703, Val Loss: 0.0617, MSE: 0.0617, SSIM: 0.6421\n"
     ]
    },
    {
     "name": "stderr",
     "output_type": "stream",
     "text": [
      "Training Epoch 273/600: 100%|██████████| 4/4 [00:02<00:00,  1.34it/s]\n",
      "Validating Epoch 273/600: 100%|██████████| 1/1 [00:00<00:00,  1.41it/s]\n"
     ]
    },
    {
     "name": "stdout",
     "output_type": "stream",
     "text": [
      "Epoch [273/600], Train Loss: 0.0661, Val Loss: 0.0803, MSE: 0.0803, SSIM: 0.5602\n"
     ]
    },
    {
     "name": "stderr",
     "output_type": "stream",
     "text": [
      "Training Epoch 274/600: 100%|██████████| 4/4 [00:03<00:00,  1.28it/s]\n",
      "Validating Epoch 274/600: 100%|██████████| 1/1 [00:00<00:00,  1.47it/s]\n"
     ]
    },
    {
     "name": "stdout",
     "output_type": "stream",
     "text": [
      "Epoch [274/600], Train Loss: 0.0668, Val Loss: 0.0750, MSE: 0.0750, SSIM: 0.5719\n"
     ]
    },
    {
     "name": "stderr",
     "output_type": "stream",
     "text": [
      "Training Epoch 275/600: 100%|██████████| 4/4 [00:03<00:00,  1.17it/s]\n",
      "Validating Epoch 275/600: 100%|██████████| 1/1 [00:00<00:00,  1.32it/s]\n"
     ]
    },
    {
     "name": "stdout",
     "output_type": "stream",
     "text": [
      "Epoch [275/600], Train Loss: 0.0646, Val Loss: 0.0699, MSE: 0.0699, SSIM: 0.6237\n"
     ]
    },
    {
     "name": "stderr",
     "output_type": "stream",
     "text": [
      "Training Epoch 276/600: 100%|██████████| 4/4 [00:02<00:00,  1.80it/s]\n",
      "Validating Epoch 276/600: 100%|██████████| 1/1 [00:00<00:00,  1.81it/s]\n"
     ]
    },
    {
     "name": "stdout",
     "output_type": "stream",
     "text": [
      "Epoch [276/600], Train Loss: 0.0697, Val Loss: 0.0659, MSE: 0.0659, SSIM: 0.6244\n"
     ]
    },
    {
     "name": "stderr",
     "output_type": "stream",
     "text": [
      "Training Epoch 277/600: 100%|██████████| 4/4 [00:02<00:00,  1.69it/s]\n",
      "Validating Epoch 277/600: 100%|██████████| 1/1 [00:00<00:00,  1.89it/s]\n"
     ]
    },
    {
     "name": "stdout",
     "output_type": "stream",
     "text": [
      "Epoch [277/600], Train Loss: 0.0658, Val Loss: 0.0702, MSE: 0.0702, SSIM: 0.6083\n"
     ]
    },
    {
     "name": "stderr",
     "output_type": "stream",
     "text": [
      "Training Epoch 278/600: 100%|██████████| 4/4 [00:02<00:00,  1.67it/s]\n",
      "Validating Epoch 278/600: 100%|██████████| 1/1 [00:00<00:00,  1.81it/s]\n"
     ]
    },
    {
     "name": "stdout",
     "output_type": "stream",
     "text": [
      "Epoch [278/600], Train Loss: 0.0721, Val Loss: 0.0689, MSE: 0.0689, SSIM: 0.6015\n"
     ]
    },
    {
     "name": "stderr",
     "output_type": "stream",
     "text": [
      "Training Epoch 279/600: 100%|██████████| 4/4 [00:02<00:00,  1.62it/s]\n",
      "Validating Epoch 279/600: 100%|██████████| 1/1 [00:00<00:00,  1.38it/s]\n"
     ]
    },
    {
     "name": "stdout",
     "output_type": "stream",
     "text": [
      "Epoch [279/600], Train Loss: 0.0710, Val Loss: 0.0714, MSE: 0.0714, SSIM: 0.5758\n"
     ]
    },
    {
     "name": "stderr",
     "output_type": "stream",
     "text": [
      "Training Epoch 280/600: 100%|██████████| 4/4 [00:03<00:00,  1.33it/s]\n",
      "Validating Epoch 280/600: 100%|██████████| 1/1 [00:00<00:00,  1.53it/s]\n"
     ]
    },
    {
     "name": "stdout",
     "output_type": "stream",
     "text": [
      "Epoch [280/600], Train Loss: 0.0729, Val Loss: 0.0757, MSE: 0.0757, SSIM: 0.5594\n"
     ]
    },
    {
     "name": "stderr",
     "output_type": "stream",
     "text": [
      "Training Epoch 281/600: 100%|██████████| 4/4 [00:02<00:00,  1.38it/s]\n",
      "Validating Epoch 281/600: 100%|██████████| 1/1 [00:00<00:00,  1.50it/s]\n"
     ]
    },
    {
     "name": "stdout",
     "output_type": "stream",
     "text": [
      "Epoch [281/600], Train Loss: 0.0702, Val Loss: 0.0696, MSE: 0.0696, SSIM: 0.5964\n"
     ]
    },
    {
     "name": "stderr",
     "output_type": "stream",
     "text": [
      "Training Epoch 282/600: 100%|██████████| 4/4 [00:03<00:00,  1.30it/s]\n",
      "Validating Epoch 282/600: 100%|██████████| 1/1 [00:00<00:00,  1.36it/s]\n"
     ]
    },
    {
     "name": "stdout",
     "output_type": "stream",
     "text": [
      "Epoch [282/600], Train Loss: 0.0730, Val Loss: 0.0704, MSE: 0.0704, SSIM: 0.5989\n"
     ]
    },
    {
     "name": "stderr",
     "output_type": "stream",
     "text": [
      "Training Epoch 283/600: 100%|██████████| 4/4 [00:02<00:00,  1.38it/s]\n",
      "Validating Epoch 283/600: 100%|██████████| 1/1 [00:00<00:00,  1.38it/s]\n"
     ]
    },
    {
     "name": "stdout",
     "output_type": "stream",
     "text": [
      "Epoch [283/600], Train Loss: 0.0724, Val Loss: 0.0592, MSE: 0.0592, SSIM: 0.6513\n"
     ]
    },
    {
     "name": "stderr",
     "output_type": "stream",
     "text": [
      "Training Epoch 284/600: 100%|██████████| 4/4 [00:02<00:00,  1.34it/s]\n",
      "Validating Epoch 284/600: 100%|██████████| 1/1 [00:00<00:00,  1.20it/s]\n"
     ]
    },
    {
     "name": "stdout",
     "output_type": "stream",
     "text": [
      "Epoch [284/600], Train Loss: 0.0711, Val Loss: 0.0561, MSE: 0.0561, SSIM: 0.6683\n"
     ]
    },
    {
     "name": "stderr",
     "output_type": "stream",
     "text": [
      "Training Epoch 285/600: 100%|██████████| 4/4 [00:02<00:00,  1.34it/s]\n",
      "Validating Epoch 285/600: 100%|██████████| 1/1 [00:00<00:00,  1.45it/s]\n"
     ]
    },
    {
     "name": "stdout",
     "output_type": "stream",
     "text": [
      "Epoch [285/600], Train Loss: 0.0691, Val Loss: 0.0663, MSE: 0.0663, SSIM: 0.6244\n"
     ]
    },
    {
     "name": "stderr",
     "output_type": "stream",
     "text": [
      "Training Epoch 286/600: 100%|██████████| 4/4 [00:02<00:00,  1.39it/s]\n",
      "Validating Epoch 286/600: 100%|██████████| 1/1 [00:00<00:00,  1.47it/s]\n"
     ]
    },
    {
     "name": "stdout",
     "output_type": "stream",
     "text": [
      "Epoch [286/600], Train Loss: 0.0691, Val Loss: 0.0650, MSE: 0.0650, SSIM: 0.6283\n"
     ]
    },
    {
     "name": "stderr",
     "output_type": "stream",
     "text": [
      "Training Epoch 287/600: 100%|██████████| 4/4 [00:02<00:00,  1.35it/s]\n",
      "Validating Epoch 287/600: 100%|██████████| 1/1 [00:00<00:00,  1.43it/s]\n"
     ]
    },
    {
     "name": "stdout",
     "output_type": "stream",
     "text": [
      "Epoch [287/600], Train Loss: 0.0697, Val Loss: 0.0717, MSE: 0.0717, SSIM: 0.6032\n"
     ]
    },
    {
     "name": "stderr",
     "output_type": "stream",
     "text": [
      "Training Epoch 288/600: 100%|██████████| 4/4 [00:03<00:00,  1.32it/s]\n",
      "Validating Epoch 288/600: 100%|██████████| 1/1 [00:00<00:00,  1.40it/s]\n"
     ]
    },
    {
     "name": "stdout",
     "output_type": "stream",
     "text": [
      "Epoch [288/600], Train Loss: 0.0702, Val Loss: 0.0586, MSE: 0.0586, SSIM: 0.6684\n"
     ]
    },
    {
     "name": "stderr",
     "output_type": "stream",
     "text": [
      "Training Epoch 289/600: 100%|██████████| 4/4 [00:02<00:00,  1.35it/s]\n",
      "Validating Epoch 289/600: 100%|██████████| 1/1 [00:00<00:00,  1.33it/s]\n"
     ]
    },
    {
     "name": "stdout",
     "output_type": "stream",
     "text": [
      "Epoch [289/600], Train Loss: 0.0708, Val Loss: 0.0743, MSE: 0.0743, SSIM: 0.5569\n"
     ]
    },
    {
     "name": "stderr",
     "output_type": "stream",
     "text": [
      "Training Epoch 290/600: 100%|██████████| 4/4 [00:03<00:00,  1.25it/s]\n",
      "Validating Epoch 290/600: 100%|██████████| 1/1 [00:00<00:00,  1.18it/s]\n"
     ]
    },
    {
     "name": "stdout",
     "output_type": "stream",
     "text": [
      "Epoch [290/600], Train Loss: 0.0698, Val Loss: 0.0677, MSE: 0.0677, SSIM: 0.6014\n"
     ]
    },
    {
     "name": "stderr",
     "output_type": "stream",
     "text": [
      "Training Epoch 291/600: 100%|██████████| 4/4 [00:02<00:00,  1.64it/s]\n",
      "Validating Epoch 291/600: 100%|██████████| 1/1 [00:00<00:00,  1.93it/s]\n"
     ]
    },
    {
     "name": "stdout",
     "output_type": "stream",
     "text": [
      "Epoch [291/600], Train Loss: 0.0731, Val Loss: 0.0613, MSE: 0.0613, SSIM: 0.6376\n"
     ]
    },
    {
     "name": "stderr",
     "output_type": "stream",
     "text": [
      "Training Epoch 292/600: 100%|██████████| 4/4 [00:02<00:00,  1.80it/s]\n",
      "Validating Epoch 292/600: 100%|██████████| 1/1 [00:00<00:00,  2.01it/s]\n"
     ]
    },
    {
     "name": "stdout",
     "output_type": "stream",
     "text": [
      "Epoch [292/600], Train Loss: 0.0680, Val Loss: 0.0709, MSE: 0.0709, SSIM: 0.5779\n"
     ]
    },
    {
     "name": "stderr",
     "output_type": "stream",
     "text": [
      "Training Epoch 293/600: 100%|██████████| 4/4 [00:02<00:00,  1.69it/s]\n",
      "Validating Epoch 293/600: 100%|██████████| 1/1 [00:00<00:00,  1.40it/s]\n"
     ]
    },
    {
     "name": "stdout",
     "output_type": "stream",
     "text": [
      "Epoch [293/600], Train Loss: 0.0695, Val Loss: 0.0698, MSE: 0.0698, SSIM: 0.5848\n"
     ]
    },
    {
     "name": "stderr",
     "output_type": "stream",
     "text": [
      "Training Epoch 294/600: 100%|██████████| 4/4 [00:02<00:00,  1.35it/s]\n",
      "Validating Epoch 294/600: 100%|██████████| 1/1 [00:00<00:00,  2.31it/s]\n"
     ]
    },
    {
     "name": "stdout",
     "output_type": "stream",
     "text": [
      "Epoch [294/600], Train Loss: 0.0695, Val Loss: 0.0523, MSE: 0.0523, SSIM: 0.6958\n"
     ]
    },
    {
     "name": "stderr",
     "output_type": "stream",
     "text": [
      "Training Epoch 295/600: 100%|██████████| 4/4 [00:02<00:00,  1.83it/s]\n",
      "Validating Epoch 295/600: 100%|██████████| 1/1 [00:00<00:00,  1.82it/s]\n"
     ]
    },
    {
     "name": "stdout",
     "output_type": "stream",
     "text": [
      "Epoch [295/600], Train Loss: 0.0688, Val Loss: 0.0768, MSE: 0.0768, SSIM: 0.5507\n"
     ]
    },
    {
     "name": "stderr",
     "output_type": "stream",
     "text": [
      "Training Epoch 296/600: 100%|██████████| 4/4 [00:02<00:00,  1.88it/s]\n",
      "Validating Epoch 296/600: 100%|██████████| 1/1 [00:00<00:00,  1.90it/s]\n"
     ]
    },
    {
     "name": "stdout",
     "output_type": "stream",
     "text": [
      "Epoch [296/600], Train Loss: 0.0665, Val Loss: 0.0721, MSE: 0.0721, SSIM: 0.5814\n"
     ]
    },
    {
     "name": "stderr",
     "output_type": "stream",
     "text": [
      "Training Epoch 297/600: 100%|██████████| 4/4 [00:02<00:00,  1.78it/s]\n",
      "Validating Epoch 297/600: 100%|██████████| 1/1 [00:00<00:00,  1.98it/s]\n"
     ]
    },
    {
     "name": "stdout",
     "output_type": "stream",
     "text": [
      "Epoch [297/600], Train Loss: 0.0725, Val Loss: 0.0592, MSE: 0.0592, SSIM: 0.6555\n"
     ]
    },
    {
     "name": "stderr",
     "output_type": "stream",
     "text": [
      "Training Epoch 298/600: 100%|██████████| 4/4 [00:02<00:00,  1.65it/s]\n",
      "Validating Epoch 298/600: 100%|██████████| 1/1 [00:00<00:00,  2.33it/s]\n"
     ]
    },
    {
     "name": "stdout",
     "output_type": "stream",
     "text": [
      "Epoch [298/600], Train Loss: 0.0715, Val Loss: 0.0657, MSE: 0.0657, SSIM: 0.6088\n"
     ]
    },
    {
     "name": "stderr",
     "output_type": "stream",
     "text": [
      "Training Epoch 299/600: 100%|██████████| 4/4 [00:02<00:00,  1.73it/s]\n",
      "Validating Epoch 299/600: 100%|██████████| 1/1 [00:00<00:00,  2.21it/s]\n"
     ]
    },
    {
     "name": "stdout",
     "output_type": "stream",
     "text": [
      "Epoch [299/600], Train Loss: 0.0667, Val Loss: 0.0650, MSE: 0.0650, SSIM: 0.6461\n"
     ]
    },
    {
     "name": "stderr",
     "output_type": "stream",
     "text": [
      "Training Epoch 300/600: 100%|██████████| 4/4 [00:02<00:00,  1.66it/s]\n",
      "Validating Epoch 300/600: 100%|██████████| 1/1 [00:00<00:00,  1.99it/s]\n"
     ]
    },
    {
     "name": "stdout",
     "output_type": "stream",
     "text": [
      "Epoch [300/600], Train Loss: 0.0768, Val Loss: 0.0643, MSE: 0.0643, SSIM: 0.6303\n"
     ]
    },
    {
     "name": "stderr",
     "output_type": "stream",
     "text": [
      "Training Epoch 301/600: 100%|██████████| 4/4 [00:02<00:00,  1.61it/s]\n",
      "Validating Epoch 301/600: 100%|██████████| 1/1 [00:00<00:00,  2.10it/s]\n"
     ]
    },
    {
     "name": "stdout",
     "output_type": "stream",
     "text": [
      "Epoch [301/600], Train Loss: 0.0753, Val Loss: 0.0758, MSE: 0.0758, SSIM: 0.5498\n"
     ]
    },
    {
     "name": "stderr",
     "output_type": "stream",
     "text": [
      "Training Epoch 302/600: 100%|██████████| 4/4 [00:02<00:00,  1.69it/s]\n",
      "Validating Epoch 302/600: 100%|██████████| 1/1 [00:00<00:00,  2.34it/s]\n"
     ]
    },
    {
     "name": "stdout",
     "output_type": "stream",
     "text": [
      "Epoch [302/600], Train Loss: 0.0755, Val Loss: 0.0686, MSE: 0.0686, SSIM: 0.5899\n"
     ]
    },
    {
     "name": "stderr",
     "output_type": "stream",
     "text": [
      "Training Epoch 303/600: 100%|██████████| 4/4 [00:02<00:00,  1.64it/s]\n",
      "Validating Epoch 303/600: 100%|██████████| 1/1 [00:00<00:00,  1.98it/s]\n"
     ]
    },
    {
     "name": "stdout",
     "output_type": "stream",
     "text": [
      "Epoch [303/600], Train Loss: 0.0726, Val Loss: 0.0693, MSE: 0.0693, SSIM: 0.5944\n"
     ]
    },
    {
     "name": "stderr",
     "output_type": "stream",
     "text": [
      "Training Epoch 304/600: 100%|██████████| 4/4 [00:02<00:00,  1.61it/s]\n",
      "Validating Epoch 304/600: 100%|██████████| 1/1 [00:00<00:00,  1.85it/s]\n"
     ]
    },
    {
     "name": "stdout",
     "output_type": "stream",
     "text": [
      "Epoch [304/600], Train Loss: 0.0727, Val Loss: 0.0724, MSE: 0.0724, SSIM: 0.5996\n"
     ]
    },
    {
     "name": "stderr",
     "output_type": "stream",
     "text": [
      "Training Epoch 305/600: 100%|██████████| 4/4 [00:02<00:00,  1.81it/s]\n",
      "Validating Epoch 305/600: 100%|██████████| 1/1 [00:00<00:00,  2.06it/s]\n"
     ]
    },
    {
     "name": "stdout",
     "output_type": "stream",
     "text": [
      "Epoch [305/600], Train Loss: 0.0672, Val Loss: 0.0638, MSE: 0.0638, SSIM: 0.6263\n"
     ]
    },
    {
     "name": "stderr",
     "output_type": "stream",
     "text": [
      "Training Epoch 306/600: 100%|██████████| 4/4 [00:02<00:00,  1.86it/s]\n",
      "Validating Epoch 306/600: 100%|██████████| 1/1 [00:00<00:00,  2.17it/s]\n"
     ]
    },
    {
     "name": "stdout",
     "output_type": "stream",
     "text": [
      "Epoch [306/600], Train Loss: 0.0670, Val Loss: 0.0541, MSE: 0.0541, SSIM: 0.6880\n"
     ]
    },
    {
     "name": "stderr",
     "output_type": "stream",
     "text": [
      "Training Epoch 307/600: 100%|██████████| 4/4 [00:02<00:00,  1.38it/s]\n",
      "Validating Epoch 307/600: 100%|██████████| 1/1 [00:00<00:00,  1.33it/s]\n"
     ]
    },
    {
     "name": "stdout",
     "output_type": "stream",
     "text": [
      "Epoch [307/600], Train Loss: 0.0665, Val Loss: 0.0741, MSE: 0.0741, SSIM: 0.5781\n"
     ]
    },
    {
     "name": "stderr",
     "output_type": "stream",
     "text": [
      "Training Epoch 308/600: 100%|██████████| 4/4 [00:02<00:00,  1.38it/s]\n",
      "Validating Epoch 308/600: 100%|██████████| 1/1 [00:00<00:00,  1.40it/s]\n"
     ]
    },
    {
     "name": "stdout",
     "output_type": "stream",
     "text": [
      "Epoch [308/600], Train Loss: 0.0712, Val Loss: 0.0661, MSE: 0.0661, SSIM: 0.6327\n"
     ]
    },
    {
     "name": "stderr",
     "output_type": "stream",
     "text": [
      "Training Epoch 309/600: 100%|██████████| 4/4 [00:02<00:00,  1.38it/s]\n",
      "Validating Epoch 309/600: 100%|██████████| 1/1 [00:00<00:00,  1.38it/s]\n"
     ]
    },
    {
     "name": "stdout",
     "output_type": "stream",
     "text": [
      "Epoch [309/600], Train Loss: 0.0691, Val Loss: 0.0764, MSE: 0.0764, SSIM: 0.5603\n"
     ]
    },
    {
     "name": "stderr",
     "output_type": "stream",
     "text": [
      "Training Epoch 310/600: 100%|██████████| 4/4 [00:03<00:00,  1.33it/s]\n",
      "Validating Epoch 310/600: 100%|██████████| 1/1 [00:00<00:00,  1.25it/s]\n"
     ]
    },
    {
     "name": "stdout",
     "output_type": "stream",
     "text": [
      "Epoch [310/600], Train Loss: 0.0658, Val Loss: 0.0766, MSE: 0.0766, SSIM: 0.5480\n"
     ]
    },
    {
     "name": "stderr",
     "output_type": "stream",
     "text": [
      "Training Epoch 311/600: 100%|██████████| 4/4 [00:03<00:00,  1.30it/s]\n",
      "Validating Epoch 311/600: 100%|██████████| 1/1 [00:00<00:00,  2.10it/s]\n"
     ]
    },
    {
     "name": "stdout",
     "output_type": "stream",
     "text": [
      "Epoch [311/600], Train Loss: 0.0666, Val Loss: 0.0687, MSE: 0.0687, SSIM: 0.6061\n"
     ]
    },
    {
     "name": "stderr",
     "output_type": "stream",
     "text": [
      "Training Epoch 312/600: 100%|██████████| 4/4 [00:02<00:00,  1.64it/s]\n",
      "Validating Epoch 312/600: 100%|██████████| 1/1 [00:00<00:00,  1.72it/s]\n"
     ]
    },
    {
     "name": "stdout",
     "output_type": "stream",
     "text": [
      "Epoch [312/600], Train Loss: 0.0698, Val Loss: 0.0667, MSE: 0.0667, SSIM: 0.6026\n"
     ]
    },
    {
     "name": "stderr",
     "output_type": "stream",
     "text": [
      "Training Epoch 313/600: 100%|██████████| 4/4 [00:01<00:00,  2.15it/s]\n",
      "Validating Epoch 313/600: 100%|██████████| 1/1 [00:00<00:00,  2.92it/s]\n"
     ]
    },
    {
     "name": "stdout",
     "output_type": "stream",
     "text": [
      "Epoch [313/600], Train Loss: 0.0698, Val Loss: 0.0661, MSE: 0.0661, SSIM: 0.6190\n"
     ]
    },
    {
     "name": "stderr",
     "output_type": "stream",
     "text": [
      "Training Epoch 314/600: 100%|██████████| 4/4 [00:01<00:00,  2.05it/s]\n",
      "Validating Epoch 314/600: 100%|██████████| 1/1 [00:00<00:00,  2.61it/s]\n"
     ]
    },
    {
     "name": "stdout",
     "output_type": "stream",
     "text": [
      "Epoch [314/600], Train Loss: 0.0673, Val Loss: 0.0638, MSE: 0.0638, SSIM: 0.6260\n"
     ]
    },
    {
     "name": "stderr",
     "output_type": "stream",
     "text": [
      "Training Epoch 315/600: 100%|██████████| 4/4 [00:01<00:00,  2.35it/s]\n",
      "Validating Epoch 315/600: 100%|██████████| 1/1 [00:00<00:00,  2.11it/s]\n"
     ]
    },
    {
     "name": "stdout",
     "output_type": "stream",
     "text": [
      "Epoch [315/600], Train Loss: 0.0684, Val Loss: 0.0839, MSE: 0.0839, SSIM: 0.5146\n"
     ]
    },
    {
     "name": "stderr",
     "output_type": "stream",
     "text": [
      "Training Epoch 316/600: 100%|██████████| 4/4 [00:01<00:00,  2.14it/s]\n",
      "Validating Epoch 316/600: 100%|██████████| 1/1 [00:00<00:00,  2.91it/s]\n"
     ]
    },
    {
     "name": "stdout",
     "output_type": "stream",
     "text": [
      "Epoch [316/600], Train Loss: 0.0665, Val Loss: 0.0644, MSE: 0.0644, SSIM: 0.6316\n"
     ]
    },
    {
     "name": "stderr",
     "output_type": "stream",
     "text": [
      "Training Epoch 317/600: 100%|██████████| 4/4 [00:02<00:00,  1.95it/s]\n",
      "Validating Epoch 317/600: 100%|██████████| 1/1 [00:00<00:00,  2.26it/s]\n"
     ]
    },
    {
     "name": "stdout",
     "output_type": "stream",
     "text": [
      "Epoch [317/600], Train Loss: 0.0671, Val Loss: 0.0546, MSE: 0.0546, SSIM: 0.6711\n"
     ]
    },
    {
     "name": "stderr",
     "output_type": "stream",
     "text": [
      "Training Epoch 318/600: 100%|██████████| 4/4 [00:02<00:00,  1.83it/s]\n",
      "Validating Epoch 318/600: 100%|██████████| 1/1 [00:00<00:00,  2.16it/s]\n"
     ]
    },
    {
     "name": "stdout",
     "output_type": "stream",
     "text": [
      "Epoch [318/600], Train Loss: 0.0734, Val Loss: 0.0691, MSE: 0.0691, SSIM: 0.5941\n"
     ]
    },
    {
     "name": "stderr",
     "output_type": "stream",
     "text": [
      "Training Epoch 319/600: 100%|██████████| 4/4 [00:02<00:00,  1.41it/s]\n",
      "Validating Epoch 319/600: 100%|██████████| 1/1 [00:00<00:00,  1.04it/s]\n"
     ]
    },
    {
     "name": "stdout",
     "output_type": "stream",
     "text": [
      "Epoch [319/600], Train Loss: 0.0721, Val Loss: 0.0696, MSE: 0.0696, SSIM: 0.5896\n"
     ]
    },
    {
     "name": "stderr",
     "output_type": "stream",
     "text": [
      "Training Epoch 320/600: 100%|██████████| 4/4 [00:03<00:00,  1.08it/s]\n",
      "Validating Epoch 320/600: 100%|██████████| 1/1 [00:00<00:00,  1.05it/s]\n"
     ]
    },
    {
     "name": "stdout",
     "output_type": "stream",
     "text": [
      "Epoch [320/600], Train Loss: 0.0717, Val Loss: 0.0754, MSE: 0.0754, SSIM: 0.5766\n"
     ]
    },
    {
     "name": "stderr",
     "output_type": "stream",
     "text": [
      "Training Epoch 321/600: 100%|██████████| 4/4 [00:03<00:00,  1.07it/s]\n",
      "Validating Epoch 321/600: 100%|██████████| 1/1 [00:00<00:00,  1.09it/s]\n"
     ]
    },
    {
     "name": "stdout",
     "output_type": "stream",
     "text": [
      "Epoch [321/600], Train Loss: 0.0694, Val Loss: 0.0571, MSE: 0.0571, SSIM: 0.6833\n"
     ]
    },
    {
     "name": "stderr",
     "output_type": "stream",
     "text": [
      "Training Epoch 322/600: 100%|██████████| 4/4 [00:04<00:00,  1.04s/it]\n",
      "Validating Epoch 322/600: 100%|██████████| 1/1 [00:00<00:00,  1.02it/s]\n"
     ]
    },
    {
     "name": "stdout",
     "output_type": "stream",
     "text": [
      "Epoch [322/600], Train Loss: 0.0698, Val Loss: 0.0666, MSE: 0.0666, SSIM: 0.6271\n"
     ]
    },
    {
     "name": "stderr",
     "output_type": "stream",
     "text": [
      "Training Epoch 323/600: 100%|██████████| 4/4 [00:04<00:00,  1.05s/it]\n",
      "Validating Epoch 323/600: 100%|██████████| 1/1 [00:00<00:00,  1.08it/s]\n"
     ]
    },
    {
     "name": "stdout",
     "output_type": "stream",
     "text": [
      "Epoch [323/600], Train Loss: 0.0724, Val Loss: 0.0631, MSE: 0.0631, SSIM: 0.6300\n"
     ]
    },
    {
     "name": "stderr",
     "output_type": "stream",
     "text": [
      "Training Epoch 324/600: 100%|██████████| 4/4 [00:03<00:00,  1.14it/s]\n",
      "Validating Epoch 324/600: 100%|██████████| 1/1 [00:00<00:00,  1.14it/s]\n"
     ]
    },
    {
     "name": "stdout",
     "output_type": "stream",
     "text": [
      "Epoch [324/600], Train Loss: 0.0678, Val Loss: 0.0645, MSE: 0.0645, SSIM: 0.6159\n"
     ]
    },
    {
     "name": "stderr",
     "output_type": "stream",
     "text": [
      "Training Epoch 325/600: 100%|██████████| 4/4 [00:04<00:00,  1.04s/it]\n",
      "Validating Epoch 325/600: 100%|██████████| 1/1 [00:00<00:00,  1.20it/s]\n"
     ]
    },
    {
     "name": "stdout",
     "output_type": "stream",
     "text": [
      "Epoch [325/600], Train Loss: 0.0679, Val Loss: 0.0683, MSE: 0.0683, SSIM: 0.6123\n"
     ]
    },
    {
     "name": "stderr",
     "output_type": "stream",
     "text": [
      "Training Epoch 326/600: 100%|██████████| 4/4 [00:03<00:00,  1.25it/s]\n",
      "Validating Epoch 326/600: 100%|██████████| 1/1 [00:00<00:00,  1.43it/s]\n"
     ]
    },
    {
     "name": "stdout",
     "output_type": "stream",
     "text": [
      "Epoch [326/600], Train Loss: 0.0659, Val Loss: 0.0694, MSE: 0.0694, SSIM: 0.6147\n"
     ]
    },
    {
     "name": "stderr",
     "output_type": "stream",
     "text": [
      "Training Epoch 327/600: 100%|██████████| 4/4 [00:03<00:00,  1.11it/s]\n",
      "Validating Epoch 327/600: 100%|██████████| 1/1 [00:00<00:00,  1.30it/s]\n"
     ]
    },
    {
     "name": "stdout",
     "output_type": "stream",
     "text": [
      "Epoch [327/600], Train Loss: 0.0653, Val Loss: 0.0689, MSE: 0.0689, SSIM: 0.6168\n"
     ]
    },
    {
     "name": "stderr",
     "output_type": "stream",
     "text": [
      "Training Epoch 328/600: 100%|██████████| 4/4 [00:02<00:00,  1.39it/s]\n",
      "Validating Epoch 328/600: 100%|██████████| 1/1 [00:00<00:00,  1.44it/s]\n"
     ]
    },
    {
     "name": "stdout",
     "output_type": "stream",
     "text": [
      "Epoch [328/600], Train Loss: 0.0689, Val Loss: 0.0721, MSE: 0.0721, SSIM: 0.5969\n"
     ]
    },
    {
     "name": "stderr",
     "output_type": "stream",
     "text": [
      "Training Epoch 329/600: 100%|██████████| 4/4 [00:02<00:00,  1.37it/s]\n",
      "Validating Epoch 329/600: 100%|██████████| 1/1 [00:00<00:00,  1.48it/s]\n"
     ]
    },
    {
     "name": "stdout",
     "output_type": "stream",
     "text": [
      "Epoch [329/600], Train Loss: 0.0695, Val Loss: 0.0662, MSE: 0.0662, SSIM: 0.6064\n"
     ]
    },
    {
     "name": "stderr",
     "output_type": "stream",
     "text": [
      "Training Epoch 330/600: 100%|██████████| 4/4 [00:02<00:00,  1.36it/s]\n",
      "Validating Epoch 330/600: 100%|██████████| 1/1 [00:00<00:00,  1.51it/s]\n"
     ]
    },
    {
     "name": "stdout",
     "output_type": "stream",
     "text": [
      "Epoch [330/600], Train Loss: 0.0702, Val Loss: 0.0649, MSE: 0.0649, SSIM: 0.6226\n"
     ]
    },
    {
     "name": "stderr",
     "output_type": "stream",
     "text": [
      "Training Epoch 331/600: 100%|██████████| 4/4 [00:02<00:00,  1.37it/s]\n",
      "Validating Epoch 331/600: 100%|██████████| 1/1 [00:00<00:00,  1.46it/s]\n"
     ]
    },
    {
     "name": "stdout",
     "output_type": "stream",
     "text": [
      "Epoch [331/600], Train Loss: 0.0673, Val Loss: 0.0545, MSE: 0.0545, SSIM: 0.6672\n"
     ]
    },
    {
     "name": "stderr",
     "output_type": "stream",
     "text": [
      "Training Epoch 332/600: 100%|██████████| 4/4 [00:02<00:00,  1.40it/s]\n",
      "Validating Epoch 332/600: 100%|██████████| 1/1 [00:00<00:00,  1.39it/s]\n"
     ]
    },
    {
     "name": "stdout",
     "output_type": "stream",
     "text": [
      "Epoch [332/600], Train Loss: 0.0675, Val Loss: 0.0701, MSE: 0.0701, SSIM: 0.5891\n"
     ]
    },
    {
     "name": "stderr",
     "output_type": "stream",
     "text": [
      "Training Epoch 333/600: 100%|██████████| 4/4 [00:03<00:00,  1.27it/s]\n",
      "Validating Epoch 333/600: 100%|██████████| 1/1 [00:00<00:00,  1.13it/s]\n"
     ]
    },
    {
     "name": "stdout",
     "output_type": "stream",
     "text": [
      "Epoch [333/600], Train Loss: 0.0683, Val Loss: 0.0642, MSE: 0.0642, SSIM: 0.6205\n"
     ]
    },
    {
     "name": "stderr",
     "output_type": "stream",
     "text": [
      "Training Epoch 334/600: 100%|██████████| 4/4 [00:03<00:00,  1.15it/s]\n",
      "Validating Epoch 334/600: 100%|██████████| 1/1 [00:00<00:00,  1.20it/s]\n"
     ]
    },
    {
     "name": "stdout",
     "output_type": "stream",
     "text": [
      "Epoch [334/600], Train Loss: 0.0689, Val Loss: 0.0640, MSE: 0.0640, SSIM: 0.6167\n"
     ]
    },
    {
     "name": "stderr",
     "output_type": "stream",
     "text": [
      "Training Epoch 335/600: 100%|██████████| 4/4 [00:03<00:00,  1.08it/s]\n",
      "Validating Epoch 335/600: 100%|██████████| 1/1 [00:00<00:00,  1.21it/s]\n"
     ]
    },
    {
     "name": "stdout",
     "output_type": "stream",
     "text": [
      "Epoch [335/600], Train Loss: 0.0695, Val Loss: 0.0712, MSE: 0.0712, SSIM: 0.5751\n"
     ]
    },
    {
     "name": "stderr",
     "output_type": "stream",
     "text": [
      "Training Epoch 336/600: 100%|██████████| 4/4 [00:03<00:00,  1.00it/s]\n",
      "Validating Epoch 336/600: 100%|██████████| 1/1 [00:00<00:00,  1.28it/s]\n"
     ]
    },
    {
     "name": "stdout",
     "output_type": "stream",
     "text": [
      "Epoch [336/600], Train Loss: 0.0709, Val Loss: 0.0704, MSE: 0.0704, SSIM: 0.5871\n"
     ]
    },
    {
     "name": "stderr",
     "output_type": "stream",
     "text": [
      "Training Epoch 337/600: 100%|██████████| 4/4 [00:03<00:00,  1.01it/s]\n",
      "Validating Epoch 337/600: 100%|██████████| 1/1 [00:01<00:00,  1.08s/it]\n"
     ]
    },
    {
     "name": "stdout",
     "output_type": "stream",
     "text": [
      "Epoch [337/600], Train Loss: 0.0680, Val Loss: 0.0621, MSE: 0.0621, SSIM: 0.6367\n"
     ]
    },
    {
     "name": "stderr",
     "output_type": "stream",
     "text": [
      "Training Epoch 338/600: 100%|██████████| 4/4 [00:03<00:00,  1.15it/s]\n",
      "Validating Epoch 338/600: 100%|██████████| 1/1 [00:00<00:00,  1.64it/s]\n"
     ]
    },
    {
     "name": "stdout",
     "output_type": "stream",
     "text": [
      "Epoch [338/600], Train Loss: 0.0720, Val Loss: 0.0592, MSE: 0.0592, SSIM: 0.6482\n"
     ]
    },
    {
     "name": "stderr",
     "output_type": "stream",
     "text": [
      "Training Epoch 339/600: 100%|██████████| 4/4 [00:02<00:00,  1.47it/s]\n",
      "Validating Epoch 339/600: 100%|██████████| 1/1 [00:00<00:00,  1.48it/s]\n"
     ]
    },
    {
     "name": "stdout",
     "output_type": "stream",
     "text": [
      "Epoch [339/600], Train Loss: 0.0702, Val Loss: 0.0696, MSE: 0.0696, SSIM: 0.5878\n"
     ]
    },
    {
     "name": "stderr",
     "output_type": "stream",
     "text": [
      "Training Epoch 340/600: 100%|██████████| 4/4 [00:02<00:00,  1.35it/s]\n",
      "Validating Epoch 340/600: 100%|██████████| 1/1 [00:00<00:00,  1.03it/s]\n"
     ]
    },
    {
     "name": "stdout",
     "output_type": "stream",
     "text": [
      "Epoch [340/600], Train Loss: 0.0662, Val Loss: 0.0553, MSE: 0.0553, SSIM: 0.6727\n"
     ]
    },
    {
     "name": "stderr",
     "output_type": "stream",
     "text": [
      "Training Epoch 341/600: 100%|██████████| 4/4 [00:04<00:00,  1.06s/it]\n",
      "Validating Epoch 341/600: 100%|██████████| 1/1 [00:00<00:00,  1.10it/s]\n"
     ]
    },
    {
     "name": "stdout",
     "output_type": "stream",
     "text": [
      "Epoch [341/600], Train Loss: 0.0666, Val Loss: 0.0680, MSE: 0.0680, SSIM: 0.6271\n"
     ]
    },
    {
     "name": "stderr",
     "output_type": "stream",
     "text": [
      "Training Epoch 342/600: 100%|██████████| 4/4 [00:03<00:00,  1.09it/s]\n",
      "Validating Epoch 342/600: 100%|██████████| 1/1 [00:00<00:00,  1.25it/s]\n"
     ]
    },
    {
     "name": "stdout",
     "output_type": "stream",
     "text": [
      "Epoch [342/600], Train Loss: 0.0653, Val Loss: 0.0649, MSE: 0.0649, SSIM: 0.6351\n"
     ]
    },
    {
     "name": "stderr",
     "output_type": "stream",
     "text": [
      "Training Epoch 343/600: 100%|██████████| 4/4 [00:03<00:00,  1.25it/s]\n",
      "Validating Epoch 343/600: 100%|██████████| 1/1 [00:00<00:00,  1.42it/s]\n"
     ]
    },
    {
     "name": "stdout",
     "output_type": "stream",
     "text": [
      "Epoch [343/600], Train Loss: 0.0712, Val Loss: 0.0635, MSE: 0.0635, SSIM: 0.6200\n"
     ]
    },
    {
     "name": "stderr",
     "output_type": "stream",
     "text": [
      "Training Epoch 344/600: 100%|██████████| 4/4 [00:03<00:00,  1.30it/s]\n",
      "Validating Epoch 344/600: 100%|██████████| 1/1 [00:00<00:00,  1.47it/s]\n"
     ]
    },
    {
     "name": "stdout",
     "output_type": "stream",
     "text": [
      "Epoch [344/600], Train Loss: 0.0697, Val Loss: 0.0713, MSE: 0.0713, SSIM: 0.5876\n"
     ]
    },
    {
     "name": "stderr",
     "output_type": "stream",
     "text": [
      "Training Epoch 345/600: 100%|██████████| 4/4 [00:02<00:00,  1.35it/s]\n",
      "Validating Epoch 345/600: 100%|██████████| 1/1 [00:00<00:00,  1.46it/s]\n"
     ]
    },
    {
     "name": "stdout",
     "output_type": "stream",
     "text": [
      "Epoch [345/600], Train Loss: 0.0700, Val Loss: 0.0776, MSE: 0.0776, SSIM: 0.5508\n"
     ]
    },
    {
     "name": "stderr",
     "output_type": "stream",
     "text": [
      "Training Epoch 346/600: 100%|██████████| 4/4 [00:03<00:00,  1.31it/s]\n",
      "Validating Epoch 346/600: 100%|██████████| 1/1 [00:00<00:00,  1.42it/s]\n"
     ]
    },
    {
     "name": "stdout",
     "output_type": "stream",
     "text": [
      "Epoch [346/600], Train Loss: 0.0647, Val Loss: 0.0631, MSE: 0.0631, SSIM: 0.6376\n"
     ]
    },
    {
     "name": "stderr",
     "output_type": "stream",
     "text": [
      "Training Epoch 347/600: 100%|██████████| 4/4 [00:03<00:00,  1.32it/s]\n",
      "Validating Epoch 347/600: 100%|██████████| 1/1 [00:00<00:00,  1.43it/s]\n"
     ]
    },
    {
     "name": "stdout",
     "output_type": "stream",
     "text": [
      "Epoch [347/600], Train Loss: 0.0728, Val Loss: 0.0641, MSE: 0.0641, SSIM: 0.6193\n"
     ]
    },
    {
     "name": "stderr",
     "output_type": "stream",
     "text": [
      "Training Epoch 348/600: 100%|██████████| 4/4 [00:03<00:00,  1.27it/s]\n",
      "Validating Epoch 348/600: 100%|██████████| 1/1 [00:00<00:00,  1.28it/s]\n"
     ]
    },
    {
     "name": "stdout",
     "output_type": "stream",
     "text": [
      "Epoch [348/600], Train Loss: 0.0681, Val Loss: 0.0720, MSE: 0.0720, SSIM: 0.5746\n"
     ]
    },
    {
     "name": "stderr",
     "output_type": "stream",
     "text": [
      "Training Epoch 349/600: 100%|██████████| 4/4 [00:03<00:00,  1.22it/s]\n",
      "Validating Epoch 349/600: 100%|██████████| 1/1 [00:00<00:00,  1.27it/s]\n"
     ]
    },
    {
     "name": "stdout",
     "output_type": "stream",
     "text": [
      "Epoch [349/600], Train Loss: 0.0655, Val Loss: 0.0645, MSE: 0.0645, SSIM: 0.6352\n"
     ]
    },
    {
     "name": "stderr",
     "output_type": "stream",
     "text": [
      "Training Epoch 350/600: 100%|██████████| 4/4 [00:03<00:00,  1.21it/s]\n",
      "Validating Epoch 350/600: 100%|██████████| 1/1 [00:00<00:00,  1.25it/s]\n"
     ]
    },
    {
     "name": "stdout",
     "output_type": "stream",
     "text": [
      "Epoch [350/600], Train Loss: 0.0684, Val Loss: 0.0623, MSE: 0.0623, SSIM: 0.6221\n"
     ]
    },
    {
     "name": "stderr",
     "output_type": "stream",
     "text": [
      "Training Epoch 351/600: 100%|██████████| 4/4 [00:03<00:00,  1.27it/s]\n",
      "Validating Epoch 351/600: 100%|██████████| 1/1 [00:00<00:00,  1.26it/s]\n"
     ]
    },
    {
     "name": "stdout",
     "output_type": "stream",
     "text": [
      "Epoch [351/600], Train Loss: 0.0677, Val Loss: 0.0555, MSE: 0.0555, SSIM: 0.6708\n"
     ]
    },
    {
     "name": "stderr",
     "output_type": "stream",
     "text": [
      "Training Epoch 352/600: 100%|██████████| 4/4 [00:03<00:00,  1.14it/s]\n",
      "Validating Epoch 352/600: 100%|██████████| 1/1 [00:00<00:00,  1.22it/s]\n"
     ]
    },
    {
     "name": "stdout",
     "output_type": "stream",
     "text": [
      "Epoch [352/600], Train Loss: 0.0655, Val Loss: 0.0543, MSE: 0.0543, SSIM: 0.6862\n"
     ]
    },
    {
     "name": "stderr",
     "output_type": "stream",
     "text": [
      "Training Epoch 353/600: 100%|██████████| 4/4 [00:03<00:00,  1.20it/s]\n",
      "Validating Epoch 353/600: 100%|██████████| 1/1 [00:00<00:00,  1.31it/s]\n"
     ]
    },
    {
     "name": "stdout",
     "output_type": "stream",
     "text": [
      "Epoch [353/600], Train Loss: 0.0657, Val Loss: 0.0611, MSE: 0.0611, SSIM: 0.6530\n"
     ]
    },
    {
     "name": "stderr",
     "output_type": "stream",
     "text": [
      "Training Epoch 354/600: 100%|██████████| 4/4 [00:03<00:00,  1.23it/s]\n",
      "Validating Epoch 354/600: 100%|██████████| 1/1 [00:00<00:00,  1.32it/s]\n"
     ]
    },
    {
     "name": "stdout",
     "output_type": "stream",
     "text": [
      "Epoch [354/600], Train Loss: 0.0689, Val Loss: 0.0717, MSE: 0.0717, SSIM: 0.5794\n"
     ]
    },
    {
     "name": "stderr",
     "output_type": "stream",
     "text": [
      "Training Epoch 355/600: 100%|██████████| 4/4 [00:03<00:00,  1.26it/s]\n",
      "Validating Epoch 355/600: 100%|██████████| 1/1 [00:00<00:00,  1.33it/s]\n"
     ]
    },
    {
     "name": "stdout",
     "output_type": "stream",
     "text": [
      "Epoch [355/600], Train Loss: 0.0658, Val Loss: 0.0639, MSE: 0.0639, SSIM: 0.6278\n"
     ]
    },
    {
     "name": "stderr",
     "output_type": "stream",
     "text": [
      "Training Epoch 356/600: 100%|██████████| 4/4 [00:03<00:00,  1.27it/s]\n",
      "Validating Epoch 356/600: 100%|██████████| 1/1 [00:00<00:00,  1.38it/s]\n"
     ]
    },
    {
     "name": "stdout",
     "output_type": "stream",
     "text": [
      "Epoch [356/600], Train Loss: 0.0694, Val Loss: 0.0661, MSE: 0.0661, SSIM: 0.6116\n"
     ]
    },
    {
     "name": "stderr",
     "output_type": "stream",
     "text": [
      "Training Epoch 357/600: 100%|██████████| 4/4 [00:03<00:00,  1.20it/s]\n",
      "Validating Epoch 357/600: 100%|██████████| 1/1 [00:00<00:00,  1.35it/s]\n"
     ]
    },
    {
     "name": "stdout",
     "output_type": "stream",
     "text": [
      "Epoch [357/600], Train Loss: 0.0651, Val Loss: 0.0645, MSE: 0.0645, SSIM: 0.6272\n"
     ]
    },
    {
     "name": "stderr",
     "output_type": "stream",
     "text": [
      "Training Epoch 358/600: 100%|██████████| 4/4 [00:03<00:00,  1.26it/s]\n",
      "Validating Epoch 358/600: 100%|██████████| 1/1 [00:00<00:00,  1.39it/s]\n"
     ]
    },
    {
     "name": "stdout",
     "output_type": "stream",
     "text": [
      "Epoch [358/600], Train Loss: 0.0639, Val Loss: 0.0615, MSE: 0.0615, SSIM: 0.6578\n"
     ]
    },
    {
     "name": "stderr",
     "output_type": "stream",
     "text": [
      "Training Epoch 359/600: 100%|██████████| 4/4 [00:03<00:00,  1.24it/s]\n",
      "Validating Epoch 359/600: 100%|██████████| 1/1 [00:00<00:00,  1.26it/s]\n"
     ]
    },
    {
     "name": "stdout",
     "output_type": "stream",
     "text": [
      "Epoch [359/600], Train Loss: 0.0716, Val Loss: 0.0561, MSE: 0.0561, SSIM: 0.6590\n"
     ]
    },
    {
     "name": "stderr",
     "output_type": "stream",
     "text": [
      "Training Epoch 360/600: 100%|██████████| 4/4 [00:03<00:00,  1.23it/s]\n",
      "Validating Epoch 360/600: 100%|██████████| 1/1 [00:00<00:00,  1.35it/s]\n"
     ]
    },
    {
     "name": "stdout",
     "output_type": "stream",
     "text": [
      "Epoch [360/600], Train Loss: 0.0708, Val Loss: 0.0637, MSE: 0.0637, SSIM: 0.6204\n"
     ]
    },
    {
     "name": "stderr",
     "output_type": "stream",
     "text": [
      "Training Epoch 361/600: 100%|██████████| 4/4 [00:03<00:00,  1.26it/s]\n",
      "Validating Epoch 361/600: 100%|██████████| 1/1 [00:00<00:00,  1.22it/s]\n"
     ]
    },
    {
     "name": "stdout",
     "output_type": "stream",
     "text": [
      "Epoch [361/600], Train Loss: 0.0692, Val Loss: 0.0644, MSE: 0.0644, SSIM: 0.6239\n"
     ]
    },
    {
     "name": "stderr",
     "output_type": "stream",
     "text": [
      "Training Epoch 362/600: 100%|██████████| 4/4 [00:03<00:00,  1.24it/s]\n",
      "Validating Epoch 362/600: 100%|██████████| 1/1 [00:00<00:00,  1.37it/s]\n"
     ]
    },
    {
     "name": "stdout",
     "output_type": "stream",
     "text": [
      "Epoch [362/600], Train Loss: 0.0713, Val Loss: 0.0641, MSE: 0.0641, SSIM: 0.6231\n"
     ]
    },
    {
     "name": "stderr",
     "output_type": "stream",
     "text": [
      "Training Epoch 363/600: 100%|██████████| 4/4 [00:03<00:00,  1.22it/s]\n",
      "Validating Epoch 363/600: 100%|██████████| 1/1 [00:00<00:00,  1.39it/s]\n"
     ]
    },
    {
     "name": "stdout",
     "output_type": "stream",
     "text": [
      "Epoch [363/600], Train Loss: 0.0653, Val Loss: 0.0527, MSE: 0.0527, SSIM: 0.6883\n"
     ]
    },
    {
     "name": "stderr",
     "output_type": "stream",
     "text": [
      "Training Epoch 364/600: 100%|██████████| 4/4 [00:03<00:00,  1.26it/s]\n",
      "Validating Epoch 364/600: 100%|██████████| 1/1 [00:00<00:00,  1.26it/s]\n"
     ]
    },
    {
     "name": "stdout",
     "output_type": "stream",
     "text": [
      "Epoch [364/600], Train Loss: 0.0730, Val Loss: 0.0531, MSE: 0.0531, SSIM: 0.6868\n"
     ]
    },
    {
     "name": "stderr",
     "output_type": "stream",
     "text": [
      "Training Epoch 365/600: 100%|██████████| 4/4 [00:03<00:00,  1.19it/s]\n",
      "Validating Epoch 365/600: 100%|██████████| 1/1 [00:00<00:00,  1.26it/s]\n"
     ]
    },
    {
     "name": "stdout",
     "output_type": "stream",
     "text": [
      "Epoch [365/600], Train Loss: 0.0699, Val Loss: 0.0637, MSE: 0.0637, SSIM: 0.6166\n"
     ]
    },
    {
     "name": "stderr",
     "output_type": "stream",
     "text": [
      "Training Epoch 366/600: 100%|██████████| 4/4 [00:03<00:00,  1.24it/s]\n",
      "Validating Epoch 366/600: 100%|██████████| 1/1 [00:00<00:00,  1.34it/s]\n"
     ]
    },
    {
     "name": "stdout",
     "output_type": "stream",
     "text": [
      "Epoch [366/600], Train Loss: 0.0720, Val Loss: 0.0612, MSE: 0.0612, SSIM: 0.6149\n"
     ]
    },
    {
     "name": "stderr",
     "output_type": "stream",
     "text": [
      "Training Epoch 367/600: 100%|██████████| 4/4 [00:03<00:00,  1.19it/s]\n",
      "Validating Epoch 367/600: 100%|██████████| 1/1 [00:00<00:00,  1.36it/s]\n"
     ]
    },
    {
     "name": "stdout",
     "output_type": "stream",
     "text": [
      "Epoch [367/600], Train Loss: 0.0682, Val Loss: 0.0665, MSE: 0.0665, SSIM: 0.6061\n"
     ]
    },
    {
     "name": "stderr",
     "output_type": "stream",
     "text": [
      "Training Epoch 368/600: 100%|██████████| 4/4 [00:03<00:00,  1.23it/s]\n",
      "Validating Epoch 368/600: 100%|██████████| 1/1 [00:00<00:00,  1.30it/s]\n"
     ]
    },
    {
     "name": "stdout",
     "output_type": "stream",
     "text": [
      "Epoch [368/600], Train Loss: 0.0665, Val Loss: 0.0735, MSE: 0.0735, SSIM: 0.5654\n"
     ]
    },
    {
     "name": "stderr",
     "output_type": "stream",
     "text": [
      "Training Epoch 369/600: 100%|██████████| 4/4 [00:03<00:00,  1.10it/s]\n",
      "Validating Epoch 369/600: 100%|██████████| 1/1 [00:00<00:00,  1.28it/s]\n"
     ]
    },
    {
     "name": "stdout",
     "output_type": "stream",
     "text": [
      "Epoch [369/600], Train Loss: 0.0640, Val Loss: 0.0639, MSE: 0.0639, SSIM: 0.6421\n"
     ]
    },
    {
     "name": "stderr",
     "output_type": "stream",
     "text": [
      "Training Epoch 370/600: 100%|██████████| 4/4 [00:03<00:00,  1.14it/s]\n",
      "Validating Epoch 370/600: 100%|██████████| 1/1 [00:00<00:00,  1.35it/s]\n"
     ]
    },
    {
     "name": "stdout",
     "output_type": "stream",
     "text": [
      "Epoch [370/600], Train Loss: 0.0642, Val Loss: 0.0554, MSE: 0.0554, SSIM: 0.6691\n"
     ]
    },
    {
     "name": "stderr",
     "output_type": "stream",
     "text": [
      "Training Epoch 371/600: 100%|██████████| 4/4 [00:03<00:00,  1.26it/s]\n",
      "Validating Epoch 371/600: 100%|██████████| 1/1 [00:00<00:00,  1.24it/s]\n"
     ]
    },
    {
     "name": "stdout",
     "output_type": "stream",
     "text": [
      "Epoch [371/600], Train Loss: 0.0688, Val Loss: 0.0678, MSE: 0.0678, SSIM: 0.6024\n"
     ]
    },
    {
     "name": "stderr",
     "output_type": "stream",
     "text": [
      "Training Epoch 372/600: 100%|██████████| 4/4 [00:03<00:00,  1.11it/s]\n",
      "Validating Epoch 372/600: 100%|██████████| 1/1 [00:00<00:00,  1.15it/s]\n"
     ]
    },
    {
     "name": "stdout",
     "output_type": "stream",
     "text": [
      "Epoch [372/600], Train Loss: 0.0678, Val Loss: 0.0697, MSE: 0.0697, SSIM: 0.5927\n"
     ]
    },
    {
     "name": "stderr",
     "output_type": "stream",
     "text": [
      "Training Epoch 373/600: 100%|██████████| 4/4 [00:03<00:00,  1.14it/s]\n",
      "Validating Epoch 373/600: 100%|██████████| 1/1 [00:00<00:00,  1.24it/s]\n"
     ]
    },
    {
     "name": "stdout",
     "output_type": "stream",
     "text": [
      "Epoch [373/600], Train Loss: 0.0663, Val Loss: 0.0730, MSE: 0.0730, SSIM: 0.5775\n"
     ]
    },
    {
     "name": "stderr",
     "output_type": "stream",
     "text": [
      "Training Epoch 374/600: 100%|██████████| 4/4 [00:03<00:00,  1.20it/s]\n",
      "Validating Epoch 374/600: 100%|██████████| 1/1 [00:00<00:00,  1.24it/s]\n"
     ]
    },
    {
     "name": "stdout",
     "output_type": "stream",
     "text": [
      "Epoch [374/600], Train Loss: 0.0658, Val Loss: 0.0672, MSE: 0.0672, SSIM: 0.6148\n"
     ]
    },
    {
     "name": "stderr",
     "output_type": "stream",
     "text": [
      "Training Epoch 375/600: 100%|██████████| 4/4 [00:03<00:00,  1.16it/s]\n",
      "Validating Epoch 375/600: 100%|██████████| 1/1 [00:00<00:00,  1.26it/s]\n"
     ]
    },
    {
     "name": "stdout",
     "output_type": "stream",
     "text": [
      "Epoch [375/600], Train Loss: 0.0713, Val Loss: 0.0678, MSE: 0.0678, SSIM: 0.5930\n"
     ]
    },
    {
     "name": "stderr",
     "output_type": "stream",
     "text": [
      "Training Epoch 376/600: 100%|██████████| 4/4 [00:03<00:00,  1.18it/s]\n",
      "Validating Epoch 376/600: 100%|██████████| 1/1 [00:00<00:00,  1.18it/s]\n"
     ]
    },
    {
     "name": "stdout",
     "output_type": "stream",
     "text": [
      "Epoch [376/600], Train Loss: 0.0669, Val Loss: 0.0553, MSE: 0.0553, SSIM: 0.6688\n"
     ]
    },
    {
     "name": "stderr",
     "output_type": "stream",
     "text": [
      "Training Epoch 377/600: 100%|██████████| 4/4 [00:03<00:00,  1.19it/s]\n",
      "Validating Epoch 377/600: 100%|██████████| 1/1 [00:00<00:00,  1.22it/s]\n"
     ]
    },
    {
     "name": "stdout",
     "output_type": "stream",
     "text": [
      "Epoch [377/600], Train Loss: 0.0667, Val Loss: 0.0666, MSE: 0.0666, SSIM: 0.6140\n"
     ]
    },
    {
     "name": "stderr",
     "output_type": "stream",
     "text": [
      "Training Epoch 378/600: 100%|██████████| 4/4 [00:03<00:00,  1.14it/s]\n",
      "Validating Epoch 378/600: 100%|██████████| 1/1 [00:00<00:00,  1.21it/s]\n"
     ]
    },
    {
     "name": "stdout",
     "output_type": "stream",
     "text": [
      "Epoch [378/600], Train Loss: 0.0678, Val Loss: 0.0610, MSE: 0.0610, SSIM: 0.6429\n"
     ]
    },
    {
     "name": "stderr",
     "output_type": "stream",
     "text": [
      "Training Epoch 379/600: 100%|██████████| 4/4 [00:03<00:00,  1.17it/s]\n",
      "Validating Epoch 379/600: 100%|██████████| 1/1 [00:00<00:00,  1.32it/s]\n"
     ]
    },
    {
     "name": "stdout",
     "output_type": "stream",
     "text": [
      "Epoch [379/600], Train Loss: 0.0649, Val Loss: 0.0660, MSE: 0.0660, SSIM: 0.6201\n"
     ]
    },
    {
     "name": "stderr",
     "output_type": "stream",
     "text": [
      "Training Epoch 380/600: 100%|██████████| 4/4 [00:03<00:00,  1.19it/s]\n",
      "Validating Epoch 380/600: 100%|██████████| 1/1 [00:00<00:00,  1.32it/s]\n"
     ]
    },
    {
     "name": "stdout",
     "output_type": "stream",
     "text": [
      "Epoch [380/600], Train Loss: 0.0656, Val Loss: 0.0604, MSE: 0.0604, SSIM: 0.6615\n"
     ]
    },
    {
     "name": "stderr",
     "output_type": "stream",
     "text": [
      "Training Epoch 381/600: 100%|██████████| 4/4 [00:03<00:00,  1.22it/s]\n",
      "Validating Epoch 381/600: 100%|██████████| 1/1 [00:00<00:00,  1.21it/s]\n"
     ]
    },
    {
     "name": "stdout",
     "output_type": "stream",
     "text": [
      "Epoch [381/600], Train Loss: 0.0742, Val Loss: 0.0699, MSE: 0.0699, SSIM: 0.5846\n"
     ]
    },
    {
     "name": "stderr",
     "output_type": "stream",
     "text": [
      "Training Epoch 382/600: 100%|██████████| 4/4 [00:03<00:00,  1.22it/s]\n",
      "Validating Epoch 382/600: 100%|██████████| 1/1 [00:00<00:00,  1.24it/s]\n"
     ]
    },
    {
     "name": "stdout",
     "output_type": "stream",
     "text": [
      "Epoch [382/600], Train Loss: 0.0696, Val Loss: 0.0682, MSE: 0.0682, SSIM: 0.5954\n"
     ]
    },
    {
     "name": "stderr",
     "output_type": "stream",
     "text": [
      "Training Epoch 383/600: 100%|██████████| 4/4 [00:03<00:00,  1.20it/s]\n",
      "Validating Epoch 383/600: 100%|██████████| 1/1 [00:00<00:00,  1.22it/s]\n"
     ]
    },
    {
     "name": "stdout",
     "output_type": "stream",
     "text": [
      "Epoch [383/600], Train Loss: 0.0707, Val Loss: 0.0659, MSE: 0.0659, SSIM: 0.6305\n"
     ]
    },
    {
     "name": "stderr",
     "output_type": "stream",
     "text": [
      "Training Epoch 384/600: 100%|██████████| 4/4 [00:03<00:00,  1.19it/s]\n",
      "Validating Epoch 384/600: 100%|██████████| 1/1 [00:00<00:00,  1.20it/s]\n"
     ]
    },
    {
     "name": "stdout",
     "output_type": "stream",
     "text": [
      "Epoch [384/600], Train Loss: 0.0696, Val Loss: 0.0594, MSE: 0.0594, SSIM: 0.6578\n"
     ]
    },
    {
     "name": "stderr",
     "output_type": "stream",
     "text": [
      "Training Epoch 385/600: 100%|██████████| 4/4 [00:03<00:00,  1.18it/s]\n",
      "Validating Epoch 385/600: 100%|██████████| 1/1 [00:00<00:00,  1.31it/s]\n"
     ]
    },
    {
     "name": "stdout",
     "output_type": "stream",
     "text": [
      "Epoch [385/600], Train Loss: 0.0671, Val Loss: 0.0664, MSE: 0.0664, SSIM: 0.6304\n"
     ]
    },
    {
     "name": "stderr",
     "output_type": "stream",
     "text": [
      "Training Epoch 386/600: 100%|██████████| 4/4 [00:03<00:00,  1.20it/s]\n",
      "Validating Epoch 386/600: 100%|██████████| 1/1 [00:00<00:00,  1.33it/s]\n"
     ]
    },
    {
     "name": "stdout",
     "output_type": "stream",
     "text": [
      "Epoch [386/600], Train Loss: 0.0669, Val Loss: 0.0725, MSE: 0.0725, SSIM: 0.5779\n"
     ]
    },
    {
     "name": "stderr",
     "output_type": "stream",
     "text": [
      "Training Epoch 387/600: 100%|██████████| 4/4 [00:03<00:00,  1.32it/s]\n",
      "Validating Epoch 387/600: 100%|██████████| 1/1 [00:00<00:00,  1.42it/s]\n"
     ]
    },
    {
     "name": "stdout",
     "output_type": "stream",
     "text": [
      "Epoch [387/600], Train Loss: 0.0669, Val Loss: 0.0554, MSE: 0.0554, SSIM: 0.6781\n"
     ]
    },
    {
     "name": "stderr",
     "output_type": "stream",
     "text": [
      "Training Epoch 388/600: 100%|██████████| 4/4 [00:03<00:00,  1.22it/s]\n",
      "Validating Epoch 388/600: 100%|██████████| 1/1 [00:00<00:00,  1.36it/s]\n"
     ]
    },
    {
     "name": "stdout",
     "output_type": "stream",
     "text": [
      "Epoch [388/600], Train Loss: 0.0631, Val Loss: 0.0598, MSE: 0.0598, SSIM: 0.6442\n"
     ]
    },
    {
     "name": "stderr",
     "output_type": "stream",
     "text": [
      "Training Epoch 389/600: 100%|██████████| 4/4 [00:03<00:00,  1.28it/s]\n",
      "Validating Epoch 389/600: 100%|██████████| 1/1 [00:00<00:00,  1.31it/s]\n"
     ]
    },
    {
     "name": "stdout",
     "output_type": "stream",
     "text": [
      "Epoch [389/600], Train Loss: 0.0634, Val Loss: 0.0589, MSE: 0.0589, SSIM: 0.6610\n"
     ]
    },
    {
     "name": "stderr",
     "output_type": "stream",
     "text": [
      "Training Epoch 390/600: 100%|██████████| 4/4 [00:03<00:00,  1.28it/s]\n",
      "Validating Epoch 390/600: 100%|██████████| 1/1 [00:00<00:00,  1.26it/s]\n"
     ]
    },
    {
     "name": "stdout",
     "output_type": "stream",
     "text": [
      "Epoch [390/600], Train Loss: 0.0704, Val Loss: 0.0617, MSE: 0.0617, SSIM: 0.6374\n"
     ]
    },
    {
     "name": "stderr",
     "output_type": "stream",
     "text": [
      "Training Epoch 391/600: 100%|██████████| 4/4 [00:03<00:00,  1.26it/s]\n",
      "Validating Epoch 391/600: 100%|██████████| 1/1 [00:00<00:00,  1.35it/s]\n"
     ]
    },
    {
     "name": "stdout",
     "output_type": "stream",
     "text": [
      "Epoch [391/600], Train Loss: 0.0642, Val Loss: 0.0673, MSE: 0.0673, SSIM: 0.6115\n"
     ]
    },
    {
     "name": "stderr",
     "output_type": "stream",
     "text": [
      "Training Epoch 392/600: 100%|██████████| 4/4 [00:03<00:00,  1.21it/s]\n",
      "Validating Epoch 392/600: 100%|██████████| 1/1 [00:00<00:00,  1.20it/s]\n"
     ]
    },
    {
     "name": "stdout",
     "output_type": "stream",
     "text": [
      "Epoch [392/600], Train Loss: 0.0604, Val Loss: 0.0632, MSE: 0.0632, SSIM: 0.6408\n"
     ]
    },
    {
     "name": "stderr",
     "output_type": "stream",
     "text": [
      "Training Epoch 393/600: 100%|██████████| 4/4 [00:03<00:00,  1.17it/s]\n",
      "Validating Epoch 393/600: 100%|██████████| 1/1 [00:00<00:00,  1.20it/s]\n"
     ]
    },
    {
     "name": "stdout",
     "output_type": "stream",
     "text": [
      "Epoch [393/600], Train Loss: 0.0645, Val Loss: 0.0623, MSE: 0.0623, SSIM: 0.6416\n"
     ]
    },
    {
     "name": "stderr",
     "output_type": "stream",
     "text": [
      "Training Epoch 394/600: 100%|██████████| 4/4 [00:03<00:00,  1.17it/s]\n",
      "Validating Epoch 394/600: 100%|██████████| 1/1 [00:00<00:00,  1.21it/s]\n"
     ]
    },
    {
     "name": "stdout",
     "output_type": "stream",
     "text": [
      "Epoch [394/600], Train Loss: 0.0697, Val Loss: 0.0596, MSE: 0.0596, SSIM: 0.6497\n"
     ]
    },
    {
     "name": "stderr",
     "output_type": "stream",
     "text": [
      "Training Epoch 395/600: 100%|██████████| 4/4 [00:03<00:00,  1.17it/s]\n",
      "Validating Epoch 395/600: 100%|██████████| 1/1 [00:00<00:00,  1.28it/s]\n"
     ]
    },
    {
     "name": "stdout",
     "output_type": "stream",
     "text": [
      "Epoch [395/600], Train Loss: 0.0632, Val Loss: 0.0567, MSE: 0.0567, SSIM: 0.6701\n"
     ]
    },
    {
     "name": "stderr",
     "output_type": "stream",
     "text": [
      "Training Epoch 396/600: 100%|██████████| 4/4 [00:03<00:00,  1.22it/s]\n",
      "Validating Epoch 396/600: 100%|██████████| 1/1 [00:00<00:00,  1.21it/s]\n"
     ]
    },
    {
     "name": "stdout",
     "output_type": "stream",
     "text": [
      "Epoch [396/600], Train Loss: 0.0653, Val Loss: 0.0623, MSE: 0.0623, SSIM: 0.6450\n"
     ]
    },
    {
     "name": "stderr",
     "output_type": "stream",
     "text": [
      "Training Epoch 397/600: 100%|██████████| 4/4 [00:03<00:00,  1.16it/s]\n",
      "Validating Epoch 397/600: 100%|██████████| 1/1 [00:00<00:00,  1.16it/s]\n"
     ]
    },
    {
     "name": "stdout",
     "output_type": "stream",
     "text": [
      "Epoch [397/600], Train Loss: 0.0665, Val Loss: 0.0730, MSE: 0.0730, SSIM: 0.5860\n"
     ]
    },
    {
     "name": "stderr",
     "output_type": "stream",
     "text": [
      "Training Epoch 398/600: 100%|██████████| 4/4 [00:03<00:00,  1.14it/s]\n",
      "Validating Epoch 398/600: 100%|██████████| 1/1 [00:00<00:00,  1.20it/s]\n"
     ]
    },
    {
     "name": "stdout",
     "output_type": "stream",
     "text": [
      "Epoch [398/600], Train Loss: 0.0669, Val Loss: 0.0625, MSE: 0.0625, SSIM: 0.6239\n"
     ]
    },
    {
     "name": "stderr",
     "output_type": "stream",
     "text": [
      "Training Epoch 399/600: 100%|██████████| 4/4 [00:03<00:00,  1.12it/s]\n",
      "Validating Epoch 399/600: 100%|██████████| 1/1 [00:00<00:00,  1.18it/s]\n"
     ]
    },
    {
     "name": "stdout",
     "output_type": "stream",
     "text": [
      "Epoch [399/600], Train Loss: 0.0686, Val Loss: 0.0595, MSE: 0.0595, SSIM: 0.6361\n"
     ]
    },
    {
     "name": "stderr",
     "output_type": "stream",
     "text": [
      "Training Epoch 400/600: 100%|██████████| 4/4 [00:03<00:00,  1.15it/s]\n",
      "Validating Epoch 400/600: 100%|██████████| 1/1 [00:00<00:00,  1.18it/s]\n"
     ]
    },
    {
     "name": "stdout",
     "output_type": "stream",
     "text": [
      "Epoch [400/600], Train Loss: 0.0688, Val Loss: 0.0594, MSE: 0.0594, SSIM: 0.6632\n"
     ]
    },
    {
     "name": "stderr",
     "output_type": "stream",
     "text": [
      "Training Epoch 401/600: 100%|██████████| 4/4 [00:03<00:00,  1.12it/s]\n",
      "Validating Epoch 401/600: 100%|██████████| 1/1 [00:00<00:00,  1.19it/s]\n"
     ]
    },
    {
     "name": "stdout",
     "output_type": "stream",
     "text": [
      "Epoch [401/600], Train Loss: 0.0677, Val Loss: 0.0677, MSE: 0.0677, SSIM: 0.6325\n"
     ]
    },
    {
     "name": "stderr",
     "output_type": "stream",
     "text": [
      "Training Epoch 402/600: 100%|██████████| 4/4 [00:03<00:00,  1.14it/s]\n",
      "Validating Epoch 402/600: 100%|██████████| 1/1 [00:00<00:00,  1.20it/s]\n"
     ]
    },
    {
     "name": "stdout",
     "output_type": "stream",
     "text": [
      "Epoch [402/600], Train Loss: 0.0690, Val Loss: 0.0637, MSE: 0.0637, SSIM: 0.6165\n"
     ]
    },
    {
     "name": "stderr",
     "output_type": "stream",
     "text": [
      "Training Epoch 403/600: 100%|██████████| 4/4 [00:03<00:00,  1.11it/s]\n",
      "Validating Epoch 403/600: 100%|██████████| 1/1 [00:00<00:00,  1.16it/s]\n"
     ]
    },
    {
     "name": "stdout",
     "output_type": "stream",
     "text": [
      "Epoch [403/600], Train Loss: 0.0652, Val Loss: 0.0713, MSE: 0.0713, SSIM: 0.6060\n"
     ]
    },
    {
     "name": "stderr",
     "output_type": "stream",
     "text": [
      "Training Epoch 404/600: 100%|██████████| 4/4 [00:03<00:00,  1.15it/s]\n",
      "Validating Epoch 404/600: 100%|██████████| 1/1 [00:00<00:00,  1.25it/s]\n"
     ]
    },
    {
     "name": "stdout",
     "output_type": "stream",
     "text": [
      "Epoch [404/600], Train Loss: 0.0655, Val Loss: 0.0693, MSE: 0.0693, SSIM: 0.6005\n"
     ]
    },
    {
     "name": "stderr",
     "output_type": "stream",
     "text": [
      "Training Epoch 405/600: 100%|██████████| 4/4 [00:03<00:00,  1.15it/s]\n",
      "Validating Epoch 405/600: 100%|██████████| 1/1 [00:00<00:00,  1.22it/s]\n"
     ]
    },
    {
     "name": "stdout",
     "output_type": "stream",
     "text": [
      "Epoch [405/600], Train Loss: 0.0669, Val Loss: 0.0700, MSE: 0.0700, SSIM: 0.5916\n"
     ]
    },
    {
     "name": "stderr",
     "output_type": "stream",
     "text": [
      "Training Epoch 406/600: 100%|██████████| 4/4 [00:03<00:00,  1.15it/s]\n",
      "Validating Epoch 406/600: 100%|██████████| 1/1 [00:00<00:00,  1.22it/s]\n"
     ]
    },
    {
     "name": "stdout",
     "output_type": "stream",
     "text": [
      "Epoch [406/600], Train Loss: 0.0721, Val Loss: 0.0643, MSE: 0.0643, SSIM: 0.6195\n"
     ]
    },
    {
     "name": "stderr",
     "output_type": "stream",
     "text": [
      "Training Epoch 407/600: 100%|██████████| 4/4 [00:03<00:00,  1.16it/s]\n",
      "Validating Epoch 407/600: 100%|██████████| 1/1 [00:00<00:00,  1.26it/s]\n"
     ]
    },
    {
     "name": "stdout",
     "output_type": "stream",
     "text": [
      "Epoch [407/600], Train Loss: 0.0691, Val Loss: 0.0632, MSE: 0.0632, SSIM: 0.6197\n"
     ]
    },
    {
     "name": "stderr",
     "output_type": "stream",
     "text": [
      "Training Epoch 408/600: 100%|██████████| 4/4 [00:03<00:00,  1.20it/s]\n",
      "Validating Epoch 408/600: 100%|██████████| 1/1 [00:00<00:00,  1.27it/s]\n"
     ]
    },
    {
     "name": "stdout",
     "output_type": "stream",
     "text": [
      "Epoch [408/600], Train Loss: 0.0675, Val Loss: 0.0665, MSE: 0.0665, SSIM: 0.5954\n"
     ]
    },
    {
     "name": "stderr",
     "output_type": "stream",
     "text": [
      "Training Epoch 409/600: 100%|██████████| 4/4 [00:03<00:00,  1.14it/s]\n",
      "Validating Epoch 409/600: 100%|██████████| 1/1 [00:00<00:00,  1.25it/s]\n"
     ]
    },
    {
     "name": "stdout",
     "output_type": "stream",
     "text": [
      "Epoch [409/600], Train Loss: 0.0637, Val Loss: 0.0600, MSE: 0.0600, SSIM: 0.6451\n"
     ]
    },
    {
     "name": "stderr",
     "output_type": "stream",
     "text": [
      "Training Epoch 410/600: 100%|██████████| 4/4 [00:03<00:00,  1.17it/s]\n",
      "Validating Epoch 410/600: 100%|██████████| 1/1 [00:00<00:00,  1.28it/s]\n"
     ]
    },
    {
     "name": "stdout",
     "output_type": "stream",
     "text": [
      "Epoch [410/600], Train Loss: 0.0639, Val Loss: 0.0710, MSE: 0.0710, SSIM: 0.5858\n"
     ]
    },
    {
     "name": "stderr",
     "output_type": "stream",
     "text": [
      "Training Epoch 411/600: 100%|██████████| 4/4 [00:03<00:00,  1.18it/s]\n",
      "Validating Epoch 411/600: 100%|██████████| 1/1 [00:00<00:00,  1.29it/s]\n"
     ]
    },
    {
     "name": "stdout",
     "output_type": "stream",
     "text": [
      "Epoch [411/600], Train Loss: 0.0669, Val Loss: 0.0577, MSE: 0.0577, SSIM: 0.6664\n"
     ]
    },
    {
     "name": "stderr",
     "output_type": "stream",
     "text": [
      "Training Epoch 412/600: 100%|██████████| 4/4 [00:03<00:00,  1.16it/s]\n",
      "Validating Epoch 412/600: 100%|██████████| 1/1 [00:00<00:00,  1.24it/s]\n"
     ]
    },
    {
     "name": "stdout",
     "output_type": "stream",
     "text": [
      "Epoch [412/600], Train Loss: 0.0663, Val Loss: 0.0602, MSE: 0.0602, SSIM: 0.6476\n"
     ]
    },
    {
     "name": "stderr",
     "output_type": "stream",
     "text": [
      "Training Epoch 413/600: 100%|██████████| 4/4 [00:03<00:00,  1.15it/s]\n",
      "Validating Epoch 413/600: 100%|██████████| 1/1 [00:00<00:00,  1.21it/s]\n"
     ]
    },
    {
     "name": "stdout",
     "output_type": "stream",
     "text": [
      "Epoch [413/600], Train Loss: 0.0650, Val Loss: 0.0531, MSE: 0.0531, SSIM: 0.6923\n"
     ]
    },
    {
     "name": "stderr",
     "output_type": "stream",
     "text": [
      "Training Epoch 414/600: 100%|██████████| 4/4 [00:03<00:00,  1.20it/s]\n",
      "Validating Epoch 414/600: 100%|██████████| 1/1 [00:00<00:00,  1.22it/s]\n"
     ]
    },
    {
     "name": "stdout",
     "output_type": "stream",
     "text": [
      "Epoch [414/600], Train Loss: 0.0645, Val Loss: 0.0552, MSE: 0.0552, SSIM: 0.6820\n"
     ]
    },
    {
     "name": "stderr",
     "output_type": "stream",
     "text": [
      "Training Epoch 415/600: 100%|██████████| 4/4 [00:03<00:00,  1.13it/s]\n",
      "Validating Epoch 415/600: 100%|██████████| 1/1 [00:00<00:00,  1.22it/s]\n"
     ]
    },
    {
     "name": "stdout",
     "output_type": "stream",
     "text": [
      "Epoch [415/600], Train Loss: 0.0653, Val Loss: 0.0576, MSE: 0.0576, SSIM: 0.6592\n"
     ]
    },
    {
     "name": "stderr",
     "output_type": "stream",
     "text": [
      "Training Epoch 416/600: 100%|██████████| 4/4 [00:03<00:00,  1.23it/s]\n",
      "Validating Epoch 416/600: 100%|██████████| 1/1 [00:00<00:00,  1.33it/s]\n"
     ]
    },
    {
     "name": "stdout",
     "output_type": "stream",
     "text": [
      "Epoch [416/600], Train Loss: 0.0667, Val Loss: 0.0607, MSE: 0.0607, SSIM: 0.6461\n"
     ]
    },
    {
     "name": "stderr",
     "output_type": "stream",
     "text": [
      "Training Epoch 417/600: 100%|██████████| 4/4 [00:03<00:00,  1.18it/s]\n",
      "Validating Epoch 417/600: 100%|██████████| 1/1 [00:00<00:00,  1.20it/s]\n"
     ]
    },
    {
     "name": "stdout",
     "output_type": "stream",
     "text": [
      "Epoch [417/600], Train Loss: 0.0658, Val Loss: 0.0714, MSE: 0.0714, SSIM: 0.5912\n"
     ]
    },
    {
     "name": "stderr",
     "output_type": "stream",
     "text": [
      "Training Epoch 418/600: 100%|██████████| 4/4 [00:03<00:00,  1.20it/s]\n",
      "Validating Epoch 418/600: 100%|██████████| 1/1 [00:00<00:00,  1.31it/s]\n"
     ]
    },
    {
     "name": "stdout",
     "output_type": "stream",
     "text": [
      "Epoch [418/600], Train Loss: 0.0702, Val Loss: 0.0632, MSE: 0.0632, SSIM: 0.6231\n"
     ]
    },
    {
     "name": "stderr",
     "output_type": "stream",
     "text": [
      "Training Epoch 419/600: 100%|██████████| 4/4 [00:03<00:00,  1.21it/s]\n",
      "Validating Epoch 419/600: 100%|██████████| 1/1 [00:00<00:00,  1.30it/s]\n"
     ]
    },
    {
     "name": "stdout",
     "output_type": "stream",
     "text": [
      "Epoch [419/600], Train Loss: 0.0694, Val Loss: 0.0753, MSE: 0.0753, SSIM: 0.5548\n"
     ]
    },
    {
     "name": "stderr",
     "output_type": "stream",
     "text": [
      "Training Epoch 420/600: 100%|██████████| 4/4 [00:03<00:00,  1.24it/s]\n",
      "Validating Epoch 420/600: 100%|██████████| 1/1 [00:00<00:00,  1.39it/s]\n"
     ]
    },
    {
     "name": "stdout",
     "output_type": "stream",
     "text": [
      "Epoch [420/600], Train Loss: 0.0662, Val Loss: 0.0576, MSE: 0.0576, SSIM: 0.6661\n"
     ]
    },
    {
     "name": "stderr",
     "output_type": "stream",
     "text": [
      "Training Epoch 421/600: 100%|██████████| 4/4 [00:03<00:00,  1.18it/s]\n",
      "Validating Epoch 421/600: 100%|██████████| 1/1 [00:00<00:00,  1.21it/s]\n"
     ]
    },
    {
     "name": "stdout",
     "output_type": "stream",
     "text": [
      "Epoch [421/600], Train Loss: 0.0667, Val Loss: 0.0578, MSE: 0.0578, SSIM: 0.6710\n"
     ]
    },
    {
     "name": "stderr",
     "output_type": "stream",
     "text": [
      "Training Epoch 422/600: 100%|██████████| 4/4 [00:03<00:00,  1.18it/s]\n",
      "Validating Epoch 422/600: 100%|██████████| 1/1 [00:00<00:00,  1.24it/s]\n"
     ]
    },
    {
     "name": "stdout",
     "output_type": "stream",
     "text": [
      "Epoch [422/600], Train Loss: 0.0671, Val Loss: 0.0596, MSE: 0.0596, SSIM: 0.6509\n"
     ]
    },
    {
     "name": "stderr",
     "output_type": "stream",
     "text": [
      "Training Epoch 423/600: 100%|██████████| 4/4 [00:03<00:00,  1.21it/s]\n",
      "Validating Epoch 423/600: 100%|██████████| 1/1 [00:00<00:00,  1.30it/s]\n"
     ]
    },
    {
     "name": "stdout",
     "output_type": "stream",
     "text": [
      "Epoch [423/600], Train Loss: 0.0669, Val Loss: 0.0651, MSE: 0.0651, SSIM: 0.6333\n"
     ]
    },
    {
     "name": "stderr",
     "output_type": "stream",
     "text": [
      "Training Epoch 424/600: 100%|██████████| 4/4 [00:03<00:00,  1.25it/s]\n",
      "Validating Epoch 424/600: 100%|██████████| 1/1 [00:00<00:00,  1.29it/s]\n"
     ]
    },
    {
     "name": "stdout",
     "output_type": "stream",
     "text": [
      "Epoch [424/600], Train Loss: 0.0665, Val Loss: 0.0621, MSE: 0.0621, SSIM: 0.6396\n"
     ]
    },
    {
     "name": "stderr",
     "output_type": "stream",
     "text": [
      "Training Epoch 425/600: 100%|██████████| 4/4 [00:03<00:00,  1.24it/s]\n",
      "Validating Epoch 425/600: 100%|██████████| 1/1 [00:00<00:00,  1.05it/s]\n"
     ]
    },
    {
     "name": "stdout",
     "output_type": "stream",
     "text": [
      "Epoch [425/600], Train Loss: 0.0644, Val Loss: 0.0557, MSE: 0.0557, SSIM: 0.6665\n"
     ]
    },
    {
     "name": "stderr",
     "output_type": "stream",
     "text": [
      "Training Epoch 426/600: 100%|██████████| 4/4 [00:03<00:00,  1.07it/s]\n",
      "Validating Epoch 426/600: 100%|██████████| 1/1 [00:00<00:00,  1.26it/s]\n"
     ]
    },
    {
     "name": "stdout",
     "output_type": "stream",
     "text": [
      "Epoch [426/600], Train Loss: 0.0683, Val Loss: 0.0605, MSE: 0.0605, SSIM: 0.6328\n"
     ]
    },
    {
     "name": "stderr",
     "output_type": "stream",
     "text": [
      "Training Epoch 427/600: 100%|██████████| 4/4 [00:02<00:00,  1.65it/s]\n",
      "Validating Epoch 427/600: 100%|██████████| 1/1 [00:00<00:00,  1.86it/s]\n"
     ]
    },
    {
     "name": "stdout",
     "output_type": "stream",
     "text": [
      "Epoch [427/600], Train Loss: 0.0655, Val Loss: 0.0612, MSE: 0.0612, SSIM: 0.6432\n"
     ]
    },
    {
     "name": "stderr",
     "output_type": "stream",
     "text": [
      "Training Epoch 428/600: 100%|██████████| 4/4 [00:02<00:00,  1.51it/s]\n",
      "Validating Epoch 428/600: 100%|██████████| 1/1 [00:00<00:00,  1.42it/s]\n"
     ]
    },
    {
     "name": "stdout",
     "output_type": "stream",
     "text": [
      "Epoch [428/600], Train Loss: 0.0670, Val Loss: 0.0639, MSE: 0.0639, SSIM: 0.6162\n"
     ]
    },
    {
     "name": "stderr",
     "output_type": "stream",
     "text": [
      "Training Epoch 429/600: 100%|██████████| 4/4 [00:02<00:00,  1.34it/s]\n",
      "Validating Epoch 429/600: 100%|██████████| 1/1 [00:00<00:00,  1.21it/s]\n"
     ]
    },
    {
     "name": "stdout",
     "output_type": "stream",
     "text": [
      "Epoch [429/600], Train Loss: 0.0637, Val Loss: 0.0718, MSE: 0.0718, SSIM: 0.5987\n"
     ]
    },
    {
     "name": "stderr",
     "output_type": "stream",
     "text": [
      "Training Epoch 430/600: 100%|██████████| 4/4 [00:03<00:00,  1.21it/s]\n",
      "Validating Epoch 430/600: 100%|██████████| 1/1 [00:00<00:00,  1.33it/s]\n"
     ]
    },
    {
     "name": "stdout",
     "output_type": "stream",
     "text": [
      "Epoch [430/600], Train Loss: 0.0642, Val Loss: 0.0686, MSE: 0.0686, SSIM: 0.6045\n"
     ]
    },
    {
     "name": "stderr",
     "output_type": "stream",
     "text": [
      "Training Epoch 431/600: 100%|██████████| 4/4 [00:03<00:00,  1.15it/s]\n",
      "Validating Epoch 431/600: 100%|██████████| 1/1 [00:00<00:00,  1.24it/s]\n"
     ]
    },
    {
     "name": "stdout",
     "output_type": "stream",
     "text": [
      "Epoch [431/600], Train Loss: 0.0656, Val Loss: 0.0546, MSE: 0.0546, SSIM: 0.6794\n"
     ]
    },
    {
     "name": "stderr",
     "output_type": "stream",
     "text": [
      "Training Epoch 432/600: 100%|██████████| 4/4 [00:03<00:00,  1.11it/s]\n",
      "Validating Epoch 432/600: 100%|██████████| 1/1 [00:00<00:00,  1.12it/s]\n"
     ]
    },
    {
     "name": "stdout",
     "output_type": "stream",
     "text": [
      "Epoch [432/600], Train Loss: 0.0693, Val Loss: 0.0671, MSE: 0.0671, SSIM: 0.6139\n"
     ]
    },
    {
     "name": "stderr",
     "output_type": "stream",
     "text": [
      "Training Epoch 433/600: 100%|██████████| 4/4 [00:03<00:00,  1.12it/s]\n",
      "Validating Epoch 433/600: 100%|██████████| 1/1 [00:00<00:00,  1.06it/s]\n"
     ]
    },
    {
     "name": "stdout",
     "output_type": "stream",
     "text": [
      "Epoch [433/600], Train Loss: 0.0682, Val Loss: 0.0630, MSE: 0.0630, SSIM: 0.6266\n"
     ]
    },
    {
     "name": "stderr",
     "output_type": "stream",
     "text": [
      "Training Epoch 434/600: 100%|██████████| 4/4 [00:03<00:00,  1.23it/s]\n",
      "Validating Epoch 434/600: 100%|██████████| 1/1 [00:00<00:00,  2.00it/s]\n"
     ]
    },
    {
     "name": "stdout",
     "output_type": "stream",
     "text": [
      "Epoch [434/600], Train Loss: 0.0643, Val Loss: 0.0636, MSE: 0.0636, SSIM: 0.6352\n"
     ]
    },
    {
     "name": "stderr",
     "output_type": "stream",
     "text": [
      "Training Epoch 435/600: 100%|██████████| 4/4 [00:02<00:00,  1.78it/s]\n",
      "Validating Epoch 435/600: 100%|██████████| 1/1 [00:00<00:00,  2.20it/s]\n"
     ]
    },
    {
     "name": "stdout",
     "output_type": "stream",
     "text": [
      "Epoch [435/600], Train Loss: 0.0631, Val Loss: 0.0674, MSE: 0.0674, SSIM: 0.5993\n"
     ]
    },
    {
     "name": "stderr",
     "output_type": "stream",
     "text": [
      "Training Epoch 436/600: 100%|██████████| 4/4 [00:02<00:00,  1.70it/s]\n",
      "Validating Epoch 436/600: 100%|██████████| 1/1 [00:00<00:00,  1.83it/s]\n"
     ]
    },
    {
     "name": "stdout",
     "output_type": "stream",
     "text": [
      "Epoch [436/600], Train Loss: 0.0675, Val Loss: 0.0520, MSE: 0.0520, SSIM: 0.7040\n"
     ]
    },
    {
     "name": "stderr",
     "output_type": "stream",
     "text": [
      "Training Epoch 437/600: 100%|██████████| 4/4 [00:02<00:00,  1.73it/s]\n",
      "Validating Epoch 437/600: 100%|██████████| 1/1 [00:00<00:00,  2.20it/s]\n"
     ]
    },
    {
     "name": "stdout",
     "output_type": "stream",
     "text": [
      "Epoch [437/600], Train Loss: 0.0672, Val Loss: 0.0533, MSE: 0.0533, SSIM: 0.6879\n"
     ]
    },
    {
     "name": "stderr",
     "output_type": "stream",
     "text": [
      "Training Epoch 438/600: 100%|██████████| 4/4 [00:02<00:00,  1.86it/s]\n",
      "Validating Epoch 438/600: 100%|██████████| 1/1 [00:00<00:00,  2.05it/s]\n"
     ]
    },
    {
     "name": "stdout",
     "output_type": "stream",
     "text": [
      "Epoch [438/600], Train Loss: 0.0647, Val Loss: 0.0612, MSE: 0.0612, SSIM: 0.6286\n"
     ]
    },
    {
     "name": "stderr",
     "output_type": "stream",
     "text": [
      "Training Epoch 439/600: 100%|██████████| 4/4 [00:02<00:00,  1.89it/s]\n",
      "Validating Epoch 439/600: 100%|██████████| 1/1 [00:00<00:00,  2.33it/s]\n"
     ]
    },
    {
     "name": "stdout",
     "output_type": "stream",
     "text": [
      "Epoch [439/600], Train Loss: 0.0695, Val Loss: 0.0617, MSE: 0.0617, SSIM: 0.6300\n"
     ]
    },
    {
     "name": "stderr",
     "output_type": "stream",
     "text": [
      "Training Epoch 440/600: 100%|██████████| 4/4 [00:02<00:00,  1.92it/s]\n",
      "Validating Epoch 440/600: 100%|██████████| 1/1 [00:00<00:00,  2.20it/s]\n"
     ]
    },
    {
     "name": "stdout",
     "output_type": "stream",
     "text": [
      "Epoch [440/600], Train Loss: 0.0654, Val Loss: 0.0612, MSE: 0.0612, SSIM: 0.6342\n"
     ]
    },
    {
     "name": "stderr",
     "output_type": "stream",
     "text": [
      "Training Epoch 441/600: 100%|██████████| 4/4 [00:03<00:00,  1.30it/s]\n",
      "Validating Epoch 441/600: 100%|██████████| 1/1 [00:00<00:00,  1.13it/s]\n"
     ]
    },
    {
     "name": "stdout",
     "output_type": "stream",
     "text": [
      "Epoch [441/600], Train Loss: 0.0668, Val Loss: 0.0556, MSE: 0.0556, SSIM: 0.6716\n"
     ]
    },
    {
     "name": "stderr",
     "output_type": "stream",
     "text": [
      "Training Epoch 442/600: 100%|██████████| 4/4 [00:03<00:00,  1.22it/s]\n",
      "Validating Epoch 442/600: 100%|██████████| 1/1 [00:00<00:00,  1.26it/s]\n"
     ]
    },
    {
     "name": "stdout",
     "output_type": "stream",
     "text": [
      "Epoch [442/600], Train Loss: 0.0692, Val Loss: 0.0714, MSE: 0.0714, SSIM: 0.5831\n"
     ]
    },
    {
     "name": "stderr",
     "output_type": "stream",
     "text": [
      "Training Epoch 443/600: 100%|██████████| 4/4 [00:03<00:00,  1.20it/s]\n",
      "Validating Epoch 443/600: 100%|██████████| 1/1 [00:00<00:00,  1.29it/s]\n"
     ]
    },
    {
     "name": "stdout",
     "output_type": "stream",
     "text": [
      "Epoch [443/600], Train Loss: 0.0701, Val Loss: 0.0664, MSE: 0.0664, SSIM: 0.5804\n"
     ]
    },
    {
     "name": "stderr",
     "output_type": "stream",
     "text": [
      "Training Epoch 444/600: 100%|██████████| 4/4 [00:03<00:00,  1.22it/s]\n",
      "Validating Epoch 444/600: 100%|██████████| 1/1 [00:00<00:00,  1.28it/s]\n"
     ]
    },
    {
     "name": "stdout",
     "output_type": "stream",
     "text": [
      "Epoch [444/600], Train Loss: 0.0678, Val Loss: 0.0606, MSE: 0.0606, SSIM: 0.6503\n"
     ]
    },
    {
     "name": "stderr",
     "output_type": "stream",
     "text": [
      "Training Epoch 445/600: 100%|██████████| 4/4 [00:03<00:00,  1.22it/s]\n",
      "Validating Epoch 445/600: 100%|██████████| 1/1 [00:00<00:00,  1.28it/s]\n"
     ]
    },
    {
     "name": "stdout",
     "output_type": "stream",
     "text": [
      "Epoch [445/600], Train Loss: 0.0648, Val Loss: 0.0642, MSE: 0.0642, SSIM: 0.6248\n"
     ]
    },
    {
     "name": "stderr",
     "output_type": "stream",
     "text": [
      "Training Epoch 446/600: 100%|██████████| 4/4 [00:03<00:00,  1.22it/s]\n",
      "Validating Epoch 446/600: 100%|██████████| 1/1 [00:00<00:00,  1.22it/s]\n"
     ]
    },
    {
     "name": "stdout",
     "output_type": "stream",
     "text": [
      "Epoch [446/600], Train Loss: 0.0695, Val Loss: 0.0682, MSE: 0.0682, SSIM: 0.6057\n"
     ]
    },
    {
     "name": "stderr",
     "output_type": "stream",
     "text": [
      "Training Epoch 447/600: 100%|██████████| 4/4 [00:03<00:00,  1.17it/s]\n",
      "Validating Epoch 447/600: 100%|██████████| 1/1 [00:00<00:00,  1.26it/s]\n"
     ]
    },
    {
     "name": "stdout",
     "output_type": "stream",
     "text": [
      "Epoch [447/600], Train Loss: 0.0639, Val Loss: 0.0580, MSE: 0.0580, SSIM: 0.6486\n"
     ]
    },
    {
     "name": "stderr",
     "output_type": "stream",
     "text": [
      "Training Epoch 448/600: 100%|██████████| 4/4 [00:03<00:00,  1.21it/s]\n",
      "Validating Epoch 448/600: 100%|██████████| 1/1 [00:00<00:00,  1.19it/s]\n"
     ]
    },
    {
     "name": "stdout",
     "output_type": "stream",
     "text": [
      "Epoch [448/600], Train Loss: 0.0685, Val Loss: 0.0652, MSE: 0.0652, SSIM: 0.6122\n"
     ]
    },
    {
     "name": "stderr",
     "output_type": "stream",
     "text": [
      "Training Epoch 449/600: 100%|██████████| 4/4 [00:03<00:00,  1.19it/s]\n",
      "Validating Epoch 449/600: 100%|██████████| 1/1 [00:00<00:00,  1.21it/s]\n"
     ]
    },
    {
     "name": "stdout",
     "output_type": "stream",
     "text": [
      "Epoch [449/600], Train Loss: 0.0704, Val Loss: 0.0606, MSE: 0.0606, SSIM: 0.6330\n"
     ]
    },
    {
     "name": "stderr",
     "output_type": "stream",
     "text": [
      "Training Epoch 450/600: 100%|██████████| 4/4 [00:03<00:00,  1.19it/s]\n",
      "Validating Epoch 450/600: 100%|██████████| 1/1 [00:00<00:00,  1.17it/s]\n"
     ]
    },
    {
     "name": "stdout",
     "output_type": "stream",
     "text": [
      "Epoch [450/600], Train Loss: 0.0638, Val Loss: 0.0647, MSE: 0.0647, SSIM: 0.6069\n"
     ]
    },
    {
     "name": "stderr",
     "output_type": "stream",
     "text": [
      "Training Epoch 451/600: 100%|██████████| 4/4 [00:03<00:00,  1.21it/s]\n",
      "Validating Epoch 451/600: 100%|██████████| 1/1 [00:00<00:00,  1.30it/s]\n"
     ]
    },
    {
     "name": "stdout",
     "output_type": "stream",
     "text": [
      "Epoch [451/600], Train Loss: 0.0641, Val Loss: 0.0714, MSE: 0.0714, SSIM: 0.5763\n"
     ]
    },
    {
     "name": "stderr",
     "output_type": "stream",
     "text": [
      "Training Epoch 452/600: 100%|██████████| 4/4 [00:03<00:00,  1.22it/s]\n",
      "Validating Epoch 452/600: 100%|██████████| 1/1 [00:00<00:00,  1.30it/s]\n"
     ]
    },
    {
     "name": "stdout",
     "output_type": "stream",
     "text": [
      "Epoch [452/600], Train Loss: 0.0641, Val Loss: 0.0589, MSE: 0.0589, SSIM: 0.6572\n"
     ]
    },
    {
     "name": "stderr",
     "output_type": "stream",
     "text": [
      "Training Epoch 453/600: 100%|██████████| 4/4 [00:03<00:00,  1.18it/s]\n",
      "Validating Epoch 453/600: 100%|██████████| 1/1 [00:00<00:00,  1.29it/s]\n"
     ]
    },
    {
     "name": "stdout",
     "output_type": "stream",
     "text": [
      "Epoch [453/600], Train Loss: 0.0642, Val Loss: 0.0615, MSE: 0.0615, SSIM: 0.6386\n"
     ]
    },
    {
     "name": "stderr",
     "output_type": "stream",
     "text": [
      "Training Epoch 454/600: 100%|██████████| 4/4 [00:03<00:00,  1.15it/s]\n",
      "Validating Epoch 454/600: 100%|██████████| 1/1 [00:00<00:00,  1.22it/s]\n"
     ]
    },
    {
     "name": "stdout",
     "output_type": "stream",
     "text": [
      "Epoch [454/600], Train Loss: 0.0660, Val Loss: 0.0696, MSE: 0.0696, SSIM: 0.5856\n"
     ]
    },
    {
     "name": "stderr",
     "output_type": "stream",
     "text": [
      "Training Epoch 455/600: 100%|██████████| 4/4 [00:03<00:00,  1.20it/s]\n",
      "Validating Epoch 455/600: 100%|██████████| 1/1 [00:00<00:00,  1.27it/s]\n"
     ]
    },
    {
     "name": "stdout",
     "output_type": "stream",
     "text": [
      "Epoch [455/600], Train Loss: 0.0614, Val Loss: 0.0650, MSE: 0.0650, SSIM: 0.6411\n"
     ]
    },
    {
     "name": "stderr",
     "output_type": "stream",
     "text": [
      "Training Epoch 456/600: 100%|██████████| 4/4 [00:03<00:00,  1.14it/s]\n",
      "Validating Epoch 456/600: 100%|██████████| 1/1 [00:00<00:00,  1.26it/s]\n"
     ]
    },
    {
     "name": "stdout",
     "output_type": "stream",
     "text": [
      "Epoch [456/600], Train Loss: 0.0695, Val Loss: 0.0558, MSE: 0.0558, SSIM: 0.6670\n"
     ]
    },
    {
     "name": "stderr",
     "output_type": "stream",
     "text": [
      "Training Epoch 457/600: 100%|██████████| 4/4 [00:03<00:00,  1.21it/s]\n",
      "Validating Epoch 457/600: 100%|██████████| 1/1 [00:00<00:00,  1.30it/s]\n"
     ]
    },
    {
     "name": "stdout",
     "output_type": "stream",
     "text": [
      "Epoch [457/600], Train Loss: 0.0685, Val Loss: 0.0646, MSE: 0.0646, SSIM: 0.6080\n"
     ]
    },
    {
     "name": "stderr",
     "output_type": "stream",
     "text": [
      "Training Epoch 458/600: 100%|██████████| 4/4 [00:03<00:00,  1.17it/s]\n",
      "Validating Epoch 458/600: 100%|██████████| 1/1 [00:00<00:00,  1.16it/s]\n"
     ]
    },
    {
     "name": "stdout",
     "output_type": "stream",
     "text": [
      "Epoch [458/600], Train Loss: 0.0669, Val Loss: 0.0703, MSE: 0.0703, SSIM: 0.5834\n"
     ]
    },
    {
     "name": "stderr",
     "output_type": "stream",
     "text": [
      "Training Epoch 459/600: 100%|██████████| 4/4 [00:03<00:00,  1.18it/s]\n",
      "Validating Epoch 459/600: 100%|██████████| 1/1 [00:00<00:00,  1.48it/s]\n"
     ]
    },
    {
     "name": "stdout",
     "output_type": "stream",
     "text": [
      "Epoch [459/600], Train Loss: 0.0678, Val Loss: 0.0600, MSE: 0.0600, SSIM: 0.6311\n"
     ]
    },
    {
     "name": "stderr",
     "output_type": "stream",
     "text": [
      "Training Epoch 460/600: 100%|██████████| 4/4 [00:02<00:00,  1.64it/s]\n",
      "Validating Epoch 460/600: 100%|██████████| 1/1 [00:00<00:00,  2.15it/s]\n"
     ]
    },
    {
     "name": "stdout",
     "output_type": "stream",
     "text": [
      "Epoch [460/600], Train Loss: 0.0664, Val Loss: 0.0563, MSE: 0.0563, SSIM: 0.6543\n"
     ]
    },
    {
     "name": "stderr",
     "output_type": "stream",
     "text": [
      "Training Epoch 461/600: 100%|██████████| 4/4 [00:02<00:00,  1.76it/s]\n",
      "Validating Epoch 461/600: 100%|██████████| 1/1 [00:00<00:00,  2.13it/s]\n"
     ]
    },
    {
     "name": "stdout",
     "output_type": "stream",
     "text": [
      "Epoch [461/600], Train Loss: 0.0641, Val Loss: 0.0611, MSE: 0.0611, SSIM: 0.6498\n"
     ]
    },
    {
     "name": "stderr",
     "output_type": "stream",
     "text": [
      "Training Epoch 462/600: 100%|██████████| 4/4 [00:02<00:00,  1.89it/s]\n",
      "Validating Epoch 462/600: 100%|██████████| 1/1 [00:00<00:00,  2.24it/s]\n"
     ]
    },
    {
     "name": "stdout",
     "output_type": "stream",
     "text": [
      "Epoch [462/600], Train Loss: 0.0663, Val Loss: 0.0667, MSE: 0.0667, SSIM: 0.6117\n"
     ]
    },
    {
     "name": "stderr",
     "output_type": "stream",
     "text": [
      "Training Epoch 463/600: 100%|██████████| 4/4 [00:02<00:00,  1.97it/s]\n",
      "Validating Epoch 463/600: 100%|██████████| 1/1 [00:00<00:00,  2.25it/s]\n"
     ]
    },
    {
     "name": "stdout",
     "output_type": "stream",
     "text": [
      "Epoch [463/600], Train Loss: 0.0677, Val Loss: 0.0597, MSE: 0.0597, SSIM: 0.6507\n"
     ]
    },
    {
     "name": "stderr",
     "output_type": "stream",
     "text": [
      "Training Epoch 464/600: 100%|██████████| 4/4 [00:02<00:00,  1.80it/s]\n",
      "Validating Epoch 464/600: 100%|██████████| 1/1 [00:00<00:00,  2.43it/s]\n"
     ]
    },
    {
     "name": "stdout",
     "output_type": "stream",
     "text": [
      "Epoch [464/600], Train Loss: 0.0653, Val Loss: 0.0593, MSE: 0.0593, SSIM: 0.6650\n"
     ]
    },
    {
     "name": "stderr",
     "output_type": "stream",
     "text": [
      "Training Epoch 465/600: 100%|██████████| 4/4 [00:02<00:00,  1.99it/s]\n",
      "Validating Epoch 465/600: 100%|██████████| 1/1 [00:00<00:00,  2.33it/s]\n"
     ]
    },
    {
     "name": "stdout",
     "output_type": "stream",
     "text": [
      "Epoch [465/600], Train Loss: 0.0649, Val Loss: 0.0615, MSE: 0.0615, SSIM: 0.6494\n"
     ]
    },
    {
     "name": "stderr",
     "output_type": "stream",
     "text": [
      "Training Epoch 466/600: 100%|██████████| 4/4 [00:02<00:00,  1.97it/s]\n",
      "Validating Epoch 466/600: 100%|██████████| 1/1 [00:00<00:00,  2.44it/s]\n"
     ]
    },
    {
     "name": "stdout",
     "output_type": "stream",
     "text": [
      "Epoch [466/600], Train Loss: 0.0657, Val Loss: 0.0647, MSE: 0.0647, SSIM: 0.6197\n"
     ]
    },
    {
     "name": "stderr",
     "output_type": "stream",
     "text": [
      "Training Epoch 467/600: 100%|██████████| 4/4 [00:02<00:00,  1.96it/s]\n",
      "Validating Epoch 467/600: 100%|██████████| 1/1 [00:00<00:00,  2.57it/s]\n"
     ]
    },
    {
     "name": "stdout",
     "output_type": "stream",
     "text": [
      "Epoch [467/600], Train Loss: 0.0653, Val Loss: 0.0603, MSE: 0.0603, SSIM: 0.6420\n"
     ]
    },
    {
     "name": "stderr",
     "output_type": "stream",
     "text": [
      "Training Epoch 468/600: 100%|██████████| 4/4 [00:02<00:00,  1.86it/s]\n",
      "Validating Epoch 468/600: 100%|██████████| 1/1 [00:00<00:00,  2.21it/s]\n"
     ]
    },
    {
     "name": "stdout",
     "output_type": "stream",
     "text": [
      "Epoch [468/600], Train Loss: 0.0657, Val Loss: 0.0628, MSE: 0.0628, SSIM: 0.6370\n"
     ]
    },
    {
     "name": "stderr",
     "output_type": "stream",
     "text": [
      "Training Epoch 469/600: 100%|██████████| 4/4 [00:02<00:00,  1.81it/s]\n",
      "Validating Epoch 469/600: 100%|██████████| 1/1 [00:00<00:00,  2.26it/s]\n"
     ]
    },
    {
     "name": "stdout",
     "output_type": "stream",
     "text": [
      "Epoch [469/600], Train Loss: 0.0619, Val Loss: 0.0464, MSE: 0.0464, SSIM: 0.7225\n"
     ]
    },
    {
     "name": "stderr",
     "output_type": "stream",
     "text": [
      "Training Epoch 470/600: 100%|██████████| 4/4 [00:02<00:00,  1.87it/s]\n",
      "Validating Epoch 470/600: 100%|██████████| 1/1 [00:00<00:00,  1.95it/s]\n"
     ]
    },
    {
     "name": "stdout",
     "output_type": "stream",
     "text": [
      "Epoch [470/600], Train Loss: 0.0676, Val Loss: 0.0627, MSE: 0.0627, SSIM: 0.6524\n"
     ]
    },
    {
     "name": "stderr",
     "output_type": "stream",
     "text": [
      "Training Epoch 471/600: 100%|██████████| 4/4 [00:02<00:00,  1.87it/s]\n",
      "Validating Epoch 471/600: 100%|██████████| 1/1 [00:00<00:00,  2.48it/s]\n"
     ]
    },
    {
     "name": "stdout",
     "output_type": "stream",
     "text": [
      "Epoch [471/600], Train Loss: 0.0690, Val Loss: 0.0548, MSE: 0.0548, SSIM: 0.6802\n"
     ]
    },
    {
     "name": "stderr",
     "output_type": "stream",
     "text": [
      "Training Epoch 472/600: 100%|██████████| 4/4 [00:02<00:00,  1.82it/s]\n",
      "Validating Epoch 472/600: 100%|██████████| 1/1 [00:00<00:00,  2.12it/s]\n"
     ]
    },
    {
     "name": "stdout",
     "output_type": "stream",
     "text": [
      "Epoch [472/600], Train Loss: 0.0670, Val Loss: 0.0581, MSE: 0.0581, SSIM: 0.6518\n"
     ]
    },
    {
     "name": "stderr",
     "output_type": "stream",
     "text": [
      "Training Epoch 473/600: 100%|██████████| 4/4 [00:02<00:00,  1.93it/s]\n",
      "Validating Epoch 473/600: 100%|██████████| 1/1 [00:00<00:00,  2.40it/s]\n"
     ]
    },
    {
     "name": "stdout",
     "output_type": "stream",
     "text": [
      "Epoch [473/600], Train Loss: 0.0654, Val Loss: 0.0628, MSE: 0.0628, SSIM: 0.6366\n"
     ]
    },
    {
     "name": "stderr",
     "output_type": "stream",
     "text": [
      "Training Epoch 474/600: 100%|██████████| 4/4 [00:02<00:00,  1.92it/s]\n",
      "Validating Epoch 474/600: 100%|██████████| 1/1 [00:00<00:00,  2.24it/s]\n"
     ]
    },
    {
     "name": "stdout",
     "output_type": "stream",
     "text": [
      "Epoch [474/600], Train Loss: 0.0659, Val Loss: 0.0662, MSE: 0.0662, SSIM: 0.6006\n"
     ]
    },
    {
     "name": "stderr",
     "output_type": "stream",
     "text": [
      "Training Epoch 475/600: 100%|██████████| 4/4 [00:02<00:00,  1.87it/s]\n",
      "Validating Epoch 475/600: 100%|██████████| 1/1 [00:00<00:00,  2.12it/s]\n"
     ]
    },
    {
     "name": "stdout",
     "output_type": "stream",
     "text": [
      "Epoch [475/600], Train Loss: 0.0651, Val Loss: 0.0667, MSE: 0.0667, SSIM: 0.6080\n"
     ]
    },
    {
     "name": "stderr",
     "output_type": "stream",
     "text": [
      "Training Epoch 476/600: 100%|██████████| 4/4 [00:02<00:00,  1.85it/s]\n",
      "Validating Epoch 476/600: 100%|██████████| 1/1 [00:00<00:00,  2.07it/s]\n"
     ]
    },
    {
     "name": "stdout",
     "output_type": "stream",
     "text": [
      "Epoch [476/600], Train Loss: 0.0655, Val Loss: 0.0489, MSE: 0.0489, SSIM: 0.7086\n"
     ]
    },
    {
     "name": "stderr",
     "output_type": "stream",
     "text": [
      "Training Epoch 477/600: 100%|██████████| 4/4 [00:02<00:00,  1.86it/s]\n",
      "Validating Epoch 477/600: 100%|██████████| 1/1 [00:00<00:00,  2.24it/s]\n"
     ]
    },
    {
     "name": "stdout",
     "output_type": "stream",
     "text": [
      "Epoch [477/600], Train Loss: 0.0643, Val Loss: 0.0654, MSE: 0.0654, SSIM: 0.6205\n"
     ]
    },
    {
     "name": "stderr",
     "output_type": "stream",
     "text": [
      "Training Epoch 478/600: 100%|██████████| 4/4 [00:02<00:00,  1.94it/s]\n",
      "Validating Epoch 478/600: 100%|██████████| 1/1 [00:00<00:00,  2.25it/s]\n"
     ]
    },
    {
     "name": "stdout",
     "output_type": "stream",
     "text": [
      "Epoch [478/600], Train Loss: 0.0687, Val Loss: 0.0643, MSE: 0.0643, SSIM: 0.6196\n"
     ]
    },
    {
     "name": "stderr",
     "output_type": "stream",
     "text": [
      "Training Epoch 479/600: 100%|██████████| 4/4 [00:02<00:00,  2.00it/s]\n",
      "Validating Epoch 479/600: 100%|██████████| 1/1 [00:00<00:00,  2.44it/s]\n"
     ]
    },
    {
     "name": "stdout",
     "output_type": "stream",
     "text": [
      "Epoch [479/600], Train Loss: 0.0653, Val Loss: 0.0641, MSE: 0.0641, SSIM: 0.6367\n"
     ]
    },
    {
     "name": "stderr",
     "output_type": "stream",
     "text": [
      "Training Epoch 480/600: 100%|██████████| 4/4 [00:02<00:00,  1.97it/s]\n",
      "Validating Epoch 480/600: 100%|██████████| 1/1 [00:00<00:00,  2.43it/s]\n"
     ]
    },
    {
     "name": "stdout",
     "output_type": "stream",
     "text": [
      "Epoch [480/600], Train Loss: 0.0677, Val Loss: 0.0552, MSE: 0.0552, SSIM: 0.6708\n"
     ]
    },
    {
     "name": "stderr",
     "output_type": "stream",
     "text": [
      "Training Epoch 481/600: 100%|██████████| 4/4 [00:02<00:00,  1.94it/s]\n",
      "Validating Epoch 481/600: 100%|██████████| 1/1 [00:00<00:00,  2.52it/s]\n"
     ]
    },
    {
     "name": "stdout",
     "output_type": "stream",
     "text": [
      "Epoch [481/600], Train Loss: 0.0687, Val Loss: 0.0587, MSE: 0.0587, SSIM: 0.6661\n"
     ]
    },
    {
     "name": "stderr",
     "output_type": "stream",
     "text": [
      "Training Epoch 482/600: 100%|██████████| 4/4 [00:02<00:00,  1.89it/s]\n",
      "Validating Epoch 482/600: 100%|██████████| 1/1 [00:00<00:00,  2.47it/s]\n"
     ]
    },
    {
     "name": "stdout",
     "output_type": "stream",
     "text": [
      "Epoch [482/600], Train Loss: 0.0656, Val Loss: 0.0670, MSE: 0.0670, SSIM: 0.6062\n"
     ]
    },
    {
     "name": "stderr",
     "output_type": "stream",
     "text": [
      "Training Epoch 483/600: 100%|██████████| 4/4 [00:02<00:00,  1.96it/s]\n",
      "Validating Epoch 483/600: 100%|██████████| 1/1 [00:00<00:00,  2.55it/s]\n"
     ]
    },
    {
     "name": "stdout",
     "output_type": "stream",
     "text": [
      "Epoch [483/600], Train Loss: 0.0687, Val Loss: 0.0678, MSE: 0.0678, SSIM: 0.6035\n"
     ]
    },
    {
     "name": "stderr",
     "output_type": "stream",
     "text": [
      "Training Epoch 484/600: 100%|██████████| 4/4 [00:02<00:00,  1.92it/s]\n",
      "Validating Epoch 484/600: 100%|██████████| 1/1 [00:00<00:00,  2.44it/s]\n"
     ]
    },
    {
     "name": "stdout",
     "output_type": "stream",
     "text": [
      "Epoch [484/600], Train Loss: 0.0675, Val Loss: 0.0722, MSE: 0.0722, SSIM: 0.5787\n"
     ]
    },
    {
     "name": "stderr",
     "output_type": "stream",
     "text": [
      "Training Epoch 485/600: 100%|██████████| 4/4 [00:02<00:00,  1.95it/s]\n",
      "Validating Epoch 485/600: 100%|██████████| 1/1 [00:00<00:00,  2.29it/s]\n"
     ]
    },
    {
     "name": "stdout",
     "output_type": "stream",
     "text": [
      "Epoch [485/600], Train Loss: 0.0662, Val Loss: 0.0581, MSE: 0.0581, SSIM: 0.6649\n"
     ]
    },
    {
     "name": "stderr",
     "output_type": "stream",
     "text": [
      "Training Epoch 486/600: 100%|██████████| 4/4 [00:02<00:00,  1.95it/s]\n",
      "Validating Epoch 486/600: 100%|██████████| 1/1 [00:00<00:00,  2.44it/s]\n"
     ]
    },
    {
     "name": "stdout",
     "output_type": "stream",
     "text": [
      "Epoch [486/600], Train Loss: 0.0678, Val Loss: 0.0722, MSE: 0.0722, SSIM: 0.5820\n"
     ]
    },
    {
     "name": "stderr",
     "output_type": "stream",
     "text": [
      "Training Epoch 487/600: 100%|██████████| 4/4 [00:02<00:00,  1.95it/s]\n",
      "Validating Epoch 487/600: 100%|██████████| 1/1 [00:00<00:00,  2.32it/s]\n"
     ]
    },
    {
     "name": "stdout",
     "output_type": "stream",
     "text": [
      "Epoch [487/600], Train Loss: 0.0639, Val Loss: 0.0499, MSE: 0.0499, SSIM: 0.6986\n"
     ]
    },
    {
     "name": "stderr",
     "output_type": "stream",
     "text": [
      "Training Epoch 488/600: 100%|██████████| 4/4 [00:02<00:00,  1.87it/s]\n",
      "Validating Epoch 488/600: 100%|██████████| 1/1 [00:00<00:00,  2.24it/s]\n"
     ]
    },
    {
     "name": "stdout",
     "output_type": "stream",
     "text": [
      "Epoch [488/600], Train Loss: 0.0671, Val Loss: 0.0637, MSE: 0.0637, SSIM: 0.6252\n"
     ]
    },
    {
     "name": "stderr",
     "output_type": "stream",
     "text": [
      "Training Epoch 489/600: 100%|██████████| 4/4 [00:01<00:00,  2.02it/s]\n",
      "Validating Epoch 489/600: 100%|██████████| 1/1 [00:00<00:00,  2.53it/s]\n"
     ]
    },
    {
     "name": "stdout",
     "output_type": "stream",
     "text": [
      "Epoch [489/600], Train Loss: 0.0637, Val Loss: 0.0679, MSE: 0.0679, SSIM: 0.6063\n"
     ]
    },
    {
     "name": "stderr",
     "output_type": "stream",
     "text": [
      "Training Epoch 490/600: 100%|██████████| 4/4 [00:01<00:00,  2.01it/s]\n",
      "Validating Epoch 490/600: 100%|██████████| 1/1 [00:00<00:00,  2.04it/s]\n"
     ]
    },
    {
     "name": "stdout",
     "output_type": "stream",
     "text": [
      "Epoch [490/600], Train Loss: 0.0664, Val Loss: 0.0584, MSE: 0.0584, SSIM: 0.6560\n"
     ]
    },
    {
     "name": "stderr",
     "output_type": "stream",
     "text": [
      "Training Epoch 491/600: 100%|██████████| 4/4 [00:02<00:00,  1.95it/s]\n",
      "Validating Epoch 491/600: 100%|██████████| 1/1 [00:00<00:00,  2.27it/s]\n"
     ]
    },
    {
     "name": "stdout",
     "output_type": "stream",
     "text": [
      "Epoch [491/600], Train Loss: 0.0664, Val Loss: 0.0592, MSE: 0.0592, SSIM: 0.6409\n"
     ]
    },
    {
     "name": "stderr",
     "output_type": "stream",
     "text": [
      "Training Epoch 492/600: 100%|██████████| 4/4 [00:02<00:00,  1.86it/s]\n",
      "Validating Epoch 492/600: 100%|██████████| 1/1 [00:00<00:00,  2.44it/s]\n"
     ]
    },
    {
     "name": "stdout",
     "output_type": "stream",
     "text": [
      "Epoch [492/600], Train Loss: 0.0648, Val Loss: 0.0588, MSE: 0.0588, SSIM: 0.6509\n"
     ]
    },
    {
     "name": "stderr",
     "output_type": "stream",
     "text": [
      "Training Epoch 493/600: 100%|██████████| 4/4 [00:02<00:00,  1.82it/s]\n",
      "Validating Epoch 493/600: 100%|██████████| 1/1 [00:00<00:00,  2.57it/s]\n"
     ]
    },
    {
     "name": "stdout",
     "output_type": "stream",
     "text": [
      "Epoch [493/600], Train Loss: 0.0635, Val Loss: 0.0617, MSE: 0.0617, SSIM: 0.6411\n"
     ]
    },
    {
     "name": "stderr",
     "output_type": "stream",
     "text": [
      "Training Epoch 494/600: 100%|██████████| 4/4 [00:02<00:00,  1.87it/s]\n",
      "Validating Epoch 494/600: 100%|██████████| 1/1 [00:00<00:00,  2.48it/s]\n"
     ]
    },
    {
     "name": "stdout",
     "output_type": "stream",
     "text": [
      "Epoch [494/600], Train Loss: 0.0627, Val Loss: 0.0613, MSE: 0.0613, SSIM: 0.6414\n"
     ]
    },
    {
     "name": "stderr",
     "output_type": "stream",
     "text": [
      "Training Epoch 495/600: 100%|██████████| 4/4 [00:02<00:00,  1.87it/s]\n",
      "Validating Epoch 495/600: 100%|██████████| 1/1 [00:00<00:00,  2.12it/s]\n"
     ]
    },
    {
     "name": "stdout",
     "output_type": "stream",
     "text": [
      "Epoch [495/600], Train Loss: 0.0606, Val Loss: 0.0521, MSE: 0.0521, SSIM: 0.7045\n"
     ]
    },
    {
     "name": "stderr",
     "output_type": "stream",
     "text": [
      "Training Epoch 496/600: 100%|██████████| 4/4 [00:02<00:00,  1.90it/s]\n",
      "Validating Epoch 496/600: 100%|██████████| 1/1 [00:00<00:00,  2.31it/s]\n"
     ]
    },
    {
     "name": "stdout",
     "output_type": "stream",
     "text": [
      "Epoch [496/600], Train Loss: 0.0654, Val Loss: 0.0540, MSE: 0.0540, SSIM: 0.6957\n"
     ]
    },
    {
     "name": "stderr",
     "output_type": "stream",
     "text": [
      "Training Epoch 497/600: 100%|██████████| 4/4 [00:02<00:00,  1.94it/s]\n",
      "Validating Epoch 497/600: 100%|██████████| 1/1 [00:00<00:00,  2.32it/s]\n"
     ]
    },
    {
     "name": "stdout",
     "output_type": "stream",
     "text": [
      "Epoch [497/600], Train Loss: 0.0639, Val Loss: 0.0772, MSE: 0.0772, SSIM: 0.5548\n"
     ]
    },
    {
     "name": "stderr",
     "output_type": "stream",
     "text": [
      "Training Epoch 498/600: 100%|██████████| 4/4 [00:02<00:00,  1.92it/s]\n",
      "Validating Epoch 498/600: 100%|██████████| 1/1 [00:00<00:00,  2.53it/s]\n"
     ]
    },
    {
     "name": "stdout",
     "output_type": "stream",
     "text": [
      "Epoch [498/600], Train Loss: 0.0631, Val Loss: 0.0622, MSE: 0.0622, SSIM: 0.6391\n"
     ]
    },
    {
     "name": "stderr",
     "output_type": "stream",
     "text": [
      "Training Epoch 499/600: 100%|██████████| 4/4 [00:02<00:00,  1.91it/s]\n",
      "Validating Epoch 499/600: 100%|██████████| 1/1 [00:00<00:00,  2.06it/s]\n"
     ]
    },
    {
     "name": "stdout",
     "output_type": "stream",
     "text": [
      "Epoch [499/600], Train Loss: 0.0653, Val Loss: 0.0582, MSE: 0.0582, SSIM: 0.6633\n"
     ]
    },
    {
     "name": "stderr",
     "output_type": "stream",
     "text": [
      "Training Epoch 500/600: 100%|██████████| 4/4 [00:02<00:00,  1.88it/s]\n",
      "Validating Epoch 500/600: 100%|██████████| 1/1 [00:00<00:00,  2.45it/s]\n"
     ]
    },
    {
     "name": "stdout",
     "output_type": "stream",
     "text": [
      "Epoch [500/600], Train Loss: 0.0627, Val Loss: 0.0651, MSE: 0.0651, SSIM: 0.6341\n"
     ]
    },
    {
     "name": "stderr",
     "output_type": "stream",
     "text": [
      "Training Epoch 501/600: 100%|██████████| 4/4 [00:02<00:00,  1.83it/s]\n",
      "Validating Epoch 501/600: 100%|██████████| 1/1 [00:00<00:00,  2.06it/s]\n"
     ]
    },
    {
     "name": "stdout",
     "output_type": "stream",
     "text": [
      "Epoch [501/600], Train Loss: 0.0653, Val Loss: 0.0725, MSE: 0.0725, SSIM: 0.5996\n"
     ]
    },
    {
     "name": "stderr",
     "output_type": "stream",
     "text": [
      "Training Epoch 502/600: 100%|██████████| 4/4 [00:02<00:00,  1.94it/s]\n",
      "Validating Epoch 502/600: 100%|██████████| 1/1 [00:00<00:00,  2.25it/s]\n"
     ]
    },
    {
     "name": "stdout",
     "output_type": "stream",
     "text": [
      "Epoch [502/600], Train Loss: 0.0621, Val Loss: 0.0622, MSE: 0.0622, SSIM: 0.6452\n"
     ]
    },
    {
     "name": "stderr",
     "output_type": "stream",
     "text": [
      "Training Epoch 503/600: 100%|██████████| 4/4 [00:02<00:00,  1.84it/s]\n",
      "Validating Epoch 503/600: 100%|██████████| 1/1 [00:00<00:00,  2.22it/s]\n"
     ]
    },
    {
     "name": "stdout",
     "output_type": "stream",
     "text": [
      "Epoch [503/600], Train Loss: 0.0682, Val Loss: 0.0631, MSE: 0.0631, SSIM: 0.6346\n"
     ]
    },
    {
     "name": "stderr",
     "output_type": "stream",
     "text": [
      "Training Epoch 504/600: 100%|██████████| 4/4 [00:02<00:00,  1.92it/s]\n",
      "Validating Epoch 504/600: 100%|██████████| 1/1 [00:00<00:00,  2.31it/s]\n"
     ]
    },
    {
     "name": "stdout",
     "output_type": "stream",
     "text": [
      "Epoch [504/600], Train Loss: 0.0704, Val Loss: 0.0597, MSE: 0.0597, SSIM: 0.6404\n"
     ]
    },
    {
     "name": "stderr",
     "output_type": "stream",
     "text": [
      "Training Epoch 505/600: 100%|██████████| 4/4 [00:02<00:00,  1.94it/s]\n",
      "Validating Epoch 505/600: 100%|██████████| 1/1 [00:00<00:00,  2.55it/s]\n"
     ]
    },
    {
     "name": "stdout",
     "output_type": "stream",
     "text": [
      "Epoch [505/600], Train Loss: 0.0692, Val Loss: 0.0641, MSE: 0.0641, SSIM: 0.6060\n"
     ]
    },
    {
     "name": "stderr",
     "output_type": "stream",
     "text": [
      "Training Epoch 506/600: 100%|██████████| 4/4 [00:02<00:00,  1.84it/s]\n",
      "Validating Epoch 506/600: 100%|██████████| 1/1 [00:00<00:00,  2.37it/s]\n"
     ]
    },
    {
     "name": "stdout",
     "output_type": "stream",
     "text": [
      "Epoch [506/600], Train Loss: 0.0662, Val Loss: 0.0591, MSE: 0.0591, SSIM: 0.6414\n"
     ]
    },
    {
     "name": "stderr",
     "output_type": "stream",
     "text": [
      "Training Epoch 507/600: 100%|██████████| 4/4 [00:02<00:00,  1.76it/s]\n",
      "Validating Epoch 507/600: 100%|██████████| 1/1 [00:00<00:00,  2.17it/s]\n"
     ]
    },
    {
     "name": "stdout",
     "output_type": "stream",
     "text": [
      "Epoch [507/600], Train Loss: 0.0637, Val Loss: 0.0620, MSE: 0.0620, SSIM: 0.6349\n"
     ]
    },
    {
     "name": "stderr",
     "output_type": "stream",
     "text": [
      "Training Epoch 508/600: 100%|██████████| 4/4 [00:02<00:00,  1.88it/s]\n",
      "Validating Epoch 508/600: 100%|██████████| 1/1 [00:00<00:00,  2.49it/s]\n"
     ]
    },
    {
     "name": "stdout",
     "output_type": "stream",
     "text": [
      "Epoch [508/600], Train Loss: 0.0690, Val Loss: 0.0524, MSE: 0.0524, SSIM: 0.6907\n"
     ]
    },
    {
     "name": "stderr",
     "output_type": "stream",
     "text": [
      "Training Epoch 509/600: 100%|██████████| 4/4 [00:02<00:00,  1.81it/s]\n",
      "Validating Epoch 509/600: 100%|██████████| 1/1 [00:00<00:00,  2.41it/s]\n"
     ]
    },
    {
     "name": "stdout",
     "output_type": "stream",
     "text": [
      "Epoch [509/600], Train Loss: 0.0631, Val Loss: 0.0703, MSE: 0.0703, SSIM: 0.5839\n"
     ]
    },
    {
     "name": "stderr",
     "output_type": "stream",
     "text": [
      "Training Epoch 510/600: 100%|██████████| 4/4 [00:02<00:00,  1.86it/s]\n",
      "Validating Epoch 510/600: 100%|██████████| 1/1 [00:00<00:00,  2.52it/s]\n"
     ]
    },
    {
     "name": "stdout",
     "output_type": "stream",
     "text": [
      "Epoch [510/600], Train Loss: 0.0647, Val Loss: 0.0617, MSE: 0.0617, SSIM: 0.6379\n"
     ]
    },
    {
     "name": "stderr",
     "output_type": "stream",
     "text": [
      "Training Epoch 511/600: 100%|██████████| 4/4 [00:02<00:00,  1.84it/s]\n",
      "Validating Epoch 511/600: 100%|██████████| 1/1 [00:00<00:00,  2.22it/s]\n"
     ]
    },
    {
     "name": "stdout",
     "output_type": "stream",
     "text": [
      "Epoch [511/600], Train Loss: 0.0651, Val Loss: 0.0637, MSE: 0.0637, SSIM: 0.6282\n"
     ]
    },
    {
     "name": "stderr",
     "output_type": "stream",
     "text": [
      "Training Epoch 512/600: 100%|██████████| 4/4 [00:02<00:00,  1.99it/s]\n",
      "Validating Epoch 512/600: 100%|██████████| 1/1 [00:00<00:00,  2.46it/s]\n"
     ]
    },
    {
     "name": "stdout",
     "output_type": "stream",
     "text": [
      "Epoch [512/600], Train Loss: 0.0646, Val Loss: 0.0556, MSE: 0.0556, SSIM: 0.6670\n"
     ]
    },
    {
     "name": "stderr",
     "output_type": "stream",
     "text": [
      "Training Epoch 513/600: 100%|██████████| 4/4 [00:02<00:00,  1.96it/s]\n",
      "Validating Epoch 513/600: 100%|██████████| 1/1 [00:00<00:00,  2.17it/s]\n"
     ]
    },
    {
     "name": "stdout",
     "output_type": "stream",
     "text": [
      "Epoch [513/600], Train Loss: 0.0652, Val Loss: 0.0559, MSE: 0.0559, SSIM: 0.6829\n"
     ]
    },
    {
     "name": "stderr",
     "output_type": "stream",
     "text": [
      "Training Epoch 514/600: 100%|██████████| 4/4 [00:02<00:00,  1.97it/s]\n",
      "Validating Epoch 514/600: 100%|██████████| 1/1 [00:00<00:00,  2.31it/s]\n"
     ]
    },
    {
     "name": "stdout",
     "output_type": "stream",
     "text": [
      "Epoch [514/600], Train Loss: 0.0670, Val Loss: 0.0645, MSE: 0.0645, SSIM: 0.6151\n"
     ]
    },
    {
     "name": "stderr",
     "output_type": "stream",
     "text": [
      "Training Epoch 515/600: 100%|██████████| 4/4 [00:02<00:00,  1.96it/s]\n",
      "Validating Epoch 515/600: 100%|██████████| 1/1 [00:00<00:00,  2.14it/s]\n"
     ]
    },
    {
     "name": "stdout",
     "output_type": "stream",
     "text": [
      "Epoch [515/600], Train Loss: 0.0647, Val Loss: 0.0655, MSE: 0.0655, SSIM: 0.6077\n"
     ]
    },
    {
     "name": "stderr",
     "output_type": "stream",
     "text": [
      "Training Epoch 516/600: 100%|██████████| 4/4 [00:02<00:00,  1.90it/s]\n",
      "Validating Epoch 516/600: 100%|██████████| 1/1 [00:00<00:00,  2.47it/s]\n"
     ]
    },
    {
     "name": "stdout",
     "output_type": "stream",
     "text": [
      "Epoch [516/600], Train Loss: 0.0629, Val Loss: 0.0599, MSE: 0.0599, SSIM: 0.6654\n"
     ]
    },
    {
     "name": "stderr",
     "output_type": "stream",
     "text": [
      "Training Epoch 517/600: 100%|██████████| 4/4 [00:02<00:00,  1.83it/s]\n",
      "Validating Epoch 517/600: 100%|██████████| 1/1 [00:00<00:00,  1.99it/s]\n"
     ]
    },
    {
     "name": "stdout",
     "output_type": "stream",
     "text": [
      "Epoch [517/600], Train Loss: 0.0694, Val Loss: 0.0677, MSE: 0.0677, SSIM: 0.6059\n"
     ]
    },
    {
     "name": "stderr",
     "output_type": "stream",
     "text": [
      "Training Epoch 518/600: 100%|██████████| 4/4 [00:02<00:00,  1.83it/s]\n",
      "Validating Epoch 518/600: 100%|██████████| 1/1 [00:00<00:00,  2.10it/s]\n"
     ]
    },
    {
     "name": "stdout",
     "output_type": "stream",
     "text": [
      "Epoch [518/600], Train Loss: 0.0649, Val Loss: 0.0703, MSE: 0.0703, SSIM: 0.5823\n"
     ]
    },
    {
     "name": "stderr",
     "output_type": "stream",
     "text": [
      "Training Epoch 519/600: 100%|██████████| 4/4 [00:02<00:00,  1.86it/s]\n",
      "Validating Epoch 519/600: 100%|██████████| 1/1 [00:00<00:00,  2.04it/s]\n"
     ]
    },
    {
     "name": "stdout",
     "output_type": "stream",
     "text": [
      "Epoch [519/600], Train Loss: 0.0679, Val Loss: 0.0706, MSE: 0.0706, SSIM: 0.5867\n"
     ]
    },
    {
     "name": "stderr",
     "output_type": "stream",
     "text": [
      "Training Epoch 520/600: 100%|██████████| 4/4 [00:02<00:00,  1.72it/s]\n",
      "Validating Epoch 520/600: 100%|██████████| 1/1 [00:00<00:00,  2.31it/s]\n"
     ]
    },
    {
     "name": "stdout",
     "output_type": "stream",
     "text": [
      "Epoch [520/600], Train Loss: 0.0679, Val Loss: 0.0647, MSE: 0.0647, SSIM: 0.6051\n"
     ]
    },
    {
     "name": "stderr",
     "output_type": "stream",
     "text": [
      "Training Epoch 521/600: 100%|██████████| 4/4 [00:02<00:00,  1.76it/s]\n",
      "Validating Epoch 521/600: 100%|██████████| 1/1 [00:00<00:00,  2.28it/s]\n"
     ]
    },
    {
     "name": "stdout",
     "output_type": "stream",
     "text": [
      "Epoch [521/600], Train Loss: 0.0667, Val Loss: 0.0579, MSE: 0.0579, SSIM: 0.6521\n"
     ]
    },
    {
     "name": "stderr",
     "output_type": "stream",
     "text": [
      "Training Epoch 522/600: 100%|██████████| 4/4 [00:02<00:00,  1.74it/s]\n",
      "Validating Epoch 522/600: 100%|██████████| 1/1 [00:00<00:00,  2.42it/s]\n"
     ]
    },
    {
     "name": "stdout",
     "output_type": "stream",
     "text": [
      "Epoch [522/600], Train Loss: 0.0662, Val Loss: 0.0704, MSE: 0.0704, SSIM: 0.5960\n"
     ]
    },
    {
     "name": "stderr",
     "output_type": "stream",
     "text": [
      "Training Epoch 523/600: 100%|██████████| 4/4 [00:02<00:00,  1.87it/s]\n",
      "Validating Epoch 523/600: 100%|██████████| 1/1 [00:00<00:00,  2.22it/s]\n"
     ]
    },
    {
     "name": "stdout",
     "output_type": "stream",
     "text": [
      "Epoch [523/600], Train Loss: 0.0643, Val Loss: 0.0579, MSE: 0.0579, SSIM: 0.6768\n"
     ]
    },
    {
     "name": "stderr",
     "output_type": "stream",
     "text": [
      "Training Epoch 524/600: 100%|██████████| 4/4 [00:02<00:00,  1.98it/s]\n",
      "Validating Epoch 524/600: 100%|██████████| 1/1 [00:00<00:00,  2.44it/s]\n"
     ]
    },
    {
     "name": "stdout",
     "output_type": "stream",
     "text": [
      "Epoch [524/600], Train Loss: 0.0653, Val Loss: 0.0688, MSE: 0.0688, SSIM: 0.6166\n"
     ]
    },
    {
     "name": "stderr",
     "output_type": "stream",
     "text": [
      "Training Epoch 525/600: 100%|██████████| 4/4 [00:02<00:00,  1.91it/s]\n",
      "Validating Epoch 525/600: 100%|██████████| 1/1 [00:00<00:00,  2.07it/s]\n"
     ]
    },
    {
     "name": "stdout",
     "output_type": "stream",
     "text": [
      "Epoch [525/600], Train Loss: 0.0686, Val Loss: 0.0601, MSE: 0.0601, SSIM: 0.6440\n"
     ]
    },
    {
     "name": "stderr",
     "output_type": "stream",
     "text": [
      "Training Epoch 526/600: 100%|██████████| 4/4 [00:02<00:00,  1.90it/s]\n",
      "Validating Epoch 526/600: 100%|██████████| 1/1 [00:00<00:00,  2.19it/s]\n"
     ]
    },
    {
     "name": "stdout",
     "output_type": "stream",
     "text": [
      "Epoch [526/600], Train Loss: 0.0672, Val Loss: 0.0635, MSE: 0.0635, SSIM: 0.6282\n"
     ]
    },
    {
     "name": "stderr",
     "output_type": "stream",
     "text": [
      "Training Epoch 527/600: 100%|██████████| 4/4 [00:02<00:00,  1.76it/s]\n",
      "Validating Epoch 527/600: 100%|██████████| 1/1 [00:00<00:00,  1.72it/s]\n"
     ]
    },
    {
     "name": "stdout",
     "output_type": "stream",
     "text": [
      "Epoch [527/600], Train Loss: 0.0646, Val Loss: 0.0550, MSE: 0.0550, SSIM: 0.6668\n"
     ]
    },
    {
     "name": "stderr",
     "output_type": "stream",
     "text": [
      "Training Epoch 528/600: 100%|██████████| 4/4 [00:02<00:00,  1.74it/s]\n",
      "Validating Epoch 528/600: 100%|██████████| 1/1 [00:00<00:00,  2.23it/s]\n"
     ]
    },
    {
     "name": "stdout",
     "output_type": "stream",
     "text": [
      "Epoch [528/600], Train Loss: 0.0659, Val Loss: 0.0630, MSE: 0.0630, SSIM: 0.6224\n"
     ]
    },
    {
     "name": "stderr",
     "output_type": "stream",
     "text": [
      "Training Epoch 529/600: 100%|██████████| 4/4 [00:02<00:00,  1.61it/s]\n",
      "Validating Epoch 529/600: 100%|██████████| 1/1 [00:00<00:00,  1.27it/s]\n"
     ]
    },
    {
     "name": "stdout",
     "output_type": "stream",
     "text": [
      "Epoch [529/600], Train Loss: 0.0654, Val Loss: 0.0627, MSE: 0.0627, SSIM: 0.6288\n"
     ]
    },
    {
     "name": "stderr",
     "output_type": "stream",
     "text": [
      "Training Epoch 530/600: 100%|██████████| 4/4 [00:03<00:00,  1.13it/s]\n",
      "Validating Epoch 530/600: 100%|██████████| 1/1 [00:00<00:00,  1.21it/s]\n"
     ]
    },
    {
     "name": "stdout",
     "output_type": "stream",
     "text": [
      "Epoch [530/600], Train Loss: 0.0646, Val Loss: 0.0619, MSE: 0.0619, SSIM: 0.6400\n"
     ]
    },
    {
     "name": "stderr",
     "output_type": "stream",
     "text": [
      "Training Epoch 531/600: 100%|██████████| 4/4 [00:03<00:00,  1.16it/s]\n",
      "Validating Epoch 531/600: 100%|██████████| 1/1 [00:00<00:00,  1.27it/s]\n"
     ]
    },
    {
     "name": "stdout",
     "output_type": "stream",
     "text": [
      "Epoch [531/600], Train Loss: 0.0635, Val Loss: 0.0644, MSE: 0.0644, SSIM: 0.6269\n"
     ]
    },
    {
     "name": "stderr",
     "output_type": "stream",
     "text": [
      "Training Epoch 532/600: 100%|██████████| 4/4 [00:03<00:00,  1.15it/s]\n",
      "Validating Epoch 532/600: 100%|██████████| 1/1 [00:00<00:00,  1.37it/s]\n"
     ]
    },
    {
     "name": "stdout",
     "output_type": "stream",
     "text": [
      "Epoch [532/600], Train Loss: 0.0647, Val Loss: 0.0695, MSE: 0.0695, SSIM: 0.6002\n"
     ]
    },
    {
     "name": "stderr",
     "output_type": "stream",
     "text": [
      "Training Epoch 533/600: 100%|██████████| 4/4 [00:03<00:00,  1.15it/s]\n",
      "Validating Epoch 533/600: 100%|██████████| 1/1 [00:00<00:00,  1.20it/s]\n"
     ]
    },
    {
     "name": "stdout",
     "output_type": "stream",
     "text": [
      "Epoch [533/600], Train Loss: 0.0649, Val Loss: 0.0683, MSE: 0.0683, SSIM: 0.6021\n"
     ]
    },
    {
     "name": "stderr",
     "output_type": "stream",
     "text": [
      "Training Epoch 534/600: 100%|██████████| 4/4 [00:03<00:00,  1.16it/s]\n",
      "Validating Epoch 534/600: 100%|██████████| 1/1 [00:00<00:00,  1.23it/s]\n"
     ]
    },
    {
     "name": "stdout",
     "output_type": "stream",
     "text": [
      "Epoch [534/600], Train Loss: 0.0662, Val Loss: 0.0631, MSE: 0.0631, SSIM: 0.6242\n"
     ]
    },
    {
     "name": "stderr",
     "output_type": "stream",
     "text": [
      "Training Epoch 535/600: 100%|██████████| 4/4 [00:03<00:00,  1.17it/s]\n",
      "Validating Epoch 535/600: 100%|██████████| 1/1 [00:00<00:00,  1.21it/s]\n"
     ]
    },
    {
     "name": "stdout",
     "output_type": "stream",
     "text": [
      "Epoch [535/600], Train Loss: 0.0623, Val Loss: 0.0576, MSE: 0.0576, SSIM: 0.6679\n"
     ]
    },
    {
     "name": "stderr",
     "output_type": "stream",
     "text": [
      "Training Epoch 536/600: 100%|██████████| 4/4 [00:03<00:00,  1.11it/s]\n",
      "Validating Epoch 536/600: 100%|██████████| 1/1 [00:00<00:00,  1.20it/s]\n"
     ]
    },
    {
     "name": "stdout",
     "output_type": "stream",
     "text": [
      "Epoch [536/600], Train Loss: 0.0677, Val Loss: 0.0600, MSE: 0.0600, SSIM: 0.6490\n"
     ]
    },
    {
     "name": "stderr",
     "output_type": "stream",
     "text": [
      "Training Epoch 537/600: 100%|██████████| 4/4 [00:03<00:00,  1.13it/s]\n",
      "Validating Epoch 537/600: 100%|██████████| 1/1 [00:00<00:00,  1.24it/s]\n"
     ]
    },
    {
     "name": "stdout",
     "output_type": "stream",
     "text": [
      "Epoch [537/600], Train Loss: 0.0610, Val Loss: 0.0635, MSE: 0.0635, SSIM: 0.6384\n"
     ]
    },
    {
     "name": "stderr",
     "output_type": "stream",
     "text": [
      "Training Epoch 538/600: 100%|██████████| 4/4 [00:03<00:00,  1.15it/s]\n",
      "Validating Epoch 538/600: 100%|██████████| 1/1 [00:00<00:00,  1.32it/s]\n"
     ]
    },
    {
     "name": "stdout",
     "output_type": "stream",
     "text": [
      "Epoch [538/600], Train Loss: 0.0628, Val Loss: 0.0542, MSE: 0.0542, SSIM: 0.6715\n"
     ]
    },
    {
     "name": "stderr",
     "output_type": "stream",
     "text": [
      "Training Epoch 539/600: 100%|██████████| 4/4 [00:03<00:00,  1.10it/s]\n",
      "Validating Epoch 539/600: 100%|██████████| 1/1 [00:00<00:00,  1.21it/s]\n"
     ]
    },
    {
     "name": "stdout",
     "output_type": "stream",
     "text": [
      "Epoch [539/600], Train Loss: 0.0668, Val Loss: 0.0594, MSE: 0.0594, SSIM: 0.6455\n"
     ]
    },
    {
     "name": "stderr",
     "output_type": "stream",
     "text": [
      "Training Epoch 540/600: 100%|██████████| 4/4 [00:03<00:00,  1.17it/s]\n",
      "Validating Epoch 540/600: 100%|██████████| 1/1 [00:00<00:00,  1.22it/s]\n"
     ]
    },
    {
     "name": "stdout",
     "output_type": "stream",
     "text": [
      "Epoch [540/600], Train Loss: 0.0620, Val Loss: 0.0740, MSE: 0.0740, SSIM: 0.5906\n"
     ]
    },
    {
     "name": "stderr",
     "output_type": "stream",
     "text": [
      "Training Epoch 541/600: 100%|██████████| 4/4 [00:03<00:00,  1.16it/s]\n",
      "Validating Epoch 541/600: 100%|██████████| 1/1 [00:00<00:00,  1.20it/s]\n"
     ]
    },
    {
     "name": "stdout",
     "output_type": "stream",
     "text": [
      "Epoch [541/600], Train Loss: 0.0668, Val Loss: 0.0546, MSE: 0.0546, SSIM: 0.6783\n"
     ]
    },
    {
     "name": "stderr",
     "output_type": "stream",
     "text": [
      "Training Epoch 542/600: 100%|██████████| 4/4 [00:03<00:00,  1.17it/s]\n",
      "Validating Epoch 542/600: 100%|██████████| 1/1 [00:00<00:00,  1.20it/s]\n"
     ]
    },
    {
     "name": "stdout",
     "output_type": "stream",
     "text": [
      "Epoch [542/600], Train Loss: 0.0667, Val Loss: 0.0592, MSE: 0.0592, SSIM: 0.6439\n"
     ]
    },
    {
     "name": "stderr",
     "output_type": "stream",
     "text": [
      "Training Epoch 543/600: 100%|██████████| 4/4 [00:03<00:00,  1.23it/s]\n",
      "Validating Epoch 543/600: 100%|██████████| 1/1 [00:00<00:00,  1.26it/s]\n"
     ]
    },
    {
     "name": "stdout",
     "output_type": "stream",
     "text": [
      "Epoch [543/600], Train Loss: 0.0648, Val Loss: 0.0551, MSE: 0.0551, SSIM: 0.6745\n"
     ]
    },
    {
     "name": "stderr",
     "output_type": "stream",
     "text": [
      "Training Epoch 544/600: 100%|██████████| 4/4 [00:03<00:00,  1.00it/s]\n",
      "Validating Epoch 544/600: 100%|██████████| 1/1 [00:00<00:00,  1.12it/s]\n"
     ]
    },
    {
     "name": "stdout",
     "output_type": "stream",
     "text": [
      "Epoch [544/600], Train Loss: 0.0647, Val Loss: 0.0648, MSE: 0.0648, SSIM: 0.6204\n"
     ]
    },
    {
     "name": "stderr",
     "output_type": "stream",
     "text": [
      "Training Epoch 545/600: 100%|██████████| 4/4 [00:02<00:00,  1.59it/s]\n",
      "Validating Epoch 545/600: 100%|██████████| 1/1 [00:00<00:00,  1.89it/s]\n"
     ]
    },
    {
     "name": "stdout",
     "output_type": "stream",
     "text": [
      "Epoch [545/600], Train Loss: 0.0659, Val Loss: 0.0697, MSE: 0.0697, SSIM: 0.5932\n"
     ]
    },
    {
     "name": "stderr",
     "output_type": "stream",
     "text": [
      "Training Epoch 546/600: 100%|██████████| 4/4 [00:02<00:00,  1.75it/s]\n",
      "Validating Epoch 546/600: 100%|██████████| 1/1 [00:00<00:00,  2.10it/s]\n"
     ]
    },
    {
     "name": "stdout",
     "output_type": "stream",
     "text": [
      "Epoch [546/600], Train Loss: 0.0645, Val Loss: 0.0498, MSE: 0.0498, SSIM: 0.7040\n"
     ]
    },
    {
     "name": "stderr",
     "output_type": "stream",
     "text": [
      "Training Epoch 547/600: 100%|██████████| 4/4 [00:02<00:00,  1.65it/s]\n",
      "Validating Epoch 547/600: 100%|██████████| 1/1 [00:00<00:00,  1.77it/s]\n"
     ]
    },
    {
     "name": "stdout",
     "output_type": "stream",
     "text": [
      "Epoch [547/600], Train Loss: 0.0623, Val Loss: 0.0583, MSE: 0.0583, SSIM: 0.6511\n"
     ]
    },
    {
     "name": "stderr",
     "output_type": "stream",
     "text": [
      "Training Epoch 548/600: 100%|██████████| 4/4 [00:02<00:00,  1.75it/s]\n",
      "Validating Epoch 548/600: 100%|██████████| 1/1 [00:00<00:00,  2.28it/s]\n"
     ]
    },
    {
     "name": "stdout",
     "output_type": "stream",
     "text": [
      "Epoch [548/600], Train Loss: 0.0611, Val Loss: 0.0655, MSE: 0.0655, SSIM: 0.6289\n"
     ]
    },
    {
     "name": "stderr",
     "output_type": "stream",
     "text": [
      "Training Epoch 549/600: 100%|██████████| 4/4 [00:02<00:00,  1.65it/s]\n",
      "Validating Epoch 549/600: 100%|██████████| 1/1 [00:00<00:00,  2.05it/s]\n"
     ]
    },
    {
     "name": "stdout",
     "output_type": "stream",
     "text": [
      "Epoch [549/600], Train Loss: 0.0640, Val Loss: 0.0539, MSE: 0.0539, SSIM: 0.6957\n"
     ]
    },
    {
     "name": "stderr",
     "output_type": "stream",
     "text": [
      "Training Epoch 550/600: 100%|██████████| 4/4 [00:02<00:00,  1.84it/s]\n",
      "Validating Epoch 550/600: 100%|██████████| 1/1 [00:00<00:00,  1.97it/s]\n"
     ]
    },
    {
     "name": "stdout",
     "output_type": "stream",
     "text": [
      "Epoch [550/600], Train Loss: 0.0610, Val Loss: 0.0558, MSE: 0.0558, SSIM: 0.6825\n"
     ]
    },
    {
     "name": "stderr",
     "output_type": "stream",
     "text": [
      "Training Epoch 551/600: 100%|██████████| 4/4 [00:02<00:00,  1.70it/s]\n",
      "Validating Epoch 551/600: 100%|██████████| 1/1 [00:00<00:00,  1.94it/s]\n"
     ]
    },
    {
     "name": "stdout",
     "output_type": "stream",
     "text": [
      "Epoch [551/600], Train Loss: 0.0613, Val Loss: 0.0605, MSE: 0.0605, SSIM: 0.6539\n"
     ]
    },
    {
     "name": "stderr",
     "output_type": "stream",
     "text": [
      "Training Epoch 552/600: 100%|██████████| 4/4 [00:02<00:00,  1.61it/s]\n",
      "Validating Epoch 552/600: 100%|██████████| 1/1 [00:00<00:00,  1.71it/s]\n"
     ]
    },
    {
     "name": "stdout",
     "output_type": "stream",
     "text": [
      "Epoch [552/600], Train Loss: 0.0652, Val Loss: 0.0604, MSE: 0.0604, SSIM: 0.6555\n"
     ]
    },
    {
     "name": "stderr",
     "output_type": "stream",
     "text": [
      "Training Epoch 553/600: 100%|██████████| 4/4 [00:02<00:00,  1.64it/s]\n",
      "Validating Epoch 553/600: 100%|██████████| 1/1 [00:00<00:00,  2.23it/s]\n"
     ]
    },
    {
     "name": "stdout",
     "output_type": "stream",
     "text": [
      "Epoch [553/600], Train Loss: 0.0679, Val Loss: 0.0599, MSE: 0.0599, SSIM: 0.6477\n"
     ]
    },
    {
     "name": "stderr",
     "output_type": "stream",
     "text": [
      "Training Epoch 554/600: 100%|██████████| 4/4 [00:02<00:00,  1.79it/s]\n",
      "Validating Epoch 554/600: 100%|██████████| 1/1 [00:00<00:00,  2.34it/s]\n"
     ]
    },
    {
     "name": "stdout",
     "output_type": "stream",
     "text": [
      "Epoch [554/600], Train Loss: 0.0670, Val Loss: 0.0662, MSE: 0.0662, SSIM: 0.6015\n"
     ]
    },
    {
     "name": "stderr",
     "output_type": "stream",
     "text": [
      "Training Epoch 555/600: 100%|██████████| 4/4 [00:02<00:00,  1.99it/s]\n",
      "Validating Epoch 555/600: 100%|██████████| 1/1 [00:00<00:00,  1.79it/s]\n"
     ]
    },
    {
     "name": "stdout",
     "output_type": "stream",
     "text": [
      "Epoch [555/600], Train Loss: 0.0661, Val Loss: 0.0601, MSE: 0.0601, SSIM: 0.6357\n"
     ]
    },
    {
     "name": "stderr",
     "output_type": "stream",
     "text": [
      "Training Epoch 556/600: 100%|██████████| 4/4 [00:02<00:00,  1.78it/s]\n",
      "Validating Epoch 556/600: 100%|██████████| 1/1 [00:00<00:00,  1.64it/s]\n"
     ]
    },
    {
     "name": "stdout",
     "output_type": "stream",
     "text": [
      "Epoch [556/600], Train Loss: 0.0677, Val Loss: 0.0642, MSE: 0.0642, SSIM: 0.5962\n"
     ]
    },
    {
     "name": "stderr",
     "output_type": "stream",
     "text": [
      "Training Epoch 557/600: 100%|██████████| 4/4 [00:02<00:00,  1.69it/s]\n",
      "Validating Epoch 557/600: 100%|██████████| 1/1 [00:00<00:00,  2.34it/s]\n"
     ]
    },
    {
     "name": "stdout",
     "output_type": "stream",
     "text": [
      "Epoch [557/600], Train Loss: 0.0662, Val Loss: 0.0639, MSE: 0.0639, SSIM: 0.6146\n"
     ]
    },
    {
     "name": "stderr",
     "output_type": "stream",
     "text": [
      "Training Epoch 558/600: 100%|██████████| 4/4 [00:02<00:00,  1.78it/s]\n",
      "Validating Epoch 558/600: 100%|██████████| 1/1 [00:00<00:00,  2.38it/s]\n"
     ]
    },
    {
     "name": "stdout",
     "output_type": "stream",
     "text": [
      "Epoch [558/600], Train Loss: 0.0658, Val Loss: 0.0620, MSE: 0.0620, SSIM: 0.6384\n"
     ]
    },
    {
     "name": "stderr",
     "output_type": "stream",
     "text": [
      "Training Epoch 559/600: 100%|██████████| 4/4 [00:02<00:00,  1.83it/s]\n",
      "Validating Epoch 559/600: 100%|██████████| 1/1 [00:00<00:00,  2.35it/s]\n"
     ]
    },
    {
     "name": "stdout",
     "output_type": "stream",
     "text": [
      "Epoch [559/600], Train Loss: 0.0690, Val Loss: 0.0574, MSE: 0.0574, SSIM: 0.6632\n"
     ]
    },
    {
     "name": "stderr",
     "output_type": "stream",
     "text": [
      "Training Epoch 560/600: 100%|██████████| 4/4 [00:02<00:00,  1.90it/s]\n",
      "Validating Epoch 560/600: 100%|██████████| 1/1 [00:00<00:00,  2.14it/s]\n"
     ]
    },
    {
     "name": "stdout",
     "output_type": "stream",
     "text": [
      "Epoch [560/600], Train Loss: 0.0655, Val Loss: 0.0692, MSE: 0.0692, SSIM: 0.5895\n"
     ]
    },
    {
     "name": "stderr",
     "output_type": "stream",
     "text": [
      "Training Epoch 561/600: 100%|██████████| 4/4 [00:02<00:00,  1.96it/s]\n",
      "Validating Epoch 561/600: 100%|██████████| 1/1 [00:00<00:00,  2.26it/s]\n"
     ]
    },
    {
     "name": "stdout",
     "output_type": "stream",
     "text": [
      "Epoch [561/600], Train Loss: 0.0670, Val Loss: 0.0581, MSE: 0.0581, SSIM: 0.6609\n"
     ]
    },
    {
     "name": "stderr",
     "output_type": "stream",
     "text": [
      "Training Epoch 562/600: 100%|██████████| 4/4 [00:02<00:00,  1.89it/s]\n",
      "Validating Epoch 562/600: 100%|██████████| 1/1 [00:00<00:00,  2.32it/s]\n"
     ]
    },
    {
     "name": "stdout",
     "output_type": "stream",
     "text": [
      "Epoch [562/600], Train Loss: 0.0667, Val Loss: 0.0595, MSE: 0.0595, SSIM: 0.6447\n"
     ]
    },
    {
     "name": "stderr",
     "output_type": "stream",
     "text": [
      "Training Epoch 563/600: 100%|██████████| 4/4 [00:02<00:00,  1.95it/s]\n",
      "Validating Epoch 563/600: 100%|██████████| 1/1 [00:00<00:00,  1.71it/s]\n"
     ]
    },
    {
     "name": "stdout",
     "output_type": "stream",
     "text": [
      "Epoch [563/600], Train Loss: 0.0665, Val Loss: 0.0615, MSE: 0.0615, SSIM: 0.6434\n"
     ]
    },
    {
     "name": "stderr",
     "output_type": "stream",
     "text": [
      "Training Epoch 564/600: 100%|██████████| 4/4 [00:02<00:00,  1.68it/s]\n",
      "Validating Epoch 564/600: 100%|██████████| 1/1 [00:00<00:00,  1.90it/s]\n"
     ]
    },
    {
     "name": "stdout",
     "output_type": "stream",
     "text": [
      "Epoch [564/600], Train Loss: 0.0626, Val Loss: 0.0662, MSE: 0.0662, SSIM: 0.6068\n"
     ]
    },
    {
     "name": "stderr",
     "output_type": "stream",
     "text": [
      "Training Epoch 565/600: 100%|██████████| 4/4 [00:02<00:00,  1.77it/s]\n",
      "Validating Epoch 565/600: 100%|██████████| 1/1 [00:00<00:00,  2.12it/s]\n"
     ]
    },
    {
     "name": "stdout",
     "output_type": "stream",
     "text": [
      "Epoch [565/600], Train Loss: 0.0634, Val Loss: 0.0715, MSE: 0.0715, SSIM: 0.6028\n"
     ]
    },
    {
     "name": "stderr",
     "output_type": "stream",
     "text": [
      "Training Epoch 566/600: 100%|██████████| 4/4 [00:02<00:00,  1.82it/s]\n",
      "Validating Epoch 566/600: 100%|██████████| 1/1 [00:00<00:00,  1.73it/s]\n"
     ]
    },
    {
     "name": "stdout",
     "output_type": "stream",
     "text": [
      "Epoch [566/600], Train Loss: 0.0648, Val Loss: 0.0685, MSE: 0.0685, SSIM: 0.6086\n"
     ]
    },
    {
     "name": "stderr",
     "output_type": "stream",
     "text": [
      "Training Epoch 567/600: 100%|██████████| 4/4 [00:02<00:00,  1.79it/s]\n",
      "Validating Epoch 567/600: 100%|██████████| 1/1 [00:00<00:00,  1.82it/s]\n"
     ]
    },
    {
     "name": "stdout",
     "output_type": "stream",
     "text": [
      "Epoch [567/600], Train Loss: 0.0627, Val Loss: 0.0566, MSE: 0.0566, SSIM: 0.6755\n"
     ]
    },
    {
     "name": "stderr",
     "output_type": "stream",
     "text": [
      "Training Epoch 568/600: 100%|██████████| 4/4 [00:02<00:00,  1.76it/s]\n",
      "Validating Epoch 568/600: 100%|██████████| 1/1 [00:00<00:00,  2.34it/s]\n"
     ]
    },
    {
     "name": "stdout",
     "output_type": "stream",
     "text": [
      "Epoch [568/600], Train Loss: 0.0625, Val Loss: 0.0683, MSE: 0.0683, SSIM: 0.5877\n"
     ]
    },
    {
     "name": "stderr",
     "output_type": "stream",
     "text": [
      "Training Epoch 569/600: 100%|██████████| 4/4 [00:02<00:00,  1.95it/s]\n",
      "Validating Epoch 569/600: 100%|██████████| 1/1 [00:00<00:00,  1.93it/s]\n"
     ]
    },
    {
     "name": "stdout",
     "output_type": "stream",
     "text": [
      "Epoch [569/600], Train Loss: 0.0648, Val Loss: 0.0695, MSE: 0.0695, SSIM: 0.5974\n"
     ]
    },
    {
     "name": "stderr",
     "output_type": "stream",
     "text": [
      "Training Epoch 570/600: 100%|██████████| 4/4 [00:02<00:00,  1.89it/s]\n",
      "Validating Epoch 570/600: 100%|██████████| 1/1 [00:00<00:00,  2.04it/s]\n"
     ]
    },
    {
     "name": "stdout",
     "output_type": "stream",
     "text": [
      "Epoch [570/600], Train Loss: 0.0673, Val Loss: 0.0614, MSE: 0.0614, SSIM: 0.6402\n"
     ]
    },
    {
     "name": "stderr",
     "output_type": "stream",
     "text": [
      "Training Epoch 571/600: 100%|██████████| 4/4 [00:02<00:00,  1.66it/s]\n",
      "Validating Epoch 571/600: 100%|██████████| 1/1 [00:00<00:00,  1.78it/s]\n"
     ]
    },
    {
     "name": "stdout",
     "output_type": "stream",
     "text": [
      "Epoch [571/600], Train Loss: 0.0637, Val Loss: 0.0608, MSE: 0.0608, SSIM: 0.6457\n"
     ]
    },
    {
     "name": "stderr",
     "output_type": "stream",
     "text": [
      "Training Epoch 572/600: 100%|██████████| 4/4 [00:02<00:00,  1.61it/s]\n",
      "Validating Epoch 572/600: 100%|██████████| 1/1 [00:00<00:00,  1.86it/s]\n"
     ]
    },
    {
     "name": "stdout",
     "output_type": "stream",
     "text": [
      "Epoch [572/600], Train Loss: 0.0626, Val Loss: 0.0557, MSE: 0.0557, SSIM: 0.6769\n"
     ]
    },
    {
     "name": "stderr",
     "output_type": "stream",
     "text": [
      "Training Epoch 573/600: 100%|██████████| 4/4 [00:02<00:00,  1.58it/s]\n",
      "Validating Epoch 573/600: 100%|██████████| 1/1 [00:00<00:00,  2.02it/s]\n"
     ]
    },
    {
     "name": "stdout",
     "output_type": "stream",
     "text": [
      "Epoch [573/600], Train Loss: 0.0641, Val Loss: 0.0575, MSE: 0.0575, SSIM: 0.6567\n"
     ]
    },
    {
     "name": "stderr",
     "output_type": "stream",
     "text": [
      "Training Epoch 574/600: 100%|██████████| 4/4 [00:02<00:00,  1.75it/s]\n",
      "Validating Epoch 574/600: 100%|██████████| 1/1 [00:00<00:00,  2.52it/s]\n"
     ]
    },
    {
     "name": "stdout",
     "output_type": "stream",
     "text": [
      "Epoch [574/600], Train Loss: 0.0614, Val Loss: 0.0609, MSE: 0.0609, SSIM: 0.6344\n"
     ]
    },
    {
     "name": "stderr",
     "output_type": "stream",
     "text": [
      "Training Epoch 575/600: 100%|██████████| 4/4 [00:02<00:00,  1.82it/s]\n",
      "Validating Epoch 575/600: 100%|██████████| 1/1 [00:00<00:00,  2.24it/s]\n"
     ]
    },
    {
     "name": "stdout",
     "output_type": "stream",
     "text": [
      "Epoch [575/600], Train Loss: 0.0659, Val Loss: 0.0564, MSE: 0.0564, SSIM: 0.6730\n"
     ]
    },
    {
     "name": "stderr",
     "output_type": "stream",
     "text": [
      "Training Epoch 576/600: 100%|██████████| 4/4 [00:03<00:00,  1.30it/s]\n",
      "Validating Epoch 576/600: 100%|██████████| 1/1 [00:00<00:00,  1.26it/s]\n"
     ]
    },
    {
     "name": "stdout",
     "output_type": "stream",
     "text": [
      "Epoch [576/600], Train Loss: 0.0635, Val Loss: 0.0610, MSE: 0.0610, SSIM: 0.6496\n"
     ]
    },
    {
     "name": "stderr",
     "output_type": "stream",
     "text": [
      "Training Epoch 577/600: 100%|██████████| 4/4 [00:03<00:00,  1.17it/s]\n",
      "Validating Epoch 577/600: 100%|██████████| 1/1 [00:00<00:00,  1.30it/s]\n"
     ]
    },
    {
     "name": "stdout",
     "output_type": "stream",
     "text": [
      "Epoch [577/600], Train Loss: 0.0643, Val Loss: 0.0611, MSE: 0.0611, SSIM: 0.6356\n"
     ]
    },
    {
     "name": "stderr",
     "output_type": "stream",
     "text": [
      "Training Epoch 578/600: 100%|██████████| 4/4 [00:03<00:00,  1.20it/s]\n",
      "Validating Epoch 578/600: 100%|██████████| 1/1 [00:00<00:00,  1.18it/s]\n"
     ]
    },
    {
     "name": "stdout",
     "output_type": "stream",
     "text": [
      "Epoch [578/600], Train Loss: 0.0611, Val Loss: 0.0776, MSE: 0.0776, SSIM: 0.5758\n"
     ]
    },
    {
     "name": "stderr",
     "output_type": "stream",
     "text": [
      "Training Epoch 579/600: 100%|██████████| 4/4 [00:03<00:00,  1.18it/s]\n",
      "Validating Epoch 579/600: 100%|██████████| 1/1 [00:00<00:00,  1.28it/s]\n"
     ]
    },
    {
     "name": "stdout",
     "output_type": "stream",
     "text": [
      "Epoch [579/600], Train Loss: 0.0669, Val Loss: 0.0596, MSE: 0.0596, SSIM: 0.6516\n"
     ]
    },
    {
     "name": "stderr",
     "output_type": "stream",
     "text": [
      "Training Epoch 580/600: 100%|██████████| 4/4 [00:03<00:00,  1.26it/s]\n",
      "Validating Epoch 580/600: 100%|██████████| 1/1 [00:00<00:00,  1.27it/s]\n"
     ]
    },
    {
     "name": "stdout",
     "output_type": "stream",
     "text": [
      "Epoch [580/600], Train Loss: 0.0631, Val Loss: 0.0615, MSE: 0.0615, SSIM: 0.6482\n"
     ]
    },
    {
     "name": "stderr",
     "output_type": "stream",
     "text": [
      "Training Epoch 581/600: 100%|██████████| 4/4 [00:03<00:00,  1.29it/s]\n",
      "Validating Epoch 581/600: 100%|██████████| 1/1 [00:00<00:00,  1.30it/s]\n"
     ]
    },
    {
     "name": "stdout",
     "output_type": "stream",
     "text": [
      "Epoch [581/600], Train Loss: 0.0659, Val Loss: 0.0664, MSE: 0.0664, SSIM: 0.6034\n"
     ]
    },
    {
     "name": "stderr",
     "output_type": "stream",
     "text": [
      "Training Epoch 582/600: 100%|██████████| 4/4 [00:03<00:00,  1.14it/s]\n",
      "Validating Epoch 582/600: 100%|██████████| 1/1 [00:00<00:00,  1.22it/s]\n"
     ]
    },
    {
     "name": "stdout",
     "output_type": "stream",
     "text": [
      "Epoch [582/600], Train Loss: 0.0659, Val Loss: 0.0625, MSE: 0.0625, SSIM: 0.6144\n"
     ]
    },
    {
     "name": "stderr",
     "output_type": "stream",
     "text": [
      "Training Epoch 583/600: 100%|██████████| 4/4 [00:03<00:00,  1.13it/s]\n",
      "Validating Epoch 583/600: 100%|██████████| 1/1 [00:00<00:00,  1.31it/s]\n"
     ]
    },
    {
     "name": "stdout",
     "output_type": "stream",
     "text": [
      "Epoch [583/600], Train Loss: 0.0668, Val Loss: 0.0621, MSE: 0.0621, SSIM: 0.6505\n"
     ]
    },
    {
     "name": "stderr",
     "output_type": "stream",
     "text": [
      "Training Epoch 584/600: 100%|██████████| 4/4 [00:03<00:00,  1.15it/s]\n",
      "Validating Epoch 584/600: 100%|██████████| 1/1 [00:00<00:00,  1.20it/s]\n"
     ]
    },
    {
     "name": "stdout",
     "output_type": "stream",
     "text": [
      "Epoch [584/600], Train Loss: 0.0658, Val Loss: 0.0724, MSE: 0.0724, SSIM: 0.5776\n"
     ]
    },
    {
     "name": "stderr",
     "output_type": "stream",
     "text": [
      "Training Epoch 585/600: 100%|██████████| 4/4 [00:03<00:00,  1.12it/s]\n",
      "Validating Epoch 585/600: 100%|██████████| 1/1 [00:00<00:00,  1.16it/s]\n"
     ]
    },
    {
     "name": "stdout",
     "output_type": "stream",
     "text": [
      "Epoch [585/600], Train Loss: 0.0637, Val Loss: 0.0639, MSE: 0.0639, SSIM: 0.6431\n"
     ]
    },
    {
     "name": "stderr",
     "output_type": "stream",
     "text": [
      "Training Epoch 586/600: 100%|██████████| 4/4 [00:03<00:00,  1.11it/s]\n",
      "Validating Epoch 586/600: 100%|██████████| 1/1 [00:00<00:00,  1.18it/s]\n"
     ]
    },
    {
     "name": "stdout",
     "output_type": "stream",
     "text": [
      "Epoch [586/600], Train Loss: 0.0669, Val Loss: 0.0551, MSE: 0.0551, SSIM: 0.6792\n"
     ]
    },
    {
     "name": "stderr",
     "output_type": "stream",
     "text": [
      "Training Epoch 587/600: 100%|██████████| 4/4 [00:03<00:00,  1.23it/s]\n",
      "Validating Epoch 587/600: 100%|██████████| 1/1 [00:00<00:00,  1.28it/s]\n"
     ]
    },
    {
     "name": "stdout",
     "output_type": "stream",
     "text": [
      "Epoch [587/600], Train Loss: 0.0657, Val Loss: 0.0644, MSE: 0.0644, SSIM: 0.6164\n"
     ]
    },
    {
     "name": "stderr",
     "output_type": "stream",
     "text": [
      "Training Epoch 588/600: 100%|██████████| 4/4 [00:03<00:00,  1.23it/s]\n",
      "Validating Epoch 588/600: 100%|██████████| 1/1 [00:00<00:00,  1.40it/s]\n"
     ]
    },
    {
     "name": "stdout",
     "output_type": "stream",
     "text": [
      "Epoch [588/600], Train Loss: 0.0641, Val Loss: 0.0723, MSE: 0.0723, SSIM: 0.5840\n"
     ]
    },
    {
     "name": "stderr",
     "output_type": "stream",
     "text": [
      "Training Epoch 589/600: 100%|██████████| 4/4 [00:03<00:00,  1.28it/s]\n",
      "Validating Epoch 589/600: 100%|██████████| 1/1 [00:00<00:00,  1.32it/s]\n"
     ]
    },
    {
     "name": "stdout",
     "output_type": "stream",
     "text": [
      "Epoch [589/600], Train Loss: 0.0665, Val Loss: 0.0646, MSE: 0.0646, SSIM: 0.6062\n"
     ]
    },
    {
     "name": "stderr",
     "output_type": "stream",
     "text": [
      "Training Epoch 590/600: 100%|██████████| 4/4 [00:03<00:00,  1.27it/s]\n",
      "Validating Epoch 590/600: 100%|██████████| 1/1 [00:00<00:00,  1.22it/s]\n"
     ]
    },
    {
     "name": "stdout",
     "output_type": "stream",
     "text": [
      "Epoch [590/600], Train Loss: 0.0649, Val Loss: 0.0741, MSE: 0.0741, SSIM: 0.5601\n"
     ]
    },
    {
     "name": "stderr",
     "output_type": "stream",
     "text": [
      "Training Epoch 591/600: 100%|██████████| 4/4 [00:03<00:00,  1.23it/s]\n",
      "Validating Epoch 591/600: 100%|██████████| 1/1 [00:00<00:00,  1.39it/s]\n"
     ]
    },
    {
     "name": "stdout",
     "output_type": "stream",
     "text": [
      "Epoch [591/600], Train Loss: 0.0649, Val Loss: 0.0570, MSE: 0.0570, SSIM: 0.6663\n"
     ]
    },
    {
     "name": "stderr",
     "output_type": "stream",
     "text": [
      "Training Epoch 592/600: 100%|██████████| 4/4 [00:03<00:00,  1.26it/s]\n",
      "Validating Epoch 592/600: 100%|██████████| 1/1 [00:00<00:00,  1.34it/s]\n"
     ]
    },
    {
     "name": "stdout",
     "output_type": "stream",
     "text": [
      "Epoch [592/600], Train Loss: 0.0660, Val Loss: 0.0616, MSE: 0.0616, SSIM: 0.6299\n"
     ]
    },
    {
     "name": "stderr",
     "output_type": "stream",
     "text": [
      "Training Epoch 593/600: 100%|██████████| 4/4 [00:03<00:00,  1.27it/s]\n",
      "Validating Epoch 593/600: 100%|██████████| 1/1 [00:00<00:00,  1.32it/s]\n"
     ]
    },
    {
     "name": "stdout",
     "output_type": "stream",
     "text": [
      "Epoch [593/600], Train Loss: 0.0627, Val Loss: 0.0624, MSE: 0.0624, SSIM: 0.6253\n"
     ]
    },
    {
     "name": "stderr",
     "output_type": "stream",
     "text": [
      "Training Epoch 594/600: 100%|██████████| 4/4 [00:03<00:00,  1.24it/s]\n",
      "Validating Epoch 594/600: 100%|██████████| 1/1 [00:00<00:00,  1.20it/s]\n"
     ]
    },
    {
     "name": "stdout",
     "output_type": "stream",
     "text": [
      "Epoch [594/600], Train Loss: 0.0644, Val Loss: 0.0527, MSE: 0.0527, SSIM: 0.6792\n"
     ]
    },
    {
     "name": "stderr",
     "output_type": "stream",
     "text": [
      "Training Epoch 595/600: 100%|██████████| 4/4 [00:03<00:00,  1.20it/s]\n",
      "Validating Epoch 595/600: 100%|██████████| 1/1 [00:00<00:00,  1.37it/s]\n"
     ]
    },
    {
     "name": "stdout",
     "output_type": "stream",
     "text": [
      "Epoch [595/600], Train Loss: 0.0650, Val Loss: 0.0659, MSE: 0.0659, SSIM: 0.6121\n"
     ]
    },
    {
     "name": "stderr",
     "output_type": "stream",
     "text": [
      "Training Epoch 596/600: 100%|██████████| 4/4 [00:03<00:00,  1.23it/s]\n",
      "Validating Epoch 596/600: 100%|██████████| 1/1 [00:00<00:00,  1.26it/s]\n"
     ]
    },
    {
     "name": "stdout",
     "output_type": "stream",
     "text": [
      "Epoch [596/600], Train Loss: 0.0668, Val Loss: 0.0531, MSE: 0.0531, SSIM: 0.6743\n"
     ]
    },
    {
     "name": "stderr",
     "output_type": "stream",
     "text": [
      "Training Epoch 597/600: 100%|██████████| 4/4 [00:03<00:00,  1.16it/s]\n",
      "Validating Epoch 597/600: 100%|██████████| 1/1 [00:00<00:00,  1.24it/s]\n"
     ]
    },
    {
     "name": "stdout",
     "output_type": "stream",
     "text": [
      "Epoch [597/600], Train Loss: 0.0627, Val Loss: 0.0686, MSE: 0.0686, SSIM: 0.6252\n"
     ]
    },
    {
     "name": "stderr",
     "output_type": "stream",
     "text": [
      "Training Epoch 598/600: 100%|██████████| 4/4 [00:03<00:00,  1.19it/s]\n",
      "Validating Epoch 598/600: 100%|██████████| 1/1 [00:00<00:00,  1.22it/s]\n"
     ]
    },
    {
     "name": "stdout",
     "output_type": "stream",
     "text": [
      "Epoch [598/600], Train Loss: 0.0644, Val Loss: 0.0516, MSE: 0.0516, SSIM: 0.6979\n"
     ]
    },
    {
     "name": "stderr",
     "output_type": "stream",
     "text": [
      "Training Epoch 599/600: 100%|██████████| 4/4 [00:03<00:00,  1.16it/s]\n",
      "Validating Epoch 599/600: 100%|██████████| 1/1 [00:00<00:00,  1.33it/s]\n"
     ]
    },
    {
     "name": "stdout",
     "output_type": "stream",
     "text": [
      "Epoch [599/600], Train Loss: 0.0622, Val Loss: 0.0650, MSE: 0.0650, SSIM: 0.6410\n"
     ]
    },
    {
     "name": "stderr",
     "output_type": "stream",
     "text": [
      "Training Epoch 600/600: 100%|██████████| 4/4 [00:03<00:00,  1.22it/s]\n",
      "Validating Epoch 600/600: 100%|██████████| 1/1 [00:00<00:00,  1.25it/s]\n"
     ]
    },
    {
     "name": "stdout",
     "output_type": "stream",
     "text": [
      "Epoch [600/600], Train Loss: 0.0653, Val Loss: 0.0657, MSE: 0.0657, SSIM: 0.6070\n"
     ]
    }
   ],
   "source": [
    "import copy\n",
    "from torch.optim.lr_scheduler import CosineAnnealingLR\n",
    "\n",
    "\n",
    "model = DenoisingAutoencoder().to(device)\n",
    "optimizer = optim.Adam(model.parameters(), lr=0.001)\n",
    "scheduler = CosineAnnealingLR(optimizer, T_max=10, eta_min=0.0001)\n",
    "\n",
    "training_data = train_and_evaluate_autoencoder(model, train_loader, val_loader, optimizer, scheduler, num_epochs=600)\n",
    "save_model_and_results(model, 'denoising_autoencoder', training_data)\n",
    "\n"
   ]
  },
  {
   "cell_type": "code",
   "execution_count": 36,
   "metadata": {},
   "outputs": [],
   "source": [
    "import os\n",
    "import torch\n",
    "import torchvision.utils as vutils\n",
    "from torchvision import transforms\n",
    "from PIL import Image\n",
    "\n",
    "def run_inference_and_save_images(model, test_loader, device, output_dir='output_images'):\n",
    "    \"\"\"\n",
    "    Run inference on test data and save the resulting images to a specified directory.\n",
    "\n",
    "    Args:\n",
    "        model: The trained model for inference.\n",
    "        test_loader: DataLoader object containing the test dataset.\n",
    "        device: The device (CPU or GPU) to run the model on.\n",
    "        output_dir: Directory where the output images will be saved.\n",
    "    \"\"\"\n",
    "    # Create output directory if it doesn't exist\n",
    "    if not os.path.exists(output_dir):\n",
    "        os.makedirs(output_dir)\n",
    "\n",
    "    # Set model to evaluation mode\n",
    "    model.eval()\n",
    "\n",
    "    # Disable gradient calculation for inference\n",
    "    with torch.no_grad():\n",
    "        for batch_idx, (inputs, _) in enumerate(test_loader):\n",
    "            # Move inputs to the specified device (e.g., GPU if available)\n",
    "            inputs = inputs.to(device)\n",
    "\n",
    "            # Run inference (model prediction)\n",
    "            outputs = model(inputs)\n",
    "\n",
    "            # Assuming the output is a batch of images, we process and save them\n",
    "            for i, output in enumerate(outputs):\n",
    "                # Convert the tensor output to PIL Image for saving\n",
    "                output_image = transforms.ToPILImage()(output.cpu())\n",
    "\n",
    "                # Construct the output file path\n",
    "                output_file = os.path.join(output_dir, f'output_{batch_idx}_{i}.png')\n",
    "\n",
    "                # Save the image\n",
    "                output_image.save(output_file)\n",
    "\n",
    "                print(f'Saved image: {output_file}')\n",
    "\n"
   ]
  },
  {
   "cell_type": "code",
   "execution_count": 37,
   "metadata": {},
   "outputs": [
    {
     "name": "stderr",
     "output_type": "stream",
     "text": [
      "C:\\Users\\yibor\\AppData\\Local\\Temp\\ipykernel_34048\\2162444770.py:4: FutureWarning: You are using `torch.load` with `weights_only=False` (the current default value), which uses the default pickle module implicitly. It is possible to construct malicious pickle data which will execute arbitrary code during unpickling (See https://github.com/pytorch/pytorch/blob/main/SECURITY.md#untrusted-models for more details). In a future release, the default value for `weights_only` will be flipped to `True`. This limits the functions that could be executed during unpickling. Arbitrary objects will no longer be allowed to be loaded via this mode unless they are explicitly allowlisted by the user via `torch.serialization.add_safe_globals`. We recommend you start setting `weights_only=True` for any use case where you don't have full control of the loaded file. Please open an issue on GitHub for any issues related to this experimental feature.\n",
      "  model.load_state_dict(torch.load('denoising_autoencoder_model.pth'))\n"
     ]
    },
    {
     "data": {
      "text/plain": [
       "<All keys matched successfully>"
      ]
     },
     "execution_count": 37,
     "metadata": {},
     "output_type": "execute_result"
    }
   ],
   "source": [
    "# load saved model\n",
    "device = torch.device('cuda' if torch.cuda.is_available() else 'cpu')\n",
    "model = DenoisingAutoencoder().to(device)\n",
    "model.load_state_dict(torch.load('denoising_autoencoder_model.pth'))"
   ]
  },
  {
   "cell_type": "code",
   "execution_count": 39,
   "metadata": {},
   "outputs": [
    {
     "name": "stdout",
     "output_type": "stream",
     "text": [
      "Saved image: output_images\\output_0_0.png\n",
      "Saved image: output_images\\output_0_1.png\n",
      "Saved image: output_images\\output_0_2.png\n",
      "Saved image: output_images\\output_0_3.png\n",
      "Saved image: output_images\\output_0_4.png\n",
      "Saved image: output_images\\output_0_5.png\n",
      "Saved image: output_images\\output_0_6.png\n",
      "Saved image: output_images\\output_0_7.png\n",
      "Saved image: output_images\\output_0_8.png\n",
      "Saved image: output_images\\output_0_9.png\n",
      "Saved image: output_images\\output_0_10.png\n",
      "Saved image: output_images\\output_0_11.png\n",
      "Saved image: output_images\\output_0_12.png\n",
      "Saved image: output_images\\output_0_13.png\n",
      "Saved image: output_images\\output_0_14.png\n",
      "Saved image: output_images\\output_0_15.png\n",
      "Saved image: output_images\\output_0_16.png\n",
      "Saved image: output_images\\output_0_17.png\n",
      "Saved image: output_images\\output_0_18.png\n",
      "Saved image: output_images\\output_0_19.png\n",
      "Saved image: output_images\\output_0_20.png\n",
      "Saved image: output_images\\output_0_21.png\n",
      "Saved image: output_images\\output_0_22.png\n",
      "Saved image: output_images\\output_0_23.png\n",
      "Saved image: output_images\\output_0_24.png\n",
      "Saved image: output_images\\output_0_25.png\n",
      "Saved image: output_images\\output_0_26.png\n",
      "Saved image: output_images\\output_0_27.png\n",
      "Saved image: output_images\\output_0_28.png\n",
      "Saved image: output_images\\output_0_29.png\n",
      "Saved image: output_images\\output_0_30.png\n",
      "Saved image: output_images\\output_0_31.png\n",
      "Saved image: output_images\\output_1_0.png\n",
      "Saved image: output_images\\output_1_1.png\n",
      "Saved image: output_images\\output_1_2.png\n",
      "Saved image: output_images\\output_1_3.png\n",
      "Saved image: output_images\\output_1_4.png\n",
      "Saved image: output_images\\output_1_5.png\n",
      "Saved image: output_images\\output_1_6.png\n",
      "Saved image: output_images\\output_1_7.png\n",
      "Saved image: output_images\\output_1_8.png\n",
      "Saved image: output_images\\output_1_9.png\n",
      "Saved image: output_images\\output_1_10.png\n",
      "Saved image: output_images\\output_1_11.png\n",
      "Saved image: output_images\\output_1_12.png\n",
      "Saved image: output_images\\output_1_13.png\n",
      "Saved image: output_images\\output_1_14.png\n",
      "Saved image: output_images\\output_1_15.png\n",
      "Saved image: output_images\\output_1_16.png\n",
      "Saved image: output_images\\output_1_17.png\n",
      "Saved image: output_images\\output_1_18.png\n",
      "Saved image: output_images\\output_1_19.png\n",
      "Saved image: output_images\\output_1_20.png\n",
      "Saved image: output_images\\output_1_21.png\n",
      "Saved image: output_images\\output_1_22.png\n",
      "Saved image: output_images\\output_1_23.png\n",
      "Saved image: output_images\\output_1_24.png\n",
      "Saved image: output_images\\output_1_25.png\n",
      "Saved image: output_images\\output_1_26.png\n",
      "Saved image: output_images\\output_1_27.png\n",
      "Saved image: output_images\\output_1_28.png\n",
      "Saved image: output_images\\output_1_29.png\n",
      "Saved image: output_images\\output_1_30.png\n",
      "Saved image: output_images\\output_1_31.png\n",
      "Saved image: output_images\\output_2_0.png\n",
      "Saved image: output_images\\output_2_1.png\n",
      "Saved image: output_images\\output_2_2.png\n",
      "Saved image: output_images\\output_2_3.png\n",
      "Saved image: output_images\\output_2_4.png\n",
      "Saved image: output_images\\output_2_5.png\n",
      "Saved image: output_images\\output_2_6.png\n",
      "Saved image: output_images\\output_2_7.png\n"
     ]
    }
   ],
   "source": [
    "run_inference_and_save_images(model, test_loader, device)\n"
   ]
  },
  {
   "cell_type": "code",
   "execution_count": null,
   "metadata": {},
   "outputs": [],
   "source": []
  }
 ],
 "metadata": {
  "kernelspec": {
   "display_name": "myenv",
   "language": "python",
   "name": "python3"
  },
  "language_info": {
   "codemirror_mode": {
    "name": "ipython",
    "version": 3
   },
   "file_extension": ".py",
   "mimetype": "text/x-python",
   "name": "python",
   "nbconvert_exporter": "python",
   "pygments_lexer": "ipython3",
   "version": "3.9.19"
  }
 },
 "nbformat": 4,
 "nbformat_minor": 2
}
